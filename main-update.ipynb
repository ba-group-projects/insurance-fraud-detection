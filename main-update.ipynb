{
 "cells": [
  {
   "cell_type": "markdown",
   "metadata": {},
   "source": [
    "#### Import Packages"
   ]
  },
  {
   "cell_type": "code",
   "execution_count": 1,
   "metadata": {},
   "outputs": [
    {
     "ename": "ModuleNotFoundError",
     "evalue": "No module named 'numpy'",
     "output_type": "error",
     "traceback": [
      "\u001b[0;31m---------------------------------------------------------------------------\u001b[0m",
      "\u001b[0;31mModuleNotFoundError\u001b[0m                       Traceback (most recent call last)",
      "Input \u001b[0;32mIn [1]\u001b[0m, in \u001b[0;36m<cell line: 1>\u001b[0;34m()\u001b[0m\n\u001b[0;32m----> 1\u001b[0m \u001b[38;5;28;01mimport\u001b[39;00m \u001b[38;5;21;01mnumpy\u001b[39;00m \u001b[38;5;28;01mas\u001b[39;00m \u001b[38;5;21;01mnp\u001b[39;00m\n\u001b[1;32m      2\u001b[0m \u001b[38;5;28;01mimport\u001b[39;00m \u001b[38;5;21;01mseaborn\u001b[39;00m \u001b[38;5;28;01mas\u001b[39;00m \u001b[38;5;21;01msns\u001b[39;00m\n\u001b[1;32m      3\u001b[0m \u001b[38;5;28;01mimport\u001b[39;00m \u001b[38;5;21;01mpandas\u001b[39;00m \u001b[38;5;28;01mas\u001b[39;00m \u001b[38;5;21;01mpd\u001b[39;00m\n",
      "\u001b[0;31mModuleNotFoundError\u001b[0m: No module named 'numpy'"
     ]
    }
   ],
   "source": [
    "import numpy as np\n",
    "import seaborn as sns\n",
    "import pandas as pd\n",
    "import matplotlib.pyplot as plt\n",
    "import datetime \n",
    "from sklearn.preprocessing import MinMaxScaler\n",
    "from sklearn.model_selection import train_test_split\n",
    "import imblearn\n",
    "from collections import Counter\n",
    "import matplotlib.pyplot as plt\n",
    "from sklearn.metrics import confusion_matrix\n",
    "import tensorflow as tf\n",
    "from tensorboard.plugins.hparams import api as hp\n",
    "from sklearn.metrics import accuracy_score, f1_score, recall_score, precision_score,roc_auc_score,roc_curve\n",
    "import statsmodels.api as sm\n",
    "import keras_tuner as kt\n",
    "import seaborn as sns"
   ]
  },
  {
   "cell_type": "markdown",
   "metadata": {},
   "source": [
    "# Question 1\n",
    "### Question\n",
    "Briefly discuss why it is more difficult to find a good classifier on such a dataset than on one where, for example, 5,000 claims are fraudulent, and 5,000 are not. In particular, consider what happens when undetected fraudulent claims are very costly to the insurance company.\n",
    "\n",
    "### Answer\n",
    "When the dataset in highly unbalanced, like what in the car-insurance case, the machine learning algorithm can predict well in the majority class and predict poorly in minority class. Since most of machine learning algorithm always pursue to decrease error rate, thus they tend to predict the all the label to majority class one. In our scenario, the algorithm tends to predict all the claims non-fraudulent. However, the wrong prediction will increase the False-negative rate, which will increase the cost of fraudulent claims.\n",
    "Another issue related to the scarce minority data is that we might miss some key combination of variables that has high probability to be fraudulent."
   ]
  },
  {
   "cell_type": "markdown",
   "metadata": {},
   "source": [
    "Check how much NaN values in each column when the claim is frandulent.\n",
    "We can find when the claim is frandulent, most of the numerical variables are not missing, which means we could directly drop them."
   ]
  },
  {
   "cell_type": "code",
   "execution_count": 256,
   "metadata": {},
   "outputs": [],
   "source": [
    "# check the range of all variables and drop unreasonable numbers\n",
    "# split first and scale with smote code\n",
    "# check scale first or smote first\n",
    "# validation loss and trainning loss\n",
    "# the batch size is 32\n",
    "# TODO train test validation\n",
    "# check the roc curve\n",
    "# hidden layer number\n",
    "# claim involved cover\n",
    "# TODO clear session andv set seeds #FIXME\n",
    "# TODO sensebility_at_spec\n",
    "# TODO set seeds before \n",
    "# TODO model summary\n",
    "# TODO save model \n",
    "\n",
    "# TO ASK\n",
    "# How to select the best model?"
   ]
  },
  {
   "cell_type": "markdown",
   "metadata": {},
   "source": [
    "# Question 2\n",
    "\n",
    "### TODO    \n",
    "calculate the number of policyholdersnumber and vehicle number\n",
    "\n",
    "### Question\n",
    "Load the dataset \"Insurance_claims.csv\" and clean it as appropriate for use with machine learning algorithms. A description of the features can be found at the end of this document.\n",
    "\n",
    "### Principle\n",
    "1. Since the dataset is highly unbalanced, and the fraudulent dataset is very scarce, we don't want to drop the data label with 'fradulent'.\n",
    "2. When the variables is categorical varibles, we tend to keep the Nah value as a classificaiton value rather than drop it.\n",
    "3. When the variables is numerical variables, we will check how many NaN values is related to the fraudulent case. If few of them, we will drop the variable. Otherwise, we will find a way to fill in the NaN values.\n",
    "\n",
    "### Proprocess procedure\n",
    "1. load data and select useful columns\n",
    "2. drop duplicates\n",
    "3. drop unreasonable rows\n",
    "4. deal with nan data\n",
    "    - deal with the categorical nan data\n",
    "    - deal with the numerical nan data\n",
    "5. deal with date data\n",
    "6. get an insight of the distribution of dataset\n",
    "    - check whether there is a signicicant distribution difference in every column in fraud data and non-fraud data\n",
    "7. clean features\n",
    "    - dummy\n",
    "      - PolicyholderOccupation\n",
    "      - ClaimCause\n",
    "      - ClaimInvolvedCovers\n",
    "      - DamageImportance\n",
    "      - FirstPartyVehicleType \n",
    "      - ConnectionBetweenParties\n",
    "      - PolicyWasSubscribedOnInternet\n",
    "    - extract features in 'ClaimInvolvedCovers'\n",
    "    - outlier # TODO\n",
    "8. split data and scale\n",
    "9.  show the data structure after preprocess\n",
    "\n"
   ]
  },
  {
   "cell_type": "markdown",
   "metadata": {},
   "source": [
    "## 2.1 Load data and select useful columns\n",
    "We are going to use the following features to predict the fraud cases:\n",
    "1. PolicyholderOccupation\n",
    "2. LossDate\n",
    "3. FirstPolicySubscriptionDate\n",
    "4. ClainType\n",
    "5. ClaimInvolvedCovers\n",
    "6. DamageImportance\n",
    "7. FirstPartyVehicleType\n",
    "8. ConnectionBetweenParties\n",
    "9. PolicyWasSubscribedOnInternet\n",
    "10. NumberOfPoliciesOfPolicyholder\n",
    "11. FpVehicleAgeMonths\n",
    "12. EasinessToStage\n",
    "13. ClaimWihoutIdentifiedThirdParty\n",
    "14. ClaimAmount\n",
    "15. LossHour\n",
    "16. PolicyHolderAge\n",
    "17. NumberOfBodilyInjuries\n",
    "18. FirstPartyLiability\n",
    "19. LossAndHolderPostCodeSame\n",
    "\n",
    "And we also need label:\n",
    "1. Fraud"
   ]
  },
  {
   "cell_type": "code",
   "execution_count": 257,
   "metadata": {},
   "outputs": [
    {
     "name": "stdout",
     "output_type": "stream",
     "text": [
      "Data sample:\n",
      "  PolicyholderOccupation  LossDate FirstPolicySubscriptionDate  \\\n",
      "0           CivilServant  02.01.19                    18.06.18   \n",
      "1                 Worker  02.01.19                    29.06.17   \n",
      "2                 Worker  02.01.19                    05.02.17   \n",
      "3           CivilServant  02.01.19                    21.01.17   \n",
      "4                 Farmer  02.01.19                    13.01.18   \n",
      "\n",
      "                         ClaimCause  \\\n",
      "0               CollisionWithAnimal   \n",
      "1                     LossOfControl   \n",
      "2  AccidentWithIdentifiedThirdParty   \n",
      "3  AccidentWithIdentifiedThirdParty   \n",
      "4  AccidentWithIdentifiedThirdParty   \n",
      "\n",
      "                               ClaimInvolvedCovers DamageImportance  \\\n",
      "0                     MaterialDamages ActLiability              NaN   \n",
      "1                     MaterialDamages ActLiability              NaN   \n",
      "2                     MaterialDamages ActLiability              NaN   \n",
      "3  MaterialDamages ActLiability ReplacementVehicle              NaN   \n",
      "4                                     ActLiability              NaN   \n",
      "\n",
      "  FirstPartyVehicleType ConnectionBetweenParties  \\\n",
      "0                   Car                      NaN   \n",
      "1                   Car                      NaN   \n",
      "2                   Car                      NaN   \n",
      "3                   Car                      NaN   \n",
      "4                   Car                      NaN   \n",
      "\n",
      "   PolicyWasSubscribedOnInternet  NumberOfPoliciesOfPolicyholder  \\\n",
      "0                              1                               1   \n",
      "1                              0                               3   \n",
      "2                              0                               9   \n",
      "3                              0                               2   \n",
      "4                              0                               4   \n",
      "\n",
      "   FpVehicleAgeMonths  EasinessToStage  ClaimWihoutIdentifiedThirdParty  \\\n",
      "0               104.0             0.25                                1   \n",
      "1               230.0             0.50                                1   \n",
      "2                93.0             0.25                                0   \n",
      "3                56.0             0.25                                0   \n",
      "4               110.0             0.25                                0   \n",
      "\n",
      "   ClaimAmount  LossHour  PolicyHolderAge  NumberOfBodilyInjuries  \\\n",
      "0      4624.73       8.0             45.0                       0   \n",
      "1      1606.81      11.0             20.0                       0   \n",
      "2       998.20      18.0             32.0                       0   \n",
      "3      2506.92      11.0             46.0                       0   \n",
      "4        12.00      12.0             28.0                       0   \n",
      "\n",
      "   FirstPartyLiability  LossAndHolderPostCodeSame  Fraud  \n",
      "0                  1.0                          1      0  \n",
      "1                  1.0                          0      0  \n",
      "2                  0.5                          1      0  \n",
      "3                  0.5                          1      0  \n",
      "4                  0.0                          0      0  \n",
      "-----------------------------------------------------\n",
      "Data Columns:\n",
      "Index(['PolicyholderOccupation', 'LossDate', 'FirstPolicySubscriptionDate',\n",
      "       'ClaimCause', 'ClaimInvolvedCovers', 'DamageImportance',\n",
      "       'FirstPartyVehicleType', 'ConnectionBetweenParties',\n",
      "       'PolicyWasSubscribedOnInternet', 'NumberOfPoliciesOfPolicyholder',\n",
      "       'FpVehicleAgeMonths', 'EasinessToStage',\n",
      "       'ClaimWihoutIdentifiedThirdParty', 'ClaimAmount', 'LossHour',\n",
      "       'PolicyHolderAge', 'NumberOfBodilyInjuries', 'FirstPartyLiability',\n",
      "       'LossAndHolderPostCodeSame', 'Fraud'],\n",
      "      dtype='object')\n",
      "-----------------------------------------------------\n",
      "Data description:\n",
      "       PolicyWasSubscribedOnInternet  NumberOfPoliciesOfPolicyholder  \\\n",
      "count                   11530.000000                    11530.000000   \n",
      "mean                        0.205551                        2.231830   \n",
      "std                         0.404121                        1.690804   \n",
      "min                         0.000000                        1.000000   \n",
      "25%                         0.000000                        1.000000   \n",
      "50%                         0.000000                        2.000000   \n",
      "75%                         0.000000                        3.000000   \n",
      "max                         1.000000                       18.000000   \n",
      "\n",
      "       FpVehicleAgeMonths  EasinessToStage  ClaimWihoutIdentifiedThirdParty  \\\n",
      "count        11518.000000     11530.000000                     11530.000000   \n",
      "mean           113.445390         0.377593                         0.685863   \n",
      "std             73.622026         0.139479                         0.464191   \n",
      "min             -4.000000         0.000000                         0.000000   \n",
      "25%             52.000000         0.250000                         0.000000   \n",
      "50%            108.000000         0.500000                         1.000000   \n",
      "75%            162.000000         0.500000                         1.000000   \n",
      "max            652.000000         0.500000                         1.000000   \n",
      "\n",
      "        ClaimAmount      LossHour  PolicyHolderAge  NumberOfBodilyInjuries  \\\n",
      "count  11530.000000  11436.000000     11494.000000            11530.000000   \n",
      "mean    1409.463023      8.265128        44.575083                0.028187   \n",
      "std     2672.349310      7.407462        15.218107                0.200147   \n",
      "min        0.000000      0.000000        18.000000                0.000000   \n",
      "25%      288.085000      0.000000        32.000000                0.000000   \n",
      "50%      755.900000      9.000000        43.000000                0.000000   \n",
      "75%     1500.000000     15.000000        56.000000                0.000000   \n",
      "max    64696.000000     23.000000        90.000000                5.000000   \n",
      "\n",
      "       FirstPartyLiability  LossAndHolderPostCodeSame         Fraud  \n",
      "count         11530.000000               11530.000000  11530.000000  \n",
      "mean              0.208066                   0.566609      0.009974  \n",
      "std               0.402509                   0.495565      0.099375  \n",
      "min               0.000000                   0.000000      0.000000  \n",
      "25%               0.000000                   0.000000      0.000000  \n",
      "50%               0.000000                   1.000000      0.000000  \n",
      "75%               0.000000                   1.000000      0.000000  \n",
      "max               1.000000                   1.000000      1.000000  \n",
      "-----------------------------------------------------\n",
      "Data duplicated rows:\n",
      "14\n",
      "-----------------------------------------------------\n"
     ]
    }
   ],
   "source": [
    "# read data and get a brief idea of the data\n",
    "df = pd.read_csv('./materials/Insurance_claims.csv')\n",
    "# get useful features that needed in the machine learning model\n",
    "# TODO using nlp to insurer notes data\n",
    "needed_columns = [ 'PolicyholderOccupation',\n",
    "       'LossDate', 'FirstPolicySubscriptionDate', 'ClaimCause',\n",
    "       'ClaimInvolvedCovers', 'DamageImportance', 'FirstPartyVehicleType',\n",
    "       'ConnectionBetweenParties', 'PolicyWasSubscribedOnInternet',\n",
    "       'NumberOfPoliciesOfPolicyholder', 'FpVehicleAgeMonths',\n",
    "       'EasinessToStage', 'ClaimWihoutIdentifiedThirdParty', 'ClaimAmount',\n",
    "       'LossHour', 'PolicyHolderAge', 'NumberOfBodilyInjuries',\n",
    "       'FirstPartyLiability', 'LossAndHolderPostCodeSame','Fraud']\n",
    "df = df[needed_columns]\n",
    "\n",
    "# show the first 5 rows, get some idea of the data structure\n",
    "print(f'Data sample:')\n",
    "print(df.head(5)) #TODO use sentiment analysis \n",
    "print('-----------------------------------------------------')\n",
    "\n",
    "# get the columns name\n",
    "print('Data Columns:')\n",
    "print(str(df.columns))\n",
    "print('-----------------------------------------------------')\n",
    "\n",
    "# get some basic information about the data, and we found that the min number \n",
    "# of FpVehicleAgeMonths is less than 0, which does't make sense. We are going \n",
    "# to detect whether these rows are fraud cases or not. If they are all non-fraud,\n",
    "# we can drop the rows with negative FpVehicleAgeMonths value. Otherwise, we will \n",
    "# create a new feature that record these abnormal rows since these unreasonable \n",
    "# values might be evidence of fraud cases.\n",
    "print('Data description:')\n",
    "print(df.describe())\n",
    "print('-----------------------------------------------------')\n",
    "\n",
    "# check whether there are any duplicated rows and we found there are 8 duplicated rows,\n",
    "# which we are going to drop.\n",
    "print('Data duplicated rows:')\n",
    "print(df.duplicated().sum())\n",
    "print('-----------------------------------------------------')"
   ]
  },
  {
   "cell_type": "markdown",
   "metadata": {},
   "source": [
    "## 2.2 Drop the duplicated rows"
   ]
  },
  {
   "cell_type": "code",
   "execution_count": 258,
   "metadata": {},
   "outputs": [
    {
     "name": "stdout",
     "output_type": "stream",
     "text": [
      "The shape of the data before dropping duplicated rows:\n",
      "(11530, 20)\n",
      "-----------------------------------------------------\n",
      "The shape of the data after dropping duplicated rows:\n",
      "(11516, 20)\n",
      "-----------------------------------------------------\n",
      "The number of rows that are dropped: 14\n"
     ]
    }
   ],
   "source": [
    "print('The shape of the data before dropping duplicated rows:')\n",
    "df_shape_before_drop = df.shape\n",
    "print(df.shape)\n",
    "print('-----------------------------------------------------')\n",
    "\n",
    "# drop the duplicated rows\n",
    "df.drop_duplicates(inplace=True)\n",
    "\n",
    "print('The shape of the data after dropping duplicated rows:')\n",
    "df_shape_after_drop = df.shape\n",
    "print(df.shape)\n",
    "print('-----------------------------------------------------')\n",
    "\n",
    "print(f'The number of rows that are dropped: {df_shape_before_drop[0]-df_shape_after_drop[0]}')"
   ]
  },
  {
   "cell_type": "markdown",
   "metadata": {},
   "source": [
    "## 2.3 Drop unreasonable values\n"
   ]
  },
  {
   "cell_type": "code",
   "execution_count": 259,
   "metadata": {},
   "outputs": [
    {
     "name": "stdout",
     "output_type": "stream",
     "text": [
      "     PolicyholderOccupation  LossDate FirstPolicySubscriptionDate  \\\n",
      "8019                Retired  24.06.20                    22.10.19   \n",
      "8446                Retired  21.07.20                    26.02.20   \n",
      "8529                Retired  17.07.20                    26.02.20   \n",
      "\n",
      "            ClaimCause           ClaimInvolvedCovers DamageImportance  \\\n",
      "8019     LossOfControl  MaterialDamages ActLiability              NaN   \n",
      "8446     LossOfControl  MaterialDamages ActLiability              NaN   \n",
      "8529  WindscreenDamage                    Windscreen              NaN   \n",
      "\n",
      "     FirstPartyVehicleType ConnectionBetweenParties  \\\n",
      "8019                   Car                      NaN   \n",
      "8446                   Car                      NaN   \n",
      "8529                   Car                      NaN   \n",
      "\n",
      "      PolicyWasSubscribedOnInternet  NumberOfPoliciesOfPolicyholder  \\\n",
      "8019                              0                               2   \n",
      "8446                              0                               4   \n",
      "8529                              0                               4   \n",
      "\n",
      "      FpVehicleAgeMonths  EasinessToStage  ClaimWihoutIdentifiedThirdParty  \\\n",
      "8019                -1.0              0.5                                1   \n",
      "8446                -4.0              0.5                                1   \n",
      "8529                -4.0              0.5                                1   \n",
      "\n",
      "      ClaimAmount  LossHour  PolicyHolderAge  NumberOfBodilyInjuries  \\\n",
      "8019      3806.61      14.0             71.0                       0   \n",
      "8446      2819.11      14.0             72.0                       0   \n",
      "8529      1323.53       0.0             72.0                       0   \n",
      "\n",
      "      FirstPartyLiability  LossAndHolderPostCodeSame  Fraud  \n",
      "8019                  1.0                          1      0  \n",
      "8446                  1.0                          1      0  \n",
      "8529                  0.0                          1      0  \n",
      "-----------------------------------------------------\n",
      "The number of rows that are dropped: 3\n"
     ]
    }
   ],
   "source": [
    "# check whether unreasonable rows contain fraud cases\n",
    "df_unreasonable_rows = df[df['FpVehicleAgeMonths'] < 0]\n",
    "df_shape_before_drop = df_unreasonable_rows.shape\n",
    "print(df_unreasonable_rows)\n",
    "print('-----------------------------------------------------')\n",
    "# we can find that these three rows are not fraud cases. \n",
    "# Since we have enough non-fraud data, we can drop these rows.\n",
    "df_shape_before_drop = df.shape\n",
    "df.drop(df_unreasonable_rows.index, inplace=True)\n",
    "df_shape_after_drop = df.shape\n",
    "\n",
    "print(f'The number of rows that are dropped: {df_shape_before_drop[0]-df_shape_after_drop[0]}')"
   ]
  },
  {
   "cell_type": "markdown",
   "metadata": {},
   "source": [
    "## 2.4 Deal with NaN data\n",
    "Check how much NaN values in each column.\n",
    "\n",
    "We can find that except for 'FirstPartyVehicleNumber', 'ThirdPartyVehicleNumber', 'InsurerNotes', which we might not use in our models, most the NaN values are concentrated in the 'PolicyholderOccupation', 'ClaimCause',etc which are mainly categorical variables. In this case, we could turn these NaN values into a category value in order to take account the influence of missing variables, no mather what reason they are missing.\n",
    "\n",
    "In terms of the numeric variables, we will furtherly check how many of them are missing when the claim is fraudulent or not. "
   ]
  },
  {
   "cell_type": "code",
   "execution_count": 260,
   "metadata": {},
   "outputs": [
    {
     "name": "stdout",
     "output_type": "stream",
     "text": [
      "Number of NaN values in each column:\n",
      "PolicyholderOccupation               340\n",
      "LossDate                               0\n",
      "FirstPolicySubscriptionDate            0\n",
      "ClaimCause                           191\n",
      "ClaimInvolvedCovers                  189\n",
      "DamageImportance                   10775\n",
      "FirstPartyVehicleType                 12\n",
      "ConnectionBetweenParties           11415\n",
      "PolicyWasSubscribedOnInternet          0\n",
      "NumberOfPoliciesOfPolicyholder         0\n",
      "FpVehicleAgeMonths                    12\n",
      "EasinessToStage                        0\n",
      "ClaimWihoutIdentifiedThirdParty        0\n",
      "ClaimAmount                            0\n",
      "LossHour                              94\n",
      "PolicyHolderAge                       36\n",
      "NumberOfBodilyInjuries                 0\n",
      "FirstPartyLiability                    0\n",
      "LossAndHolderPostCodeSame              0\n",
      "Fraud                                  0\n",
      "dtype: int64\n"
     ]
    }
   ],
   "source": [
    "# Check how much NaN values in each column.\n",
    "print(f'Number of NaN values in each column:') \n",
    "print(df.isnull().sum())"
   ]
  },
  {
   "cell_type": "markdown",
   "metadata": {},
   "source": [
    "We can find that in the Fraud case, there are a lot of data missing in categorical columns, but few in numerical columns.\n",
    "\n",
    "Thus, we can set NaN as a category of categorical data and generate dummy variables. And we can drop the rows that contains NaN values in numerical columns."
   ]
  },
  {
   "cell_type": "code",
   "execution_count": 261,
   "metadata": {},
   "outputs": [
    {
     "name": "stdout",
     "output_type": "stream",
     "text": [
      "Number of NaN values in each column when Frand is True:\n",
      "PolicyholderOccupation               4\n",
      "LossDate                             0\n",
      "FirstPolicySubscriptionDate          0\n",
      "ClaimCause                           0\n",
      "ClaimInvolvedCovers                  0\n",
      "DamageImportance                    96\n",
      "FirstPartyVehicleType                2\n",
      "ConnectionBetweenParties           102\n",
      "PolicyWasSubscribedOnInternet        0\n",
      "NumberOfPoliciesOfPolicyholder       0\n",
      "FpVehicleAgeMonths                   2\n",
      "EasinessToStage                      0\n",
      "ClaimWihoutIdentifiedThirdParty      0\n",
      "ClaimAmount                          0\n",
      "LossHour                             1\n",
      "PolicyHolderAge                      0\n",
      "NumberOfBodilyInjuries               0\n",
      "FirstPartyLiability                  0\n",
      "LossAndHolderPostCodeSame            0\n",
      "Fraud                                0\n",
      "dtype: int64\n"
     ]
    }
   ],
   "source": [
    "# Check the number of missing data when Frand is True\n",
    "df_fraud = df[df[\"Fraud\"]==1]\n",
    "print(f'Number of NaN values in each column when Frand is True:') \n",
    "print(df_fraud.isnull().sum())"
   ]
  },
  {
   "cell_type": "code",
   "execution_count": 262,
   "metadata": {},
   "outputs": [
    {
     "name": "stdout",
     "output_type": "stream",
     "text": [
      "Number of NaN values in each column when Frand is False:\n",
      "PolicyholderOccupation               336\n",
      "LossDate                               0\n",
      "FirstPolicySubscriptionDate            0\n",
      "ClaimCause                           191\n",
      "ClaimInvolvedCovers                  189\n",
      "DamageImportance                   10679\n",
      "FirstPartyVehicleType                 10\n",
      "ConnectionBetweenParties           11313\n",
      "PolicyWasSubscribedOnInternet          0\n",
      "NumberOfPoliciesOfPolicyholder         0\n",
      "FpVehicleAgeMonths                    10\n",
      "EasinessToStage                        0\n",
      "ClaimWihoutIdentifiedThirdParty        0\n",
      "ClaimAmount                            0\n",
      "LossHour                              93\n",
      "PolicyHolderAge                       36\n",
      "NumberOfBodilyInjuries                 0\n",
      "FirstPartyLiability                    0\n",
      "LossAndHolderPostCodeSame              0\n",
      "Fraud                                  0\n",
      "dtype: int64\n"
     ]
    }
   ],
   "source": [
    "df_non_frand = df[df[\"Fraud\"]==0]\n",
    "print(f'Number of NaN values in each column when Frand is False:')\n",
    "print(df_non_frand.isnull().sum())"
   ]
  },
  {
   "cell_type": "markdown",
   "metadata": {},
   "source": [
    "Fill the missing data in categorical columns with string NaN and make it a category"
   ]
  },
  {
   "cell_type": "code",
   "execution_count": 263,
   "metadata": {},
   "outputs": [],
   "source": [
    "dummy_columns = ['PolicyholderOccupation', 'ClaimCause','ClaimInvolvedCovers', 'DamageImportance', 'FirstPartyVehicleType','ConnectionBetweenParties', 'PolicyWasSubscribedOnInternet']\n",
    "df[dummy_columns] = df[dummy_columns].fillna('NaN')"
   ]
  },
  {
   "cell_type": "markdown",
   "metadata": {},
   "source": [
    "Drop the missing data in numerical columns"
   ]
  },
  {
   "cell_type": "code",
   "execution_count": 264,
   "metadata": {},
   "outputs": [
    {
     "name": "stdout",
     "output_type": "stream",
     "text": [
      "The number of rows that are dropped: 142\n",
      "The number of rows that are dropped when Frand is True: 3\n"
     ]
    }
   ],
   "source": [
    "df_shape_before_drop = df.shape\n",
    "df_fraud_shape_before_drop = df[df[\"Fraud\"]==1].shape\n",
    "df.dropna(subset=[\"LossHour\",\"PolicyHolderAge\",\"FpVehicleAgeMonths\"],inplace=True)\n",
    "df_shape_after_drop = df.shape\n",
    "df_fraud_shape_after_drop = df[df[\"Fraud\"]==1].shape\n",
    "print(f'The number of rows that are dropped: {df_shape_before_drop[0]-df_shape_after_drop[0]}')\n",
    "print(f'The number of rows that are dropped when Frand is True: {df_fraud_shape_before_drop[0]-df_fraud_shape_after_drop[0]}')"
   ]
  },
  {
   "cell_type": "markdown",
   "metadata": {},
   "source": [
    "After these steps, we don't have any missing data."
   ]
  },
  {
   "cell_type": "code",
   "execution_count": 265,
   "metadata": {},
   "outputs": [
    {
     "name": "stdout",
     "output_type": "stream",
     "text": [
      "The number of NaN values in each column:\n",
      "-----------------------------------------------------\n",
      "The shape of final datasets:\n",
      "(11371, 20)\n",
      "-----------------------------------------------------\n",
      "Data sample:\n",
      "  PolicyholderOccupation  LossDate FirstPolicySubscriptionDate  \\\n",
      "0           CivilServant  02.01.19                    18.06.18   \n",
      "1                 Worker  02.01.19                    29.06.17   \n",
      "2                 Worker  02.01.19                    05.02.17   \n",
      "3           CivilServant  02.01.19                    21.01.17   \n",
      "4                 Farmer  02.01.19                    13.01.18   \n",
      "\n",
      "                         ClaimCause  \\\n",
      "0               CollisionWithAnimal   \n",
      "1                     LossOfControl   \n",
      "2  AccidentWithIdentifiedThirdParty   \n",
      "3  AccidentWithIdentifiedThirdParty   \n",
      "4  AccidentWithIdentifiedThirdParty   \n",
      "\n",
      "                               ClaimInvolvedCovers DamageImportance  \\\n",
      "0                     MaterialDamages ActLiability              NaN   \n",
      "1                     MaterialDamages ActLiability              NaN   \n",
      "2                     MaterialDamages ActLiability              NaN   \n",
      "3  MaterialDamages ActLiability ReplacementVehicle              NaN   \n",
      "4                                     ActLiability              NaN   \n",
      "\n",
      "  FirstPartyVehicleType ConnectionBetweenParties  \\\n",
      "0                   Car                      NaN   \n",
      "1                   Car                      NaN   \n",
      "2                   Car                      NaN   \n",
      "3                   Car                      NaN   \n",
      "4                   Car                      NaN   \n",
      "\n",
      "   PolicyWasSubscribedOnInternet  NumberOfPoliciesOfPolicyholder  \\\n",
      "0                              1                               1   \n",
      "1                              0                               3   \n",
      "2                              0                               9   \n",
      "3                              0                               2   \n",
      "4                              0                               4   \n",
      "\n",
      "   FpVehicleAgeMonths  EasinessToStage  ClaimWihoutIdentifiedThirdParty  \\\n",
      "0               104.0             0.25                                1   \n",
      "1               230.0             0.50                                1   \n",
      "2                93.0             0.25                                0   \n",
      "3                56.0             0.25                                0   \n",
      "4               110.0             0.25                                0   \n",
      "\n",
      "   ClaimAmount  LossHour  PolicyHolderAge  NumberOfBodilyInjuries  \\\n",
      "0      4624.73       8.0             45.0                       0   \n",
      "1      1606.81      11.0             20.0                       0   \n",
      "2       998.20      18.0             32.0                       0   \n",
      "3      2506.92      11.0             46.0                       0   \n",
      "4        12.00      12.0             28.0                       0   \n",
      "\n",
      "   FirstPartyLiability  LossAndHolderPostCodeSame  Fraud  \n",
      "0                  1.0                          1      0  \n",
      "1                  1.0                          0      0  \n",
      "2                  0.5                          1      0  \n",
      "3                  0.5                          1      0  \n",
      "4                  0.0                          0      0  \n",
      "-----------------------------------------------------\n"
     ]
    }
   ],
   "source": [
    "print('The number of NaN values in each column:')\n",
    "df.isna().sum()\n",
    "print('-----------------------------------------------------')\n",
    "\n",
    "print('The shape of final datasets:')\n",
    "print(df.shape)\n",
    "print('-----------------------------------------------------')\n",
    "\n",
    "print(\"Data sample:\")\n",
    "print(df.head(5))\n",
    "print('-----------------------------------------------------')"
   ]
  },
  {
   "cell_type": "markdown",
   "metadata": {},
   "source": [
    "## 2.5 Deal with date data\n",
    "We tend to consider the date data as important features. Because we consider that in different time period, people might have different tendency to defraud. And this argument is supported by Pascal Blanque(2002), who asserted that the economic crisis is an important reason for the defraud.\n",
    "\n",
    "However, our date data is datetime format, which cannot be used in machine learning model. In hence, we will convert the date data into timestamp."
   ]
  },
  {
   "cell_type": "code",
   "execution_count": 266,
   "metadata": {},
   "outputs": [],
   "source": [
    "# turn the date into timestamp\n",
    "df['LossDate'] = df['LossDate'].apply(lambda x:datetime.datetime.strptime(x,'%d.%M.%y').timestamp())\n",
    "df['FirstPolicySubscriptionDate'] = df['FirstPolicySubscriptionDate'].apply(lambda x:datetime.datetime.strptime(x,'%d.%M.%y').timestamp())"
   ]
  },
  {
   "cell_type": "markdown",
   "metadata": {},
   "source": [
    "## 2.6 Get an insight of the distribution of dataset"
   ]
  },
  {
   "cell_type": "markdown",
   "metadata": {},
   "source": [
    "According to the distribution of the numerical data, we can see that there are some diffenece between the fraud and non-fraud cases, especially in the distribution of 'FpVehicleAgeMonths' and 'claimAmount'. In the fraud cases, they usually have a more disperse distribution in 'FpVehicleAgeMonths' and higher value in 'claimAmount'. \n",
    "\n",
    "And in the categorical data, we can find some interesting patterns. For example, in the fraud cases, the percentage of 'TotalLoss' is much higher than the non-fraud cases, which is understandable. And in the fraud cases, the fraud cases tend to be same address between two parties."
   ]
  },
  {
   "cell_type": "code",
   "execution_count": 267,
   "metadata": {},
   "outputs": [
    {
     "name": "stdout",
     "output_type": "stream",
     "text": [
      "The mean of fraud datasets:\n",
      "-----------------------------------------------------\n",
      "LossDate                           1.557971e+09\n",
      "FirstPolicySubscriptionDate        1.546519e+09\n",
      "PolicyWasSubscribedOnInternet      2.857143e-01\n",
      "NumberOfPoliciesOfPolicyholder     1.625000e+00\n",
      "FpVehicleAgeMonths                 1.177143e+02\n",
      "EasinessToStage                    3.464286e-01\n",
      "ClaimWihoutIdentifiedThirdParty    5.625000e-01\n",
      "ClaimAmount                        3.647878e+03\n",
      "LossHour                           1.292857e+01\n",
      "PolicyHolderAge                    4.104464e+01\n",
      "NumberOfBodilyInjuries             3.571429e-02\n",
      "FirstPartyLiability                4.910714e-01\n",
      "LossAndHolderPostCodeSame          6.160714e-01\n",
      "Fraud                              1.000000e+00\n",
      "dtype: float64\n",
      "-----------------------------------------------------\n",
      "The mean of non-fraud datasets:\n",
      "-----------------------------------------------------\n",
      "LossDate                           1.564733e+09\n",
      "FirstPolicySubscriptionDate        1.523620e+09\n",
      "PolicyWasSubscribedOnInternet      2.037481e-01\n",
      "NumberOfPoliciesOfPolicyholder     2.242828e+00\n",
      "FpVehicleAgeMonths                 1.136111e+02\n",
      "EasinessToStage                    3.780842e-01\n",
      "ClaimWihoutIdentifiedThirdParty    6.861178e-01\n",
      "ClaimAmount                        1.383297e+03\n",
      "LossHour                           8.231815e+00\n",
      "PolicyHolderAge                    4.461249e+01\n",
      "NumberOfBodilyInjuries             2.788880e-02\n",
      "FirstPartyLiability                2.040146e-01\n",
      "LossAndHolderPostCodeSame          5.652367e-01\n",
      "Fraud                              0.000000e+00\n",
      "dtype: float64\n",
      "-----------------------------------------------------\n"
     ]
    },
    {
     "name": "stderr",
     "output_type": "stream",
     "text": [
      "/opt/anaconda3/envs/smm768/lib/python3.7/site-packages/ipykernel_launcher.py:8: FutureWarning: Dropping of nuisance columns in DataFrame reductions (with 'numeric_only=None') is deprecated; in a future version this will raise TypeError.  Select only valid columns before calling the reduction.\n",
      "  \n",
      "/opt/anaconda3/envs/smm768/lib/python3.7/site-packages/ipykernel_launcher.py:14: FutureWarning: Dropping of nuisance columns in DataFrame reductions (with 'numeric_only=None') is deprecated; in a future version this will raise TypeError.  Select only valid columns before calling the reduction.\n",
      "  \n"
     ]
    }
   ],
   "source": [
    "# get the datasets that are fraud cases and non-fraud cases\n",
    "df_fraud = df[df['Fraud'] == 1]\n",
    "df_non_fraud = df[df['Fraud'] == 0]\n",
    "\n",
    "# get the mean of both datasets\n",
    "print('The mean of fraud datasets:')\n",
    "print('-----------------------------------------------------')\n",
    "df_fraud_mean = df_fraud.mean()\n",
    "print(df_fraud_mean)\n",
    "print('-----------------------------------------------------')\n",
    "\n",
    "print('The mean of non-fraud datasets:')\n",
    "print('-----------------------------------------------------')\n",
    "df_non_fraud_mean = df_non_fraud.mean()\n",
    "print(df_non_fraud_mean)\n",
    "print('-----------------------------------------------------')"
   ]
  },
  {
   "cell_type": "code",
   "execution_count": 268,
   "metadata": {},
   "outputs": [
    {
     "name": "stdout",
     "output_type": "stream",
     "text": [
      "The distribution numerical data of fraud datasets:\n"
     ]
    },
    {
     "data": {
      "image/png": "[encoded data removed]",
      "text/plain": [
       "<Figure size 1440x1080 with 16 Axes>"
      ]
     },
     "metadata": {
      "needs_background": "light"
     },
     "output_type": "display_data"
    },
    {
     "name": "stdout",
     "output_type": "stream",
     "text": [
      "-----------------------------------------------------\n",
      "The distribution numerical data of non-fraud datasets:\n"
     ]
    },
    {
     "data": {
      "image/png": "[encoded data removed]",
      "text/plain": [
       "<Figure size 1440x1080 with 16 Axes>"
      ]
     },
     "metadata": {
      "needs_background": "light"
     },
     "output_type": "display_data"
    }
   ],
   "source": [
    "# plot the distribution of fraud datasets\n",
    "print('The distribution numerical data of fraud datasets:')\n",
    "df_fraud.iloc[:,:-1].hist(bins=50, figsize=(20,15),density=True, xlabelsize=10, ylabelsize=10) #TODO add title\n",
    "plt.show()\n",
    "print('-----------------------------------------------------')\n",
    "\n",
    "# plot the distribution of non-fraud datasets\n",
    "print('The distribution numerical data of non-fraud datasets:')\n",
    "df_non_fraud.iloc[:,:-1].hist(bins=50, figsize=(20,15),density=True, xlabelsize=10, ylabelsize=10)\n",
    "plt.show()\n",
    "\n",
    "# TODO show the classification of categorical data"
   ]
  },
  {
   "cell_type": "code",
   "execution_count": 269,
   "metadata": {},
   "outputs": [
    {
     "data": {
      "image/png": "[encoded data removed]",
      "text/plain": [
       "<Figure size 1440x720 with 1 Axes>"
      ]
     },
     "metadata": {
      "needs_background": "light"
     },
     "output_type": "display_data"
    },
    {
     "data": {
      "image/png": "[encoded data removed]",
      "text/plain": [
       "<Figure size 1440x720 with 1 Axes>"
      ]
     },
     "metadata": {
      "needs_background": "light"
     },
     "output_type": "display_data"
    },
    {
     "data": {
      "image/png": "[encoded data removed]",
      "text/plain": [
       "<Figure size 1440x720 with 1 Axes>"
      ]
     },
     "metadata": {
      "needs_background": "light"
     },
     "output_type": "display_data"
    },
    {
     "data": {
      "image/png": "[encoded data removed]",
      "text/plain": [
       "<Figure size 1440x720 with 1 Axes>"
      ]
     },
     "metadata": {
      "needs_background": "light"
     },
     "output_type": "display_data"
    },
    {
     "data": {
      "image/png": "[encoded data removed]",
      "text/plain": [
       "<Figure size 1440x720 with 1 Axes>"
      ]
     },
     "metadata": {
      "needs_background": "light"
     },
     "output_type": "display_data"
    },
    {
     "data": {
      "image/png": "[encoded data removed]",
      "text/plain": [
       "<Figure size 1440x720 with 1 Axes>"
      ]
     },
     "metadata": {
      "needs_background": "light"
     },
     "output_type": "display_data"
    }
   ],
   "source": [
    "dummy_columns = ['PolicyholderOccupation', 'ClaimCause', 'DamageImportance', 'FirstPartyVehicleType','ConnectionBetweenParties', 'PolicyWasSubscribedOnInternet']\n",
    "\n",
    "names = locals()\n",
    "for i, col in enumerate(dummy_columns):\n",
    "    names[f\"ax_{i}\"] = df.groupby(['Fraud'])[col].value_counts(normalize=True).unstack().plot(kind='bar', stacked=True, figsize=(20,10),title=f\"Fig {i+1}\")"
   ]
  },
  {
   "cell_type": "markdown",
   "metadata": {},
   "source": [
    "## 2.7 Clean features\n",
    "1. deal with outliers \n",
    "    The presence of outliers in the data is a major problem for machine learning algorithms (Chakravarty, et al., 2020). \n",
    "    TODO: deal with outliers, or at the end to illustrate the lackness of the research\n",
    "   \n",
    "     \n",
    "2. dummy variables"
   ]
  },
  {
   "cell_type": "code",
   "execution_count": 270,
   "metadata": {},
   "outputs": [
    {
     "data": {
      "text/html": [
       "<div>\n",
       "<style scoped>\n",
       "    .dataframe tbody tr th:only-of-type {\n",
       "        vertical-align: middle;\n",
       "    }\n",
       "\n",
       "    .dataframe tbody tr th {\n",
       "        vertical-align: top;\n",
       "    }\n",
       "\n",
       "    .dataframe thead th {\n",
       "        text-align: right;\n",
       "    }\n",
       "</style>\n",
       "<table border=\"1\" class=\"dataframe\">\n",
       "  <thead>\n",
       "    <tr style=\"text-align: right;\">\n",
       "      <th></th>\n",
       "      <th>LossDate</th>\n",
       "      <th>FirstPolicySubscriptionDate</th>\n",
       "      <th>ClaimInvolvedCovers</th>\n",
       "      <th>NumberOfPoliciesOfPolicyholder</th>\n",
       "      <th>FpVehicleAgeMonths</th>\n",
       "      <th>EasinessToStage</th>\n",
       "      <th>ClaimWihoutIdentifiedThirdParty</th>\n",
       "      <th>ClaimAmount</th>\n",
       "      <th>LossHour</th>\n",
       "      <th>PolicyHolderAge</th>\n",
       "      <th>NumberOfBodilyInjuries</th>\n",
       "      <th>FirstPartyLiability</th>\n",
       "      <th>LossAndHolderPostCodeSame</th>\n",
       "      <th>Fraud</th>\n",
       "      <th>PolicyholderOccupation_Employee</th>\n",
       "      <th>PolicyholderOccupation_Executive</th>\n",
       "      <th>PolicyholderOccupation_Farmer</th>\n",
       "      <th>PolicyholderOccupation_HeadOfCompany</th>\n",
       "      <th>PolicyholderOccupation_Merchant</th>\n",
       "      <th>PolicyholderOccupation_NaN</th>\n",
       "      <th>PolicyholderOccupation_Retired</th>\n",
       "      <th>PolicyholderOccupation_SelfEmployed</th>\n",
       "      <th>PolicyholderOccupation_Student</th>\n",
       "      <th>PolicyholderOccupation_Unemployed</th>\n",
       "      <th>PolicyholderOccupation_Worker</th>\n",
       "      <th>ClaimCause_AccidentWithIdentifiedThirdParty</th>\n",
       "      <th>ClaimCause_AccidentWithUnidentifiedThirdParty</th>\n",
       "      <th>ClaimCause_CollisionWithAnimal</th>\n",
       "      <th>ClaimCause_CollisionWithPedestrian</th>\n",
       "      <th>ClaimCause_Fire</th>\n",
       "      <th>ClaimCause_Flood</th>\n",
       "      <th>ClaimCause_ForcesOfNature</th>\n",
       "      <th>ClaimCause_Hail</th>\n",
       "      <th>ClaimCause_LegalProtection</th>\n",
       "      <th>ClaimCause_LossOfControl</th>\n",
       "      <th>ClaimCause_MultiVehicleCrash</th>\n",
       "      <th>ClaimCause_NaN</th>\n",
       "      <th>ClaimCause_Storm</th>\n",
       "      <th>ClaimCause_TheftAttempt</th>\n",
       "      <th>ClaimCause_TheftOfExteriorElements</th>\n",
       "      <th>ClaimCause_TotalTheft</th>\n",
       "      <th>ClaimCause_Vandalism</th>\n",
       "      <th>ClaimCause_WindscreenDamage</th>\n",
       "      <th>DamageImportance_NaN</th>\n",
       "      <th>DamageImportance_TotalLoss</th>\n",
       "      <th>FirstPartyVehicleType_Caravan</th>\n",
       "      <th>FirstPartyVehicleType_Motorcycle</th>\n",
       "      <th>FirstPartyVehicleType_PrivateCar</th>\n",
       "      <th>ConnectionBetweenParties_SameAddress</th>\n",
       "      <th>ConnectionBetweenParties_SameBankAccount</th>\n",
       "      <th>ConnectionBetweenParties_SameEmail</th>\n",
       "      <th>ConnectionBetweenParties_SamePhone</th>\n",
       "      <th>ConnectionBetweenParties_SamePolice</th>\n",
       "      <th>PolicyWasSubscribedOnInternet_1</th>\n",
       "    </tr>\n",
       "  </thead>\n",
       "  <tbody>\n",
       "    <tr>\n",
       "      <th>0</th>\n",
       "      <td>1.546387e+09</td>\n",
       "      <td>1.516234e+09</td>\n",
       "      <td>MaterialDamages ActLiability</td>\n",
       "      <td>1</td>\n",
       "      <td>104.0</td>\n",
       "      <td>0.25</td>\n",
       "      <td>1</td>\n",
       "      <td>4624.73</td>\n",
       "      <td>8.0</td>\n",
       "      <td>45.0</td>\n",
       "      <td>0</td>\n",
       "      <td>1.0</td>\n",
       "      <td>1</td>\n",
       "      <td>0</td>\n",
       "      <td>0</td>\n",
       "      <td>0</td>\n",
       "      <td>0</td>\n",
       "      <td>0</td>\n",
       "      <td>0</td>\n",
       "      <td>0</td>\n",
       "      <td>0</td>\n",
       "      <td>0</td>\n",
       "      <td>0</td>\n",
       "      <td>0</td>\n",
       "      <td>0</td>\n",
       "      <td>0</td>\n",
       "      <td>0</td>\n",
       "      <td>1</td>\n",
       "      <td>0</td>\n",
       "      <td>0</td>\n",
       "      <td>0</td>\n",
       "      <td>0</td>\n",
       "      <td>0</td>\n",
       "      <td>0</td>\n",
       "      <td>0</td>\n",
       "      <td>0</td>\n",
       "      <td>0</td>\n",
       "      <td>0</td>\n",
       "      <td>0</td>\n",
       "      <td>0</td>\n",
       "      <td>0</td>\n",
       "      <td>0</td>\n",
       "      <td>0</td>\n",
       "      <td>1</td>\n",
       "      <td>0</td>\n",
       "      <td>0</td>\n",
       "      <td>0</td>\n",
       "      <td>0</td>\n",
       "      <td>0</td>\n",
       "      <td>0</td>\n",
       "      <td>0</td>\n",
       "      <td>0</td>\n",
       "      <td>0</td>\n",
       "      <td>1</td>\n",
       "    </tr>\n",
       "    <tr>\n",
       "      <th>1</th>\n",
       "      <td>1.546387e+09</td>\n",
       "      <td>1.485648e+09</td>\n",
       "      <td>MaterialDamages ActLiability</td>\n",
       "      <td>3</td>\n",
       "      <td>230.0</td>\n",
       "      <td>0.50</td>\n",
       "      <td>1</td>\n",
       "      <td>1606.81</td>\n",
       "      <td>11.0</td>\n",
       "      <td>20.0</td>\n",
       "      <td>0</td>\n",
       "      <td>1.0</td>\n",
       "      <td>0</td>\n",
       "      <td>0</td>\n",
       "      <td>0</td>\n",
       "      <td>0</td>\n",
       "      <td>0</td>\n",
       "      <td>0</td>\n",
       "      <td>0</td>\n",
       "      <td>0</td>\n",
       "      <td>0</td>\n",
       "      <td>0</td>\n",
       "      <td>0</td>\n",
       "      <td>0</td>\n",
       "      <td>1</td>\n",
       "      <td>0</td>\n",
       "      <td>0</td>\n",
       "      <td>0</td>\n",
       "      <td>0</td>\n",
       "      <td>0</td>\n",
       "      <td>0</td>\n",
       "      <td>0</td>\n",
       "      <td>0</td>\n",
       "      <td>0</td>\n",
       "      <td>1</td>\n",
       "      <td>0</td>\n",
       "      <td>0</td>\n",
       "      <td>0</td>\n",
       "      <td>0</td>\n",
       "      <td>0</td>\n",
       "      <td>0</td>\n",
       "      <td>0</td>\n",
       "      <td>0</td>\n",
       "      <td>1</td>\n",
       "      <td>0</td>\n",
       "      <td>0</td>\n",
       "      <td>0</td>\n",
       "      <td>0</td>\n",
       "      <td>0</td>\n",
       "      <td>0</td>\n",
       "      <td>0</td>\n",
       "      <td>0</td>\n",
       "      <td>0</td>\n",
       "      <td>0</td>\n",
       "    </tr>\n",
       "    <tr>\n",
       "      <th>2</th>\n",
       "      <td>1.546387e+09</td>\n",
       "      <td>1.483575e+09</td>\n",
       "      <td>MaterialDamages ActLiability</td>\n",
       "      <td>9</td>\n",
       "      <td>93.0</td>\n",
       "      <td>0.25</td>\n",
       "      <td>0</td>\n",
       "      <td>998.20</td>\n",
       "      <td>18.0</td>\n",
       "      <td>32.0</td>\n",
       "      <td>0</td>\n",
       "      <td>0.5</td>\n",
       "      <td>1</td>\n",
       "      <td>0</td>\n",
       "      <td>0</td>\n",
       "      <td>0</td>\n",
       "      <td>0</td>\n",
       "      <td>0</td>\n",
       "      <td>0</td>\n",
       "      <td>0</td>\n",
       "      <td>0</td>\n",
       "      <td>0</td>\n",
       "      <td>0</td>\n",
       "      <td>0</td>\n",
       "      <td>1</td>\n",
       "      <td>1</td>\n",
       "      <td>0</td>\n",
       "      <td>0</td>\n",
       "      <td>0</td>\n",
       "      <td>0</td>\n",
       "      <td>0</td>\n",
       "      <td>0</td>\n",
       "      <td>0</td>\n",
       "      <td>0</td>\n",
       "      <td>0</td>\n",
       "      <td>0</td>\n",
       "      <td>0</td>\n",
       "      <td>0</td>\n",
       "      <td>0</td>\n",
       "      <td>0</td>\n",
       "      <td>0</td>\n",
       "      <td>0</td>\n",
       "      <td>0</td>\n",
       "      <td>1</td>\n",
       "      <td>0</td>\n",
       "      <td>0</td>\n",
       "      <td>0</td>\n",
       "      <td>0</td>\n",
       "      <td>0</td>\n",
       "      <td>0</td>\n",
       "      <td>0</td>\n",
       "      <td>0</td>\n",
       "      <td>0</td>\n",
       "      <td>0</td>\n",
       "    </tr>\n",
       "    <tr>\n",
       "      <th>3</th>\n",
       "      <td>1.546387e+09</td>\n",
       "      <td>1.484957e+09</td>\n",
       "      <td>MaterialDamages ActLiability ReplacementVehicle</td>\n",
       "      <td>2</td>\n",
       "      <td>56.0</td>\n",
       "      <td>0.25</td>\n",
       "      <td>0</td>\n",
       "      <td>2506.92</td>\n",
       "      <td>11.0</td>\n",
       "      <td>46.0</td>\n",
       "      <td>0</td>\n",
       "      <td>0.5</td>\n",
       "      <td>1</td>\n",
       "      <td>0</td>\n",
       "      <td>0</td>\n",
       "      <td>0</td>\n",
       "      <td>0</td>\n",
       "      <td>0</td>\n",
       "      <td>0</td>\n",
       "      <td>0</td>\n",
       "      <td>0</td>\n",
       "      <td>0</td>\n",
       "      <td>0</td>\n",
       "      <td>0</td>\n",
       "      <td>0</td>\n",
       "      <td>1</td>\n",
       "      <td>0</td>\n",
       "      <td>0</td>\n",
       "      <td>0</td>\n",
       "      <td>0</td>\n",
       "      <td>0</td>\n",
       "      <td>0</td>\n",
       "      <td>0</td>\n",
       "      <td>0</td>\n",
       "      <td>0</td>\n",
       "      <td>0</td>\n",
       "      <td>0</td>\n",
       "      <td>0</td>\n",
       "      <td>0</td>\n",
       "      <td>0</td>\n",
       "      <td>0</td>\n",
       "      <td>0</td>\n",
       "      <td>0</td>\n",
       "      <td>1</td>\n",
       "      <td>0</td>\n",
       "      <td>0</td>\n",
       "      <td>0</td>\n",
       "      <td>0</td>\n",
       "      <td>0</td>\n",
       "      <td>0</td>\n",
       "      <td>0</td>\n",
       "      <td>0</td>\n",
       "      <td>0</td>\n",
       "      <td>0</td>\n",
       "    </tr>\n",
       "    <tr>\n",
       "      <th>4</th>\n",
       "      <td>1.546387e+09</td>\n",
       "      <td>1.515802e+09</td>\n",
       "      <td>ActLiability</td>\n",
       "      <td>4</td>\n",
       "      <td>110.0</td>\n",
       "      <td>0.25</td>\n",
       "      <td>0</td>\n",
       "      <td>12.00</td>\n",
       "      <td>12.0</td>\n",
       "      <td>28.0</td>\n",
       "      <td>0</td>\n",
       "      <td>0.0</td>\n",
       "      <td>0</td>\n",
       "      <td>0</td>\n",
       "      <td>0</td>\n",
       "      <td>0</td>\n",
       "      <td>1</td>\n",
       "      <td>0</td>\n",
       "      <td>0</td>\n",
       "      <td>0</td>\n",
       "      <td>0</td>\n",
       "      <td>0</td>\n",
       "      <td>0</td>\n",
       "      <td>0</td>\n",
       "      <td>0</td>\n",
       "      <td>1</td>\n",
       "      <td>0</td>\n",
       "      <td>0</td>\n",
       "      <td>0</td>\n",
       "      <td>0</td>\n",
       "      <td>0</td>\n",
       "      <td>0</td>\n",
       "      <td>0</td>\n",
       "      <td>0</td>\n",
       "      <td>0</td>\n",
       "      <td>0</td>\n",
       "      <td>0</td>\n",
       "      <td>0</td>\n",
       "      <td>0</td>\n",
       "      <td>0</td>\n",
       "      <td>0</td>\n",
       "      <td>0</td>\n",
       "      <td>0</td>\n",
       "      <td>1</td>\n",
       "      <td>0</td>\n",
       "      <td>0</td>\n",
       "      <td>0</td>\n",
       "      <td>0</td>\n",
       "      <td>0</td>\n",
       "      <td>0</td>\n",
       "      <td>0</td>\n",
       "      <td>0</td>\n",
       "      <td>0</td>\n",
       "      <td>0</td>\n",
       "    </tr>\n",
       "  </tbody>\n",
       "</table>\n",
       "</div>"
      ],
      "text/plain": [
       "       LossDate  FirstPolicySubscriptionDate  \\\n",
       "0  1.546387e+09                 1.516234e+09   \n",
       "1  1.546387e+09                 1.485648e+09   \n",
       "2  1.546387e+09                 1.483575e+09   \n",
       "3  1.546387e+09                 1.484957e+09   \n",
       "4  1.546387e+09                 1.515802e+09   \n",
       "\n",
       "                               ClaimInvolvedCovers  \\\n",
       "0                     MaterialDamages ActLiability   \n",
       "1                     MaterialDamages ActLiability   \n",
       "2                     MaterialDamages ActLiability   \n",
       "3  MaterialDamages ActLiability ReplacementVehicle   \n",
       "4                                     ActLiability   \n",
       "\n",
       "   NumberOfPoliciesOfPolicyholder  FpVehicleAgeMonths  EasinessToStage  \\\n",
       "0                               1               104.0             0.25   \n",
       "1                               3               230.0             0.50   \n",
       "2                               9                93.0             0.25   \n",
       "3                               2                56.0             0.25   \n",
       "4                               4               110.0             0.25   \n",
       "\n",
       "   ClaimWihoutIdentifiedThirdParty  ClaimAmount  LossHour  PolicyHolderAge  \\\n",
       "0                                1      4624.73       8.0             45.0   \n",
       "1                                1      1606.81      11.0             20.0   \n",
       "2                                0       998.20      18.0             32.0   \n",
       "3                                0      2506.92      11.0             46.0   \n",
       "4                                0        12.00      12.0             28.0   \n",
       "\n",
       "   NumberOfBodilyInjuries  FirstPartyLiability  LossAndHolderPostCodeSame  \\\n",
       "0                       0                  1.0                          1   \n",
       "1                       0                  1.0                          0   \n",
       "2                       0                  0.5                          1   \n",
       "3                       0                  0.5                          1   \n",
       "4                       0                  0.0                          0   \n",
       "\n",
       "   Fraud  PolicyholderOccupation_Employee  PolicyholderOccupation_Executive  \\\n",
       "0      0                                0                                 0   \n",
       "1      0                                0                                 0   \n",
       "2      0                                0                                 0   \n",
       "3      0                                0                                 0   \n",
       "4      0                                0                                 0   \n",
       "\n",
       "   PolicyholderOccupation_Farmer  PolicyholderOccupation_HeadOfCompany  \\\n",
       "0                              0                                     0   \n",
       "1                              0                                     0   \n",
       "2                              0                                     0   \n",
       "3                              0                                     0   \n",
       "4                              1                                     0   \n",
       "\n",
       "   PolicyholderOccupation_Merchant  PolicyholderOccupation_NaN  \\\n",
       "0                                0                           0   \n",
       "1                                0                           0   \n",
       "2                                0                           0   \n",
       "3                                0                           0   \n",
       "4                                0                           0   \n",
       "\n",
       "   PolicyholderOccupation_Retired  PolicyholderOccupation_SelfEmployed  \\\n",
       "0                               0                                    0   \n",
       "1                               0                                    0   \n",
       "2                               0                                    0   \n",
       "3                               0                                    0   \n",
       "4                               0                                    0   \n",
       "\n",
       "   PolicyholderOccupation_Student  PolicyholderOccupation_Unemployed  \\\n",
       "0                               0                                  0   \n",
       "1                               0                                  0   \n",
       "2                               0                                  0   \n",
       "3                               0                                  0   \n",
       "4                               0                                  0   \n",
       "\n",
       "   PolicyholderOccupation_Worker  ClaimCause_AccidentWithIdentifiedThirdParty  \\\n",
       "0                              0                                            0   \n",
       "1                              1                                            0   \n",
       "2                              1                                            1   \n",
       "3                              0                                            1   \n",
       "4                              0                                            1   \n",
       "\n",
       "   ClaimCause_AccidentWithUnidentifiedThirdParty  \\\n",
       "0                                              0   \n",
       "1                                              0   \n",
       "2                                              0   \n",
       "3                                              0   \n",
       "4                                              0   \n",
       "\n",
       "   ClaimCause_CollisionWithAnimal  ClaimCause_CollisionWithPedestrian  \\\n",
       "0                               1                                   0   \n",
       "1                               0                                   0   \n",
       "2                               0                                   0   \n",
       "3                               0                                   0   \n",
       "4                               0                                   0   \n",
       "\n",
       "   ClaimCause_Fire  ClaimCause_Flood  ClaimCause_ForcesOfNature  \\\n",
       "0                0                 0                          0   \n",
       "1                0                 0                          0   \n",
       "2                0                 0                          0   \n",
       "3                0                 0                          0   \n",
       "4                0                 0                          0   \n",
       "\n",
       "   ClaimCause_Hail  ClaimCause_LegalProtection  ClaimCause_LossOfControl  \\\n",
       "0                0                           0                         0   \n",
       "1                0                           0                         1   \n",
       "2                0                           0                         0   \n",
       "3                0                           0                         0   \n",
       "4                0                           0                         0   \n",
       "\n",
       "   ClaimCause_MultiVehicleCrash  ClaimCause_NaN  ClaimCause_Storm  \\\n",
       "0                             0               0                 0   \n",
       "1                             0               0                 0   \n",
       "2                             0               0                 0   \n",
       "3                             0               0                 0   \n",
       "4                             0               0                 0   \n",
       "\n",
       "   ClaimCause_TheftAttempt  ClaimCause_TheftOfExteriorElements  \\\n",
       "0                        0                                   0   \n",
       "1                        0                                   0   \n",
       "2                        0                                   0   \n",
       "3                        0                                   0   \n",
       "4                        0                                   0   \n",
       "\n",
       "   ClaimCause_TotalTheft  ClaimCause_Vandalism  ClaimCause_WindscreenDamage  \\\n",
       "0                      0                     0                            0   \n",
       "1                      0                     0                            0   \n",
       "2                      0                     0                            0   \n",
       "3                      0                     0                            0   \n",
       "4                      0                     0                            0   \n",
       "\n",
       "   DamageImportance_NaN  DamageImportance_TotalLoss  \\\n",
       "0                     1                           0   \n",
       "1                     1                           0   \n",
       "2                     1                           0   \n",
       "3                     1                           0   \n",
       "4                     1                           0   \n",
       "\n",
       "   FirstPartyVehicleType_Caravan  FirstPartyVehicleType_Motorcycle  \\\n",
       "0                              0                                 0   \n",
       "1                              0                                 0   \n",
       "2                              0                                 0   \n",
       "3                              0                                 0   \n",
       "4                              0                                 0   \n",
       "\n",
       "   FirstPartyVehicleType_PrivateCar  ConnectionBetweenParties_SameAddress  \\\n",
       "0                                 0                                     0   \n",
       "1                                 0                                     0   \n",
       "2                                 0                                     0   \n",
       "3                                 0                                     0   \n",
       "4                                 0                                     0   \n",
       "\n",
       "   ConnectionBetweenParties_SameBankAccount  \\\n",
       "0                                         0   \n",
       "1                                         0   \n",
       "2                                         0   \n",
       "3                                         0   \n",
       "4                                         0   \n",
       "\n",
       "   ConnectionBetweenParties_SameEmail  ConnectionBetweenParties_SamePhone  \\\n",
       "0                                   0                                   0   \n",
       "1                                   0                                   0   \n",
       "2                                   0                                   0   \n",
       "3                                   0                                   0   \n",
       "4                                   0                                   0   \n",
       "\n",
       "   ConnectionBetweenParties_SamePolice  PolicyWasSubscribedOnInternet_1  \n",
       "0                                    0                                1  \n",
       "1                                    0                                0  \n",
       "2                                    0                                0  \n",
       "3                                    0                                0  \n",
       "4                                    0                                0  "
      ]
     },
     "execution_count": 270,
     "metadata": {},
     "output_type": "execute_result"
    }
   ],
   "source": [
    "# Get dummy variables for categorical data\n",
    "dummy_columns = ['PolicyholderOccupation', 'ClaimCause', 'DamageImportance', 'FirstPartyVehicleType','ConnectionBetweenParties', 'PolicyWasSubscribedOnInternet']\n",
    "# Dummy variables for categorical data\n",
    "df = pd.get_dummies(df,columns=dummy_columns,drop_first=True)\n",
    "df.head()"
   ]
  },
  {
   "cell_type": "code",
   "execution_count": 271,
   "metadata": {},
   "outputs": [
    {
     "name": "stdout",
     "output_type": "stream",
     "text": [
      "{'MedicalCare', 'Theft', 'ReplacementVehicle', 'ActLiability', 'ThirdParty', 'Windscreen', 'NaN', 'Fire', 'Accessories', 'NaturalCatastrophes', 'ThirdPartyMaterialDamages', 'Burglary', 'MaterialDamages'}\n"
     ]
    }
   ],
   "source": [
    "# Extract ClaimInvolvedCovers data\n",
    "# Get all covers\n",
    "all_unique =  df[\"ClaimInvolvedCovers\"].unique().tolist()\n",
    "all_covers = str.join(' ', all_unique) # join the string to list\n",
    "all_covers_set = set(all_covers.split()) # use set to drop duplicate covers\n",
    "print(all_covers_set)\n",
    "\n",
    "for cover in all_covers_set:\n",
    "    df[f\"ClaimInvolvedCovers_{cover}\"] = df[\"ClaimInvolvedCovers\"].apply(lambda x: 1 if cover in x else 0)\n",
    "df = df.drop(columns=['ClaimInvolvedCovers'])"
   ]
  },
  {
   "cell_type": "markdown",
   "metadata": {},
   "source": [
    "## 2.8 Split the data and scale\n",
    "We are going to use MinMaxScaler in this case, since we can find the dataset not follow a Gaussian distribution. In addition, we will fit the MinMaxScaler model with trainning and validation dataset and apply the model to the test dataset to ensure we are blind to the data information before we test the data.\n",
    "Here is the process of split and scale data:\n",
    "1. Turn the dataframe into X and y array\n",
    "1. Split the train and test\n",
    "2. Fit the MinMaxScaler to train data and then apply the model to test data\n",
    "3. Split the train data into train and validation data"
   ]
  },
  {
   "cell_type": "code",
   "execution_count": 272,
   "metadata": {},
   "outputs": [
    {
     "name": "stdout",
     "output_type": "stream",
     "text": [
      "The shape of X:\n",
      "(11371, 65)\n",
      "-----------------------------------------------------\n",
      "The shape of y:\n",
      "(11371,)\n",
      "-----------------------------------------------------\n"
     ]
    }
   ],
   "source": [
    "# Turn the dataframe into X and y array\n",
    "X = df.drop(['Fraud'],axis=1,inplace=False).to_numpy()\n",
    "y = df[['Fraud']].to_numpy().flatten()\n",
    "print('The shape of X:')\n",
    "print(X.shape)\n",
    "print('-----------------------------------------------------')\n",
    "print('The shape of y:')\n",
    "print(y.shape)\n",
    "print('-----------------------------------------------------')"
   ]
  },
  {
   "cell_type": "code",
   "execution_count": 273,
   "metadata": {},
   "outputs": [
    {
     "name": "stdout",
     "output_type": "stream",
     "text": [
      "-----------------------------------------------------\n",
      "Shape of X_train:\n",
      "(6822, 65)\n",
      "-----------------------------------------------------\n",
      "Shape of y_train:\n",
      "(6822,)\n",
      "-----------------------------------------------------\n",
      "Shape of X_val:\n",
      "(2274, 65)\n",
      "-----------------------------------------------------\n",
      "Shape of y_val:\n",
      "(2274,)\n",
      "-----------------------------------------------------\n",
      "Shape of X_test:\n",
      "(2275, 65)\n",
      "-----------------------------------------------------\n",
      "Shape of y_test:\n",
      "(2275,)\n",
      "-----------------------------------------------------\n"
     ]
    }
   ],
   "source": [
    "# Split the train and test datasets\n",
    "X_train, X_test, y_train, y_test = train_test_split(X,y,random_state=192,test_size=0.2)\n",
    "\n",
    "# Fit the MinMaxScaler\n",
    "scaler = MinMaxScaler()\n",
    "X_train = scaler.fit_transform(X_train)\n",
    "X_test = scaler.transform(X_test)\n",
    "\n",
    "# Split the train datasets into train and validation datasets\n",
    "X_train, X_val, y_train, y_val = train_test_split(X_train,y_train,random_state=192,test_size=0.25)\n",
    "\n",
    "## Show the data structure of the split datasets\n",
    "print('-----------------------------------------------------')\n",
    "print('Shape of X_train:')\n",
    "print(X_train.shape)\n",
    "print('-----------------------------------------------------')\n",
    "print('Shape of y_train:')\n",
    "print(y_train.shape)\n",
    "print('-----------------------------------------------------')\n",
    "print('Shape of X_val:')\n",
    "print(X_val.shape)\n",
    "print('-----------------------------------------------------')\n",
    "print('Shape of y_val:')\n",
    "print(y_val.shape)\n",
    "print('-----------------------------------------------------')\n",
    "print('Shape of X_test:')\n",
    "print(X_test.shape)\n",
    "print('-----------------------------------------------------')\n",
    "print('Shape of y_test:')\n",
    "print(y_test.shape)\n",
    "print('-----------------------------------------------------')"
   ]
  },
  {
   "cell_type": "markdown",
   "metadata": {},
   "source": [
    "# Question 3\n",
    "#### TODO:\n",
    "1. record number of layer\n",
    "2. set the threshold\n",
    "\n",
    "\n",
    "### Question\n",
    "Start by creating a (deep) neural network in TensorFlow and train it on the data. Using training and validation sets, find a model with high accuracy, then evaluate it on the test set. In particular, record both the accuracy and AUC. Briefly discuss what issues you observe based on the metrics.\n",
    "\n"
   ]
  },
  {
   "cell_type": "code",
   "execution_count": 274,
   "metadata": {},
   "outputs": [
    {
     "name": "stdout",
     "output_type": "stream",
     "text": [
      "The tensorboard extension is already loaded. To reload it, use:\n",
      "  %reload_ext tensorboard\n"
     ]
    }
   ],
   "source": [
    "%load_ext tensorboard"
   ]
  },
  {
   "cell_type": "code",
   "execution_count": 275,
   "metadata": {},
   "outputs": [],
   "source": [
    "# rm -rf ./logs100/"
   ]
  },
  {
   "cell_type": "markdown",
   "metadata": {},
   "source": [
    "## Set the range of hyperparameters\n",
    "We are going to explore the performance of dinstinct neural network when training with different hyperparameters. And we are going to use the following hyperparameters:\n",
    "1. Learning rate:\n",
    "    Usually, a lower learning rate will result in a better model and higher learning rate will accelerate the training process but result in a underfitting model. In this case, we set the range of learning rate from 10**(0.001) to 10**(0.1)\n",
    "2. Optimizer:\n",
    "    We are going to try both AdamOptimizer and sgd optimizer. In most case, SGD sacrifices the efficiency for better convergence quality.\n",
    "3. Dropout:\n",
    "    We are going to use HP_WHETHER_DROPOUT to decide whether to drop, and HP_DROPOUT to set the dropout rate. We set the range of dropout rate from 0.1 to 0.3 to see how the performance of the model changes.\n",
    "4. Number of neurons in the hidden layer:\n",
    "    In each hidden layer, we are going to use same number of neurons. In terms of the number of neurons, we are going to use a rule of thumb, in which we can calculate the number of neurons as:\n",
    "    \n",
    "    $N_h = \\frac{N_i}{\\alpha * (N_i+N_o))})$\n",
    "    \n",
    "    Ni = number of input neurons.\n",
    "    \n",
    "    No = number of output neurons.\n",
    "    \n",
    "    Ns = number of samples in training data set.\n",
    "    \n",
    "    α = an arbitrary scaling factor usually 2-10.\n",
    "\n",
    "    In our case, we are going to set $\\alpha$ ramdonly to 2,3,4\n",
    "5. Number of hidden layers:\n",
    "    Normally, if the model is very simple, one hidden layer is enough according to Reed's argument (Reed, 1999).\n",
    "    ```\n",
    "    Since a single sufficiently large hidden layer is adequate for approximation of most functions, why would anyone ever use more? One reason hangs on the words “sufficiently large”. Although a single hidden layer is optimal for some functions, there are others for which a single-hidden-layer-solution is very inefficient compared to solutions with more layers.\n",
    "    ``` \n",
    "\n",
    "    However, in terms of a complex model, Bengio (2016) argued that \n",
    "    ```\n",
    "    Specifically, the universal approximation theorem states that a feedforward network with a linear output layer and at least one hidden layer with any “squashing” activation function (such as the logistic sigmoid activation function) can approximate any Borel measurable function from one finite-dimensional space to another with any desired non-zero amount of error, provided that the network is given enough hidden units.\n",
    "    ——Deep learning, 2016\n",
    "    ```\n",
    "    Since our model might not be able to be explained by a linear function, we are going to set the range of hidden layers from 1 to 3.\n",
    "6. Activation\n",
    "    We are going to compare the performance of the following activation functions:\n",
    "    1. sigmoid\n",
    "    2. relu\n",
    "\n"
   ]
  },
  {
   "cell_type": "code",
   "execution_count": 276,
   "metadata": {},
   "outputs": [],
   "source": [
    "HP_LEARNING_RATE = hp.HParam('learning_rate', hp.RealInterval(0.001,0.1))\n",
    "HP_OPTIMIZER = hp.HParam('optimizer', hp.Discrete(['adam', 'sgd']))\n",
    "HP_WHETHER_DROPOUT = hp.HParam('whether_dropout', hp.Discrete([True, False]))\n",
    "HP_DROPOUT = hp.HParam('dropout', hp.RealInterval(0.1, 0.3))\n",
    "# the number of units in the hidden layer, 1 time, 2 times or 3 times of the unit number of input layer\n",
    "BASE_NUM_UNITS = X_train.shape[0]/(X_train.shape[1] + 1)\n",
    "HP_NUM_UNITS = hp.HParam('num_units', hp.Discrete([int(BASE_NUM_UNITS/2), int(BASE_NUM_UNITS/3), int(BASE_NUM_UNITS/4),int(BASE_NUM_UNITS/5)])) \n",
    "HP_ACTIVATION = hp.HParam('activation', hp.Discrete(['relu', 'sigmoid']))\n",
    "HP_HIDDEN_LAYER_NUMBER = hp.HParam('hidden_layer_number', hp.Discrete(range(1,4)))\n",
    "METRIC_CROSSENTROPY = 'binary_crossentropy'\n",
    "EPOCHS = 100"
   ]
  },
  {
   "cell_type": "markdown",
   "metadata": {},
   "source": [
    "Once we have set up our parameters and metrics, we write those into our folder with the logs:"
   ]
  },
  {
   "cell_type": "code",
   "execution_count": 277,
   "metadata": {},
   "outputs": [],
   "source": [
    "with tf.summary.create_file_writer('logs100/hparam_tuning').as_default():\n",
    "    hp.hparams_config(hparams=[HP_LEARNING_RATE, HP_OPTIMIZER, HP_DROPOUT, HP_NUM_UNITS,HP_ACTIVATION,HP_HIDDEN_LAYER_NUMBER],\n",
    "                      metrics = [hp.Metric(METRIC_CROSSENTROPY, display_name='CROSSENTROPY')])"
   ]
  },
  {
   "cell_type": "code",
   "execution_count": 278,
   "metadata": {},
   "outputs": [],
   "source": [
    "def train_model(hparams,X_train=X_train,y_train=y_train,X_test=X_test,y_test=y_test):\n",
    "    tf.keras.backend.clear_session()\n",
    "    tf.random.set_seed(192)\n",
    "    early_stopping_cb = tf.keras.callbacks.EarlyStopping(patience=10, restore_best_weights=True) # set patience to 10 to accelerate the training\n",
    "    if hparams[HP_WHETHER_DROPOUT] == True:\n",
    "        model = tf.keras.models.Sequential([\n",
    "            tf.keras.layers.Dropout(hparams[HP_DROPOUT]),\n",
    "            tf.keras.layers.Dense(hparams[HP_NUM_UNITS], activation=hparams[HP_ACTIVATION])]*hparams[HP_HIDDEN_LAYER_NUMBER]+[\n",
    "            tf.keras.layers.Dense(1,activation='sigmoid')])\n",
    "    else:\n",
    "        model = tf.keras.models.Sequential([\n",
    "            tf.keras.layers.Dense(hparams[HP_NUM_UNITS], activation=hparams[HP_ACTIVATION])]*hparams[HP_HIDDEN_LAYER_NUMBER]+[\n",
    "            tf.keras.layers.Dense(1,activation='sigmoid')])\n",
    "    if hparams[HP_OPTIMIZER] == 'sgd':\n",
    "        # Note that exploding gradients can be a big problem when running regressions, especially under SGD\n",
    "        # Hence, we use \"gradient clipping\" with parameter alpha, which means that the gradients are manually kept between -1 and 1\n",
    "        # This is of course another hyperparameter that we might tune!\n",
    "        optimizer = tf.keras.optimizers.SGD(\n",
    "            learning_rate=hparams[HP_LEARNING_RATE], clipvalue=1)\n",
    "    elif hparams[HP_OPTIMIZER] == 'adam':\n",
    "        optimizer = tf.keras.optimizers.Adam(\n",
    "            learning_rate=hparams[HP_LEARNING_RATE])\n",
    "\n",
    "    # random_seed = 192\n",
    "    model.compile(optimizer=optimizer,\n",
    "                  loss='binary_crossentropy')\n",
    "\n",
    "    model.fit(X_train, y_train, epochs=EPOCHS, validation_data=(X_val,y_val) ,callbacks=[early_stopping_cb],)\n",
    "    loss = model.evaluate(X_test, y_test)\n",
    "    x_test_predict = model.predict(X_test)\n",
    "    # calculate the roc\n",
    "    roc_score = roc_auc_score(y_test, x_test_predict)\n",
    "    # calculate the accuracy suppose the threshold is 0.5\n",
    "    x_test_predict_binary = np.where(x_test_predict>0.5,1,0)\n",
    "    accuracy = accuracy_score(y_test, x_test_predict_binary)\n",
    "    # calculate the sensitivity\n",
    "    sensitivity = recall_score(y_test, x_test_predict_binary)\n",
    "    return loss, accuracy,roc_score,sensitivity"
   ]
  },
  {
   "cell_type": "code",
   "execution_count": 279,
   "metadata": {},
   "outputs": [],
   "source": [
    "def run(run_dir, hparams):\n",
    "    with tf.summary.create_file_writer(run_dir).as_default():\n",
    "        hp.hparams(hparams)\n",
    "        \n",
    "        loss, accuracy,roc_score,sensitivity = train_model(hparams) #TODO whether I did it right\n",
    "        tf.summary.scalar('ACCUARY', accuracy, step=1)\n",
    "        tf.summary.scalar('LOSS', loss, step=1)\n",
    "        tf.summary.scalar('ROC', roc_score, step=1)\n",
    "        tf.summary.scalar('SENSITIVITY', sensitivity, step=1)"
   ]
  },
  {
   "cell_type": "code",
   "execution_count": 280,
   "metadata": {},
   "outputs": [],
   "source": [
    "# tf.keras.backend.clear_session()\n",
    "# tf.random.set_seed(192)\n",
    "\n",
    "# # 100 total sessions\n",
    "# total_sessions = 100 #FIXME: change this to the number of sessions you want to run, and fix the issue in the metrics\n",
    "\n",
    "# for session in range(total_sessions):\n",
    "    \n",
    "#     # Create hyperparameters randomly\n",
    "#     whether_dropout = HP_WHETHER_DROPOUT.domain.sample_uniform()\n",
    "#     dropout_rate = HP_DROPOUT.domain.sample_uniform()\n",
    "#     num_units = HP_NUM_UNITS.domain.sample_uniform()\n",
    "#     optimizer = HP_OPTIMIZER.domain.sample_uniform()\n",
    "#     activation = HP_ACTIVATION.domain.sample_uniform()\n",
    "#     hidden_layer_number = HP_HIDDEN_LAYER_NUMBER.domain.sample_uniform()\n",
    "    \n",
    "    \n",
    "#     r = -3*np.random.rand()\n",
    "#     learning_rate = 10.0**r\n",
    "    \n",
    "#     # Create a dictionary of hyperparameters\n",
    "#     hparams = { HP_LEARNING_RATE: learning_rate,\n",
    "#                 HP_OPTIMIZER: optimizer,\n",
    "#                 HP_WHETHER_DROPOUT: whether_dropout,\n",
    "#                 HP_DROPOUT: dropout_rate,\n",
    "#                 HP_NUM_UNITS: num_units,\n",
    "#                 HP_ACTIVATION: activation,\n",
    "#                 HP_HIDDEN_LAYER_NUMBER: hidden_layer_number}\n",
    "    \n",
    "#     # train the model with the chosen parameters\n",
    "#     run_name = \"run-%d\" % session\n",
    "#     print('--- Starting trial: %s' % run_name)\n",
    "#     print({h.name: hparams[h] for h in hparams})\n",
    "#     run('logs100/hparam_tuning/' + run_name, hparams)"
   ]
  },
  {
   "cell_type": "code",
   "execution_count": 281,
   "metadata": {},
   "outputs": [
    {
     "data": {
      "text/plain": [
       "Reusing TensorBoard on port 6009 (pid 71379), started 1:38:35 ago. (Use '!kill 71379' to kill it.)"
      ]
     },
     "metadata": {},
     "output_type": "display_data"
    },
    {
     "data": {
      "text/html": [
       "\n",
       "      <iframe id=\"tensorboard-frame-49a83c05aad5b1fa\" width=\"100%\" height=\"800\" frameborder=\"0\">\n",
       "      </iframe>\n",
       "      <script>\n",
       "        (function() {\n",
       "          const frame = document.getElementById(\"tensorboard-frame-49a83c05aad5b1fa\");\n",
       "          const url = new URL(\"http://localhost\");\n",
       "          url.port = 6009;\n",
       "          frame.src = url;\n",
       "        })();\n",
       "      </script>\n",
       "  "
      ],
      "text/plain": [
       "<IPython.core.display.HTML object>"
      ]
     },
     "metadata": {},
     "output_type": "display_data"
    }
   ],
   "source": [
    "%tensorboard --logdir logs100"
   ]
  },
  {
   "cell_type": "code",
   "execution_count": 282,
   "metadata": {},
   "outputs": [
    {
     "name": "stdout",
     "output_type": "stream",
     "text": [
      "Train on 6822 samples, validate on 2274 samples\n",
      "Epoch 1/25\n",
      "6822/6822 [==============================] - 1s 162us/sample - loss: 0.0690 - val_loss: 0.0431\n",
      "Epoch 2/25\n",
      "6822/6822 [==============================] - 0s 64us/sample - loss: 0.0468 - val_loss: 0.0444\n",
      "Epoch 3/25\n",
      "6822/6822 [==============================] - 1s 84us/sample - loss: 0.0433 - val_loss: 0.0403\n",
      "Epoch 4/25\n",
      "6822/6822 [==============================] - 1s 86us/sample - loss: 0.0410 - val_loss: 0.0426\n",
      "Epoch 5/25\n",
      "6822/6822 [==============================] - 1s 134us/sample - loss: 0.0430 - val_loss: 0.0417\n",
      "Epoch 6/25\n",
      "6822/6822 [==============================] - 1s 136us/sample - loss: 0.0388 - val_loss: 0.0469\n",
      "Epoch 7/25\n",
      "6822/6822 [==============================] - 1s 136us/sample - loss: 0.0386 - val_loss: 0.0539\n",
      "Epoch 8/25\n",
      "6822/6822 [==============================] - 1s 135us/sample - loss: 0.0381 - val_loss: 0.0525\n",
      "Epoch 9/25\n",
      "6822/6822 [==============================] - 1s 134us/sample - loss: 0.0381 - val_loss: 0.0653\n",
      "Epoch 10/25\n",
      "6822/6822 [==============================] - 1s 124us/sample - loss: 0.0359 - val_loss: 0.0571\n",
      "Epoch 11/25\n",
      "6822/6822 [==============================] - 1s 94us/sample - loss: 0.0348 - val_loss: 0.0686\n",
      "Epoch 12/25\n",
      "6822/6822 [==============================] - 1s 100us/sample - loss: 0.0337 - val_loss: 0.0728\n",
      "Epoch 13/25\n",
      "6822/6822 [==============================] - 1s 104us/sample - loss: 0.0341 - val_loss: 0.0621\n",
      "Epoch 14/25\n",
      "6822/6822 [==============================] - 1s 83us/sample - loss: 0.0313 - val_loss: 0.0717\n",
      "Epoch 15/25\n",
      "6822/6822 [==============================] - 1s 81us/sample - loss: 0.0317 - val_loss: 0.0758\n",
      "Epoch 16/25\n",
      "6822/6822 [==============================] - 1s 109us/sample - loss: 0.0327 - val_loss: 0.0740\n",
      "Epoch 17/25\n",
      "6822/6822 [==============================] - 1s 127us/sample - loss: 0.0313 - val_loss: 0.0671\n",
      "Epoch 18/25\n",
      "6822/6822 [==============================] - 1s 132us/sample - loss: 0.0299 - val_loss: 0.0767\n",
      "Epoch 19/25\n",
      "6822/6822 [==============================] - 1s 144us/sample - loss: 0.0279 - val_loss: 0.0940\n",
      "Epoch 20/25\n",
      "6822/6822 [==============================] - 1s 145us/sample - loss: 0.0289 - val_loss: 0.0736\n",
      "Epoch 21/25\n",
      "6822/6822 [==============================] - 1s 142us/sample - loss: 0.0278 - val_loss: 0.1178\n",
      "Epoch 22/25\n",
      "6822/6822 [==============================] - 1s 127us/sample - loss: 0.0268 - val_loss: 0.0922\n",
      "Epoch 23/25\n",
      "6822/6822 [==============================] - 1s 140us/sample - loss: 0.0263 - val_loss: 0.0851\n",
      "Epoch 24/25\n",
      "6822/6822 [==============================] - 1s 157us/sample - loss: 0.0250 - val_loss: 0.0972\n",
      "Epoch 25/25\n",
      "6822/6822 [==============================] - 1s 120us/sample - loss: 0.0270 - val_loss: 0.0963\n"
     ]
    }
   ],
   "source": [
    "# TODO: Fit and evaluate best model from Tensorboard - ROC and confusion matrix\n",
    "tf.keras.backend.clear_session()\n",
    "tf.random.set_seed(192)\n",
    "\n",
    "dropout = 0.12292\n",
    "learning_rate = 0.01\n",
    "number_units = 34\n",
    "\n",
    "optimizer = tf.keras.optimizers.Adam(learning_rate=learning_rate)\n",
    "model = tf.keras.models.Sequential([\n",
    "    tf.keras.layers.Dense(number_units, activation='relu'),\n",
    "    tf.keras.layers.Dense(number_units, activation='relu'),\n",
    "    tf.keras.layers.Dense(1, activation='sigmoid')\n",
    "])\n",
    "\n",
    "model.compile(optimizer=optimizer, loss='binary_crossentropy')\n",
    "\n",
    "early_stopping_cb = tf.keras.callbacks.EarlyStopping(patience=10, restore_best_weights=True) # set patience to 10 to accelerate the training\n",
    "# log = model.fit(X_train, y_train, epochs=100, validation_data =(X_val, y_val), callbacks=[early_stopping_cb])\n",
    "log = model.fit(X_train, y_train, epochs=25, validation_data =(X_val, y_val))\n",
    "\n",
    "model.save('./models/question3.h5')"
   ]
  },
  {
   "cell_type": "code",
   "execution_count": 283,
   "metadata": {},
   "outputs": [
    {
     "data": {
      "image/png": "[encoded data removed]",
      "text/plain": [
       "<Figure size 432x288 with 1 Axes>"
      ]
     },
     "metadata": {
      "needs_background": "light"
     },
     "output_type": "display_data"
    }
   ],
   "source": [
    "def create_plot(log):\n",
    "    # plt.plot(log.history['accuracy'],label = \"training accuracy\",color='green')\n",
    "    plt.plot(log.history['loss'],label = \"training loss\",color='darkgreen')\n",
    "    # plt.plot(log.history['val_accuracy'], label = \"validation accuracy\",color='grey')\n",
    "    plt.plot(log.history['val_loss'], label = \"validation loss\",color='darkblue')\n",
    "    plt.legend()\n",
    "    plt.show()\n",
    "    \n",
    "create_plot(log)"
   ]
  },
  {
   "cell_type": "markdown",
   "metadata": {},
   "source": []
  },
  {
   "cell_type": "code",
   "execution_count": 284,
   "metadata": {},
   "outputs": [
    {
     "name": "stdout",
     "output_type": "stream",
     "text": [
      "2275/1 [==========================================================================================================================================================================================================================================================================================================================================================================================================================================================================================================================================================================================================================================================================================================================================================================================================================================================================================================================================================================================================================================================================================================================================================================================================================================================================================================================================================================================================================================================================================================================================================================================================================================================================================================================================================================================================================================================================================================================================================================================================================================================================================================================================================================================================================================================================================================================================================================================================================================================================================================================================================================================================================================================================================================================================================================================================================================================================================================================================================================================================================================================================================================================================================================================================================================================================================================================================================================================================================================================================================================================================================================================================================================================================================================================================================================================================================================================================================================================================================================================================================================================================================================================================================================================================================================================================================================================================================================================================================================================================================================================================================================================================================================================================================================================================================================================================================================================================================================================================================================================================================================================================================================================================================================================================================================================================================================================================================================================================================================================================================================================================================================================================================================================================================================================================================================================================================================================================================================================================================================================================================================================================================================================================================================================================================================================================================================================================================================================================================================================================================================================================================================================================================================================================================================================================================================================================================================================================================================================================================================================================================================================================================================================================================================================================================================================================================================================================================================================================================================================================================================================================================================================================================================================================================================================================================================================================================================================================================================================================================================================================================================================================================================================================================================================================================================================================================================================================================================================================================================================================================================================================================================================================================================================================================================================================================================================================================================================================================================================================================================================================================================================================================================================================================================================================================================================================================================================================================================================================================================================================================================================================================================================================================================================================================================================================================================================================================================================================================================================================================================================================================================================================================================================================================================================================================================================================================================================================================================================================================================================================================================================================================================================================================================================================================================================================================================================================================================================================================================================================================================================================================================================================================================================================================================================================================================================================================================================================================================================================================================================================================================================================================================================================================================================================================================================================================================================================================================================================================================================================================================================================================================================================================================================================================================================================================================================================================================================================================================================================================================================================================================================================================================================================================================================================================================================================================================================================================================================================================================================================================================================================================================================================================================================================================================================================================================================================================================================================================================================================================================================================================================================================================================================================================================================================================================================================================================================================================================================================================================================================================================================================================================================================================================================================================================================================================================================================================================================================================================================================================================================================================================================================================================================================================================================================================================================================================================================================================================================================================================================================================================================================================================================================================================================================================================================================================================================================================================================================================================================================================================================================================================================================================================================================================================================================================================================================================================================================================================================================================================================================================================================================================================================================================================================================================================================================================================================================================================================================================================================================================================================================================================================================================================================================================================================================================================================================================================================================================================================================================================================================================================================================================================================================================================================================================================================================================================================================================================================================================================================================================================================================================================================================================================================================================================================================================================================================================================================================================================================================================================================================================================================================================================================================================================================================================================================================================================================================================================================================================================================================================================================================================================================================================================================================================================================================================================================================================================================================================================================================================================================================================================================================================================================================================================================================================================================================================================================================================================================================================================================================================================================================================================================================================================================================================================================================================================================================================================================================================================================================================================================================================================================================================================================================================================================================================================================================================================================================================================================================================================================================================================================================================================================================================================================================================================================================================================================================================================================================================================================================================================================================================================================================================================================================================================================================================================================================================================================================================================================================================================================================================================================================================================================================================================================================================================================================================================================================================================================================================================================================================================================================================================================================================================================================================================================================================================================================================================================================================================================================================================================================================================================================================================================================================================================================================================================================================================================================================================================================================================================================================================================================================================================================================================================================================================================================================================================================================================================================================================================================================================================================================================================================================================================================================================================================================================================================================================================================================================================================================================================================================================================================================================================================================================================================================================================================================================================================================================================================================================================================================================================================================================================================================================================================================================================================================================================================================================================================================================================================================================================================================================================================================================================================================================================================================================================================================================================================================================================================================================================================================================================================================================================================================================================================================================================================================================================================================================================================================================================================================================================================================================================================================================================================================================================================================================================================================================================================================================================================================================================================================================================================================================================================================================================================================================================================================================================================================================================================================================================================================================================================================================================================================================================================================================================================================================================================================================================================================================================================================================================================================================================================================================================================================================================================================================================================================================================================================================================================================================================================================================================================================================================================================================================================================================================================================================================================================================================================================================================================================================================================================================================================================================================================================================================================================================================================================================================================================================================================================================================================================================================================================================================================================================================================================================================================================================================================================================================================================================================================================================================================================================================================================================================================================================================================================================================================================================================================================================================================================================================================================================================================================================================================================================================================================================================================================================================================================================================================================================================================================================================================================================================================================================================================================================================================================================================================================================================================================================================================================================================================================================================================================================================================================================================================================================================================================================================================================================================================================================================================================================================================================================================================================================================================================================================================================================================================================================================================================================================================================================================================================================================================================================================================================================================================================================================================================================================================================================================================================================================================================================================================================================================================================================================================================================================================================================================================================================================================================================================================================================================================================================================================================================================================================================================================================================================================================================================================================================================================================================================================================================================================================================================================================================================================================================================================================================================================================================================================================================================================================================================================================================================================================================================================================================================================================================================================================================================================================================================================================================================================================================================================================================================================================================================================================================================================================================================================================================================================================================================================================================================================================================================================================================================================================================================================================================================================================================================================================================================================================================================================================================================================================================================================================================================================================================================================================================================================================================================================================================================================================================================================================================================================================================================================================================================================================================================================================================================================================================================================================================================================================================================================================================================================================================================================================================================================================================================================================================================================================================================================================================================================================================================================================================================================================================================================================================================================================================================================================================================================================================================================================================================================================================================================================================================================================================================================================================================================================================================================================================================================================================================================================================================================================================================================================================================================================================================================================================================================================================================================================================================================================================================================================================================================================================================================================================================================================================================================================================================================================================================================================================================================================================================================================================================================================================================================================================================================================================================================================================================================================================================================================================================================================================================================================================================================================================================================================================================================================================================================================================================================================================================================================================================================================================================================================================================================================================================================================================================================================================================================================================================================================================================================================================================================================================================================================================================================================================================================================================================================================================================================================================================================================================================================================================================================================================================================================================================================================================================================================================================================================================================================================================================================================================================================================================================================================================================================================================================================================================================================================================================================================================================================================================================================================================================================================================================================================================================================================================================================================================================================================================================================================================================================================================================================================================================================================================================================================================================================================================================================================================================================================================================================================================================================================================================================================================================================================================================================================================================================================================================================================================================================================================================================================================================================================================================================================================================================================================================================================================================================================================================================================================================================================================================================================================================================================================================================================================================================================================================================================================================================================================================================================================================================================================================================================================================================================================================================================================================================================================================================================================================================================================================================================================================================================================================================================================================================================================================================================================================================================================================================================================================================================================================================================================================================================================================================================================================================================================================================================================================================================================================================================================================================================================================================================================================================================================================================================================================================================================================================================================================================================================================================================================================================================================================================================================================================================================================================================================================================================================================================================================================================================================================================================================================================================================================================================================================================================================================================================================================================================================================================================================================================================================================================================================================================================================================================================================================================================================================================================================================================================================================================================================================================================================================================================================================================================================================================================================================================================================================================================================================================================================================================================================================================================================================================================================================================================================================================================================================================================================================================================================================================================================================================================================================================================================================================================================================================================================================================================================================================================================================================================================================================================================================================================================================================================================================================================================================================================================================================================================================================================================================================================================================================================================================================================================================================================================================================================================================================================================================================================================================================================================================================================================================================================================================================================================================================================================================================================================================================================================================================================================================================================================================================================================================================================================================================================================================================================================================================================================================================================================================================================================================================================================================================================================================================================================================================================================================================================================================================================================================================================================================================================================================================================================================================================================================================================================================================================================================================================================================================================================================================================================================================================================================================================================================================================================================================================================================================================================================================================================================================================================================================================================================================================================================================================================================================================================================================================================================================================================================================================================================================================================================================================================================================================================================================================================================================================================================================================================================================================================================================================================================================================================================================================================================================================================================================================================================================================================================================================================================================================================================================================================================================================================================================================================================================================================================================================================================================================================================================================================================================================================================================================================================================================================================================================================================================================================================================================================================================================================================================================================================================================================================================================================================================================================================================================================================================================================================================================================================================================================================================================================================================================================================================================================================================================================================================================================================================================================================================================================================================================================================================================================================================================================================================================================================================================================================================================================================================================================================================================================================================================================================================================================================================================================================================================================================================================================================================================================================================================================================================================================================================================================================================================================================================================================================================================================================================================================================================================================================================================================================================================================================================================================================================================================================================================================================================================================================================================================================================================================================================================================================================================================================================================================================================================================================================================================================================================================================================================================================================================================================================================================================================================================================================================================================================================================================================================================================================================================================================================================================================================================================================================================================================================================================================================================================================================================================================================================================================================================================================================================================================================================================================================================================================================================================================================================================================================================================================================================================================================================================================================================================================================================================================================================================================================================================================================================================================================================================================================================================================================================================================================================================================================================================================================================================================================================================================================================================================================================================================================================================================================================================================================================================================================================================================================================================================================================================================================================================================================================================================================================================================================================================================================================================================================================================================================================================================================================================================================================================================================================================================================================================================================================================================================================================================================================================================================================================================================================================================================================================================================================================================================================================================================================================================================================================================================================================================================================================================================================================================================================================================================================================================================================================================================================================================================================================================================================================================================================================================================================================================================================================================================================================================================================================================================================================================================================================================================================================================================================================================================================================================================================================================================================================================================================================================================================================================================================================================================================================================================================================================================================================================================================================================================================================================================================================================================================================================================================================================================================================================================================================================================================================================================================================================================================================================================================================================================================================================================================================================================================================================================================================================================================================================================================================================================================================================================================================================================================================================================================================================================================================================================================================================================================================================================================================================================================================================================================================================================================================================================================================================================================================================================================================================================================================================================================================================================================================================================================================================================================================================================================================================================================================================================================================================================================================================================================================================================================================================================================================================================================================================================================================================================================================================================================================================================================================================================================================================================================================================================================================================================================================================================================================================================================================================================================================================================================================================================================================================================================================================================================================================================================================================================================================================================================================================================================================================================================================================================================================================================================================================================================================================================================================================================================================================================================================================================================================================================================================================================================================================================================================================================================================================================================================================================================================================================================================================================================================================================================================================================================================================================================================================================================================================================================================================================================================================================================================================================================================================================================================================================================================================================================================================================================================================================================================================================================================================================================================================================================================================================================================================================] - 0s 34us/sample - loss: 0.0596\n",
      "test_loss: 0.11923686513198681\n",
      "roc: 0.7436210965557342\n"
     ]
    }
   ],
   "source": [
    "test_loss = model.evaluate(X_test, y_test)\n",
    "y_test_predict = model.predict(X_test).flatten()\n",
    "# calculate the roc\n",
    "roc_score = roc_auc_score(y_test, y_test_predict)\n",
    "print(f\"test_loss: {test_loss}\")\n",
    "print(f\"roc: {roc_score}\")"
   ]
  },
  {
   "cell_type": "code",
   "execution_count": null,
   "metadata": {},
   "outputs": [],
   "source": [
    "# calculate the roc\n",
    "roc_score = roc_auc_score(y_test, y_test_predict)\n",
    "print(f\"test_loss: {test_loss}\")\n",
    "print(f\"roc: {roc_score}\")"
   ]
  },
  {
   "cell_type": "code",
   "execution_count": 285,
   "metadata": {},
   "outputs": [],
   "source": [
    "def calculate_cost(fn,fp):\n",
    "    return 10*fn+fp\n",
    "\n",
    "cost_lost = {}\n",
    "for i in np.linspace(0,0.1,501):\n",
    "    pred_y = np.where(y_test_predict.flatten()> i, 1, 0)\n",
    "    cm = confusion_matrix(y_test,pred_y)\n",
    "    fn,fp = cm[1][0],cm[0][1]\n",
    "    # cost_lost[\"Threshold: \"+str(i)] = calculate_cost(fn,fp)\n",
    "    cost_lost[i] = calculate_cost(fn,fp)\n",
    "\n",
    "optimal_threshold = min(cost_lost, key=cost_lost.get)"
   ]
  },
  {
   "cell_type": "code",
   "execution_count": 286,
   "metadata": {},
   "outputs": [
    {
     "name": "stdout",
     "output_type": "stream",
     "text": [
      "Confusion matrix is :\n",
      "[[2190   59]\n",
      " [  21    5]]\n",
      "Accuracy rate is 0.9648351648351648\n",
      "Sensitivity is 0.19230769230769232\n"
     ]
    },
    {
     "data": {
      "image/png": "[encoded data removed]",
      "text/plain": [
       "<Figure size 720x360 with 2 Axes>"
      ]
     },
     "metadata": {
      "needs_background": "light"
     },
     "output_type": "display_data"
    }
   ],
   "source": [
    "pred_y = np.where(y_test_predict > optimal_threshold, 1, 0)\n",
    "cm = confusion_matrix(y_test, pred_y)\n",
    "print(f\"Confusion matrix is :\" )\n",
    "print(cm)\n",
    "accuracy_rate = (cm[0,0] + cm[1,1])/np.sum(cm)\n",
    "print(f\"Accuracy rate is {accuracy_rate}\")\n",
    "# calculate the sensitivity \n",
    "sensitivity = cm[1,1]/(cm[1,1] + cm[1,0])\n",
    "print(f\"Sensitivity is {sensitivity}\")\n",
    "\n",
    "fig, ax = plt.subplots(figsize=(10,5))\n",
    "sns.heatmap(cm, annot=True, fmt=\".0f\")\n",
    "plt.show()"
   ]
  },
  {
   "cell_type": "markdown",
   "metadata": {},
   "source": [
    "# Question 4\n",
    "### Question\n",
    "The file \"SMOTE.ipynb\" explains the process in detail and shows how to change the dataset with an example. You can copy and adjust the code to make it work within your analysis. You can adjust the \"sampling_strategy\" parameters as you see fit, particularly if\n",
    "you want to fine-tune your model in part 5.\n",
    "\n",
    "### Principle\n",
    "In this part, we are going to try both oversampling and undersampling.\n"
   ]
  },
  {
   "cell_type": "markdown",
   "metadata": {},
   "source": [
    "Here is the procedure to process the data\n",
    "1. Split the raw data into train and test\n",
    "2. Fit the MinMaxScaler to train data and then apply the model to test data\n",
    "3. Oversample and undersample the train data\n",
    "4. Split the train data into train and validation data\n",
    "5. Show the data distribution before and after oversampling and undersampling\n",
    "\n",
    "The reason to do so is that we want to make sure that we want to make sure the training data and validation data is similar. And when we test our model, we tend to use real test data instead of the simulated test data."
   ]
  },
  {
   "cell_type": "markdown",
   "metadata": {},
   "source": [
    "## 4.1 Split the raw data into train and test"
   ]
  },
  {
   "cell_type": "code",
   "execution_count": 287,
   "metadata": {},
   "outputs": [],
   "source": [
    "X_train, X_test, y_train, y_test = train_test_split(X,y,random_state=192,test_size=0.2)"
   ]
  },
  {
   "cell_type": "markdown",
   "metadata": {},
   "source": [
    "## 4.2 Fit the MinMaxScaler to train data and then apply the model to test data"
   ]
  },
  {
   "cell_type": "code",
   "execution_count": 288,
   "metadata": {},
   "outputs": [],
   "source": [
    "# Fit the MinMaxScaler\n",
    "scaler = MinMaxScaler()\n",
    "X_train = scaler.fit_transform(X_train)\n",
    "X_test = scaler.transform(X_test)"
   ]
  },
  {
   "cell_type": "markdown",
   "metadata": {},
   "source": [
    "## 4.3 Oversample and undersample the train data\n",
    "We will successively try to oversample the minority class to 10%, 30%, 50% of the size of all datasets."
   ]
  },
  {
   "cell_type": "code",
   "execution_count": 289,
   "metadata": {},
   "outputs": [
    {
     "name": "stdout",
     "output_type": "stream",
     "text": [
      "Percentage of 1 in y_over_synth10: 0.09090909090909091\n",
      "Percentage of 1 in y_over_synth30: 0.3333333333333333\n",
      "Percentage of 1 in y_over_synth50: 0.5\n"
     ]
    }
   ],
   "source": [
    "# Oversampling\n",
    "# k_neighbors set to 20 to make sure that the result is more general\n",
    "over = imblearn.over_sampling.SMOTE(sampling_strategy=0.1, random_state = 483, k_neighbors=20)  \n",
    "X_over_synth_10, y_over_synth_10 = over.fit_resample(X_train, y_train)\n",
    "over = imblearn.over_sampling.SMOTE(sampling_strategy=0.5, random_state = 483, k_neighbors=20)\n",
    "X_over_synth_30, y_over_synth_30 = over.fit_resample(X_train, y_train)\n",
    "over = imblearn.over_sampling.SMOTE(sampling_strategy=1, random_state = 483, k_neighbors=20)\n",
    "X_over_synth_50, y_over_synth_50 = over.fit_resample(X_train, y_train)\n",
    "\n",
    "print(\"Percentage of 1 in y_over_synth10:\", Counter(y_over_synth_10)[1]/len(y_over_synth_10))\n",
    "print(\"Percentage of 1 in y_over_synth30:\", Counter(y_over_synth_30)[1]/len(y_over_synth_30))\n",
    "print(\"Percentage of 1 in y_over_synth50:\", Counter(y_over_synth_50)[1]/len(y_over_synth_50))"
   ]
  },
  {
   "cell_type": "markdown",
   "metadata": {},
   "source": [
    "We will successively try to undersample the minority class to 10%, 30%,50% of the size of majority class."
   ]
  },
  {
   "cell_type": "code",
   "execution_count": 290,
   "metadata": {},
   "outputs": [
    {
     "name": "stdout",
     "output_type": "stream",
     "text": [
      "Percentage of 1 in y_under_synth_10: 0.09090909090909091\n",
      "Percentage of 1 in y_under_synth_30: 0.3333333333333333\n",
      "Percentage of 1 in y_under_synth_50: 0.5\n"
     ]
    }
   ],
   "source": [
    "under = imblearn.under_sampling.RandomUnderSampler(sampling_strategy=0.1, random_state = 483)  \n",
    "X_under_synth_10, y_under_synth_10 = under.fit_resample(X_train, y_train)\n",
    "under = imblearn.under_sampling.RandomUnderSampler(sampling_strategy=0.5, random_state = 483)\n",
    "X_under_synth_30, y_under_synth_30 = under.fit_resample(X_train, y_train)\n",
    "under = imblearn.under_sampling.RandomUnderSampler(sampling_strategy=1, random_state = 483)\n",
    "X_under_synth_50, y_under_synth_50 = under.fit_resample(X_train, y_train)\n",
    "\n",
    "print(\"Percentage of 1 in y_under_synth_10:\", Counter(y_under_synth_10)[1]/len(y_under_synth_10))\n",
    "print(\"Percentage of 1 in y_under_synth_30:\", Counter(y_under_synth_30)[1]/len(y_under_synth_30))\n",
    "print(\"Percentage of 1 in y_under_synth_50:\", Counter(y_under_synth_50)[1]/len(y_under_synth_50))"
   ]
  },
  {
   "cell_type": "markdown",
   "metadata": {},
   "source": [
    "Plot to illustrate before (left plot) and after (right plot) undersampling of majority class. Green dots represent the minority class, and Grey dots represent the majority class."
   ]
  },
  {
   "cell_type": "code",
   "execution_count": 291,
   "metadata": {},
   "outputs": [
    {
     "data": {
      "text/plain": [
       "<matplotlib.collections.PathCollection at 0x7fed1369e450>"
      ]
     },
     "execution_count": 291,
     "metadata": {},
     "output_type": "execute_result"
    },
    {
     "data": {
      "image/png": "[encoded data removed]",
      "text/plain": [
       "<Figure size 432x288 with 2 Axes>"
      ]
     },
     "metadata": {
      "needs_background": "light"
     },
     "output_type": "display_data"
    }
   ],
   "source": [
    "# set plot xticks\n",
    "x = np.arange(0, len(X_under_synth_10), 1)\n",
    "plt.xticks(x, x)\n",
    "plt.subplot(1,2,1)\n",
    "plt.scatter(X_train[:, 2], X_train[:, 3], c=y_train, s=10, cmap=\"Accent_r\")\n",
    "plt.subplot(1,2,2)\n",
    "plt.scatter(X_under_synth_10[:, 2], X_under_synth_10[:, 3], c=y_under_synth_10, s=10, cmap=\"Accent_r\")"
   ]
  },
  {
   "cell_type": "markdown",
   "metadata": {},
   "source": [
    "## 4.4 Split the train data into train and validation data"
   ]
  },
  {
   "cell_type": "code",
   "execution_count": 292,
   "metadata": {},
   "outputs": [
    {
     "name": "stdout",
     "output_type": "stream",
     "text": [
      "The length of X_over_synth_10_train is: 7433\n",
      "The length of X_over_synth_10_val is: 2478\n",
      "The length of X_over_synth_30_train is: 10136\n",
      "The length of X_over_synth_30_val is: 3379\n",
      "The length of X_over_synth_50_train is: 13515\n",
      "The length of X_over_synth_50_val is: 4505\n",
      "The length of X_under_synth_10_train is: 709\n",
      "The length of X_under_synth_10_val is: 237\n",
      "The length of X_under_synth_30_train is: 193\n",
      "The length of X_under_synth_30_val is: 65\n",
      "The length of X_under_synth_50_train is: 129\n",
      "The length of X_under_synth_50_val is: 43\n"
     ]
    }
   ],
   "source": [
    "X_over_synth_10_train, X_over_synth_10_val, y_over_synth_10_train, y_over_synth_10_val = train_test_split(\n",
    "    X_over_synth_10, y_over_synth_10, random_state=192, test_size=0.25)\n",
    "X_over_synth_30_train, X_over_synth_30_val, y_over_synth_30_train, y_over_synth_30_val = train_test_split(\n",
    "    X_over_synth_30, y_over_synth_30, random_state=192, test_size=0.25)\n",
    "X_over_synth_50_train, X_over_synth_50_val, y_over_synth_50_train, y_over_synth_50_val = train_test_split(\n",
    "    X_over_synth_50, y_over_synth_50, random_state=192, test_size=0.25)\n",
    "X_under_synth_10_train, X_under_synth_10_val, y_under_synth_10_train, y_under_synth_10_val = train_test_split(\n",
    "    X_under_synth_10, y_under_synth_10, random_state=192, test_size=0.25)\n",
    "X_under_synth_30_train, X_under_synth_30_val, y_under_synth_30_train, y_under_synth_30_val = train_test_split(\n",
    "    X_under_synth_30, y_under_synth_30, random_state=192, test_size=0.25)\n",
    "X_under_synth_50_train, X_under_synth_50_val, y_under_synth_50_train, y_under_synth_50_val = train_test_split(\n",
    "    X_under_synth_50, y_under_synth_50, random_state=192, test_size=0.25)\n",
    "\n",
    "print(\"The length of X_over_synth_10_train is:\", len(X_over_synth_10_train))\n",
    "print(\"The length of X_over_synth_10_val is:\", len(X_over_synth_10_val))\n",
    "print(\"The length of X_over_synth_30_train is:\", len(X_over_synth_30_train))\n",
    "print(\"The length of X_over_synth_30_val is:\", len(X_over_synth_30_val))\n",
    "print(\"The length of X_over_synth_50_train is:\", len(X_over_synth_50_train))\n",
    "print(\"The length of X_over_synth_50_val is:\", len(X_over_synth_50_val))\n",
    "print(\"The length of X_under_synth_10_train is:\", len(X_under_synth_10_train))\n",
    "print(\"The length of X_under_synth_10_val is:\", len(X_under_synth_10_val))\n",
    "print(\"The length of X_under_synth_30_train is:\", len(X_under_synth_30_train))\n",
    "print(\"The length of X_under_synth_30_val is:\", len(X_under_synth_30_val))\n",
    "print(\"The length of X_under_synth_50_train is:\", len(X_under_synth_50_train))\n",
    "print(\"The length of X_under_synth_50_val is:\", len(X_under_synth_50_val))"
   ]
  },
  {
   "cell_type": "markdown",
   "metadata": {},
   "source": [
    "# Question 5\n",
    "### Question\n",
    " Create a new (deep) neural network and train it on your enhanced dataset. Use training and validation sets derived from the enhanced dataset to find a model with high accuracy. Evaluate your final model on a test set consisting only of original data. Again, record the accuracy and AUC. Briefly discuss the changes you would expect in the metrics and the actual changes you observe. Would you say that you are now doing better at identifying fraudulent claims?\n",
    "\n",
    "### Principle\n",
    "To simplify the problem, and save computational time, we will train the synthetic data to a very simple neural network, and then compare the performance of these dinstinct synthetic data.\n",
    "After doing this, we are going to select the best performance dataset and then we can use tunner to train the model for it.\n",
    "\n",
    "The neural network structure is as follows:\n",
    "1. Input layer\n",
    "2. 2 Hiiden layers, in which the number of neurons in each layer is equal to 60 and 'relu' function is used\n",
    "3. No dropout layer\n",
    "4. Output layer, with 'sigmoid' activation function.\n",
    "5. Optimizer: AdamOptimizer"
   ]
  },
  {
   "cell_type": "code",
   "execution_count": 293,
   "metadata": {},
   "outputs": [],
   "source": [
    "tf.keras.backend.clear_session()\n",
    "tf.random.set_seed(192)"
   ]
  },
  {
   "cell_type": "code",
   "execution_count": 294,
   "metadata": {},
   "outputs": [],
   "source": [
    "# Use a controlled model to compare the performance of the different sampling strategies"
   ]
  },
  {
   "cell_type": "code",
   "execution_count": 295,
   "metadata": {},
   "outputs": [],
   "source": [
    "class TrainModel:\n",
    "    def __init__(self, X_train, y_train, X_val=None, y_val=None,X_test=None,y_test=None, epochs=100,early_stopping:bool=False,patience:int=10):\n",
    "        tf.keras.backend.clear_session()\n",
    "        tf.random.set_seed(192)\n",
    "        self.X_train = X_train\n",
    "        self.y_train = y_train\n",
    "        self.X_val = X_val\n",
    "        self.y_val = y_val\n",
    "        self.X_test = X_test\n",
    "        self.y_test = y_test\n",
    "        self.epochs = epochs\n",
    "        self.early_stopping= early_stopping\n",
    "        self.patience = patience\n",
    "        self.simple_model = tf.keras.models.Sequential([\n",
    "            tf.keras.layers.Dense(60, activation='relu'),\n",
    "            tf.keras.layers.Dense(60, activation='relu'),\n",
    "            tf.keras.layers.Dense(1, activation='sigmoid')\n",
    "        ])\n",
    "\n",
    "    def compile(self):\n",
    "        self.simple_model.compile(optimizer='adam', loss='binary_crossentropy', metrics=['accuracy'])\n",
    "\n",
    "    def fit(self): # We fit the model with train and validation data becasue validation data can tell us when to stop training\n",
    "        if self.early_stopping:\n",
    "            early_stopping_cb = tf.keras.callbacks.EarlyStopping(patience=self.patience, restore_best_weights=True) # set patience to 10 to accelerate the training\n",
    "            self.log = self.simple_model.fit(self.X_train, self.y_train,validation_data= (self.X_val, self.y_val),callbacks=[early_stopping_cb], epochs=self.epochs)\n",
    "        else:\n",
    "            self.log = self.simple_model.fit(self.X_train, self.y_train,validation_data= (self.X_val, self.y_val),epochs=self.epochs)\n",
    "\n",
    "    def evaluate(self): # evalute it on the test dataset, since we are going to predict the raw data like test one\n",
    "        loss = self.simple_model.evaluate(self.X_test, self.y_test)\n",
    "        x_test_predict = self.simple_model.predict(self.X_test)\n",
    "        # calculate the roc\n",
    "        roc_score = roc_auc_score(self.y_test, x_test_predict)\n",
    "        # calculate the accuracy suppose the threshold is 0.5\n",
    "        x_test_predict_binary = np.where(x_test_predict>0.5,1,0)\n",
    "        accuracy = accuracy_score(self.y_test, x_test_predict_binary)\n",
    "        # calculate the sensitivity\n",
    "        sensitivity = recall_score(self.y_test, x_test_predict_binary)\n",
    "        return {'loss': loss, 'accuracy': accuracy, 'sensitivity': sensitivity, 'roc': roc_score,'modle':self.simple_model}\n",
    "    \n",
    "    def draw_the_loss_curve(self):\n",
    "        # plt.plot(log.history['accuracy'],label = \"training accuracy\",color='green')\n",
    "        plt.plot(self.log.history['loss'],label = \"training loss\",color='darkgreen')\n",
    "        # plt.plot(log.history['val_accuracy'], label = \"validation accuracy\",color='grey')\n",
    "        plt.plot(self.log.history['val_loss'], label = \"validation loss\",color='darkblue')\n",
    "        plt.legend()\n",
    "        plt.show()\n",
    "\n",
    "    def run(self):\n",
    "        self.compile()\n",
    "        self.fit()\n",
    "        # self.draw_the_loss_curve()\n",
    "        return self.evaluate()"
   ]
  },
  {
   "cell_type": "markdown",
   "metadata": {},
   "source": [
    "In this case, if we apply the model to the test data (real data), and select ROC as the metrics to select the sampling strategy, we can find that in the oversampling strategy, the ROC rate is higher than undersampling strategy. Since there is a slight difference between about 10%, 30% and 50% oversampling, we will use the 10% oversampling strategy."
   ]
  },
  {
   "cell_type": "code",
   "execution_count": 296,
   "metadata": {},
   "outputs": [],
   "source": [
    "# tf.keras.backend.clear_session()\n",
    "# tf.random.set_seed(192)\n",
    "# res_dict = {} # FIXME\n",
    "# for X_train,y_train,X_val,y_val,name in zip([X_over_synth_10_train,X_over_synth_30_train,X_over_synth_50_train,X_under_synth_10_train,X_under_synth_30_train,X_under_synth_50_train], \n",
    "#                            [y_over_synth_10_train,y_over_synth_30_train,y_over_synth_50_train,y_under_synth_10_train,y_under_synth_30_train,y_under_synth_50_train],\n",
    "#                            [X_over_synth_10_val,X_over_synth_30_val,X_over_synth_50_val,X_under_synth_10_val,X_under_synth_30_val,X_under_synth_50_val],\n",
    "#                            [y_over_synth_10_val,y_over_synth_30_val,y_over_synth_50_val,y_under_synth_10_val,y_under_synth_30_val,y_under_synth_50_val],\n",
    "#                            [\"over_synth_10\",\"over_synth_30\",\"over_synth_50\",\"under_synth_10\",\"under_synth_30\",\"under_synth_50\"]):\n",
    "#     tm = TrainModel(X_train,y_train,X_val, y_val, X_test = X_test, y_test =y_test,early_stopping=True)\n",
    "#     res = tm.run()\n",
    "#     res_dict[name] = (res)"
   ]
  },
  {
   "cell_type": "code",
   "execution_count": 297,
   "metadata": {},
   "outputs": [
    {
     "name": "stdout",
     "output_type": "stream",
     "text": [
      "over_synth_10:0.7949173991859629\n",
      "over_synth_30:0.7287939939118242\n",
      "over_synth_50:0.6967284605123645\n",
      "under_synth_10:0.82792352156514\n",
      "under_synth_30:0.7579608030919726\n",
      "under_synth_50:0.7490337585935629\n"
     ]
    }
   ],
   "source": [
    "for key,value in res_dict.items():\n",
    "    print(f\"{key}:{value['roc']}\")"
   ]
  },
  {
   "cell_type": "code",
   "execution_count": 298,
   "metadata": {},
   "outputs": [],
   "source": [
    "def train_model(hp):\n",
    "    tf.keras.backend.clear_session()\n",
    "    tf.random.set_seed(192)\n",
    "    number_units = hp.Int('number_units', min_value=20, max_value=80, step=20)\n",
    "    dropout_rate = hp.Float('dropout_rate', min_value = 0.1, max_value=0.3) \n",
    "    # optim_algo = hp.Choice('optimizer', values=['sgd','adam']) \n",
    "    optim_algo = 'adam'\n",
    "    learning_rate = hp.Float('learning_rate', min_value = 0.001, max_value=1, sampling='log') \n",
    "    number_layers = hp.Int('number_layers', min_value=1, max_value=3) # hidden layers\n",
    "    activation = hp.Choice('activation', values=['relu','sigmoid'])\n",
    "    whether_dropout = hp.Choice('whether_dropout', values=[True,False])\n",
    "\n",
    "    if whether_dropout == True:\n",
    "        model = tf.keras.models.Sequential([\n",
    "            tf.keras.layers.Dropout(dropout_rate),\n",
    "            tf.keras.layers.Dense(number_units, activation=activation)]*number_layers+[ # number_layers is the number of hidden layers\n",
    "            tf.keras.layers.Dense(1,activation='sigmoid')])\n",
    "    else:\n",
    "        model = tf.keras.models.Sequential([\n",
    "            tf.keras.layers.Dense(number_units, activation=activation)]*number_layers+[ # number_layers is the number of hidden layers\n",
    "            tf.keras.layers.Dense(1,activation='sigmoid')])\n",
    "\n",
    "    if optim_algo== 'sgd':\n",
    "        # Note that exploding gradients can be a big problem when running regressions, especially under SGD\n",
    "        # Hence, we use \"gradient clipping\" with parameter alpha, which means that the gradients are manually kept between -1 and 1\n",
    "        # This is of course another hyperparameter that we might tune!\n",
    "        optimizer = tf.keras.optimizers.SGD(\n",
    "            learning_rate=learning_rate, clipvalue=1)\n",
    "    elif optim_algo == 'adam':\n",
    "        optimizer = tf.keras.optimizers.Adam(\n",
    "            learning_rate=learning_rate)\n",
    "\n",
    "    # random_seed = 192\n",
    "    model.compile(optimizer=optimizer, loss='binary_crossentropy')\n",
    "    return model\n"
   ]
  },
  {
   "cell_type": "code",
   "execution_count": 299,
   "metadata": {},
   "outputs": [],
   "source": [
    "# rm log file\n",
    "# ! rm -rf ./logs_over_synth_10/"
   ]
  },
  {
   "cell_type": "code",
   "execution_count": 300,
   "metadata": {},
   "outputs": [
    {
     "name": "stdout",
     "output_type": "stream",
     "text": [
      "INFO:tensorflow:Reloading Oracle from existing project logs_over_synth_10/kt_tutorial_over_synth_10/oracle.json\n",
      "INFO:tensorflow:Reloading Tuner from logs_over_synth_10/kt_tutorial_over_synth_10/tuner0.json\n",
      "INFO:tensorflow:Oracle triggered exit\n"
     ]
    }
   ],
   "source": [
    "# Run the best model for X_over_synth_10_train\n",
    "tuner = kt.Hyperband(train_model,\n",
    "                     objective='val_loss',\n",
    "                     max_epochs=10,\n",
    "                     factor=3,\n",
    "                     directory='logs_over_synth_10',\n",
    "                     project_name='kt_tutorial_over_synth_10')\n",
    "tf.keras.backend.clear_session()\n",
    "tf.random.set_seed(192)\n",
    "tuner.search(X_over_synth_10_train, y_over_synth_10_train, epochs=10, validation_data =(X_over_synth_10_val,y_over_synth_10_val))"
   ]
  },
  {
   "cell_type": "code",
   "execution_count": 307,
   "metadata": {},
   "outputs": [],
   "source": [
    "best_hps = tuner.get_best_hyperparameters()[0]\n",
    "best_model = tuner.hypermodel.build(best_hps)"
   ]
  },
  {
   "cell_type": "code",
   "execution_count": 302,
   "metadata": {},
   "outputs": [
    {
     "name": "stdout",
     "output_type": "stream",
     "text": [
      "Train on 7433 samples, validate on 2478 samples\n",
      "Epoch 1/100\n",
      "7433/7433 [==============================] - 2s 307us/sample - loss: 0.2024 - val_loss: 0.1416\n",
      "Epoch 2/100\n",
      "7433/7433 [==============================] - 1s 187us/sample - loss: 0.1306 - val_loss: 0.1071\n",
      "Epoch 3/100\n",
      "7433/7433 [==============================] - 1s 154us/sample - loss: 0.1004 - val_loss: 0.0852\n",
      "Epoch 4/100\n",
      "7433/7433 [==============================] - 1s 130us/sample - loss: 0.0855 - val_loss: 0.0884\n",
      "Epoch 5/100\n",
      "7433/7433 [==============================] - 1s 134us/sample - loss: 0.0722 - val_loss: 0.0614\n",
      "Epoch 6/100\n",
      "7433/7433 [==============================] - 1s 183us/sample - loss: 0.0617 - val_loss: 0.0645\n",
      "Epoch 7/100\n",
      "7433/7433 [==============================] - 1s 170us/sample - loss: 0.0537 - val_loss: 0.0541\n",
      "Epoch 8/100\n",
      "7433/7433 [==============================] - 1s 118us/sample - loss: 0.0475 - val_loss: 0.0509\n",
      "Epoch 9/100\n",
      "7433/7433 [==============================] - 1s 124us/sample - loss: 0.0434 - val_loss: 0.0491\n",
      "Epoch 10/100\n",
      "7433/7433 [==============================] - 1s 141us/sample - loss: 0.0395 - val_loss: 0.0520\n",
      "Epoch 11/100\n",
      "7433/7433 [==============================] - 1s 185us/sample - loss: 0.0385 - val_loss: 0.0456\n",
      "Epoch 12/100\n",
      "7433/7433 [==============================] - 1s 174us/sample - loss: 0.0362 - val_loss: 0.0424\n",
      "Epoch 13/100\n",
      "7433/7433 [==============================] - 1s 125us/sample - loss: 0.0318 - val_loss: 0.0504\n",
      "Epoch 14/100\n",
      "7433/7433 [==============================] - 1s 142us/sample - loss: 0.0313 - val_loss: 0.0450\n",
      "Epoch 15/100\n",
      "7433/7433 [==============================] - 1s 129us/sample - loss: 0.0290 - val_loss: 0.0455\n",
      "Epoch 16/100\n",
      "7433/7433 [==============================] - 1s 184us/sample - loss: 0.0287 - val_loss: 0.0409\n",
      "Epoch 17/100\n",
      "7433/7433 [==============================] - 1s 154us/sample - loss: 0.0266 - val_loss: 0.0354\n",
      "Epoch 18/100\n",
      "7433/7433 [==============================] - 1s 135us/sample - loss: 0.0243 - val_loss: 0.0355\n",
      "Epoch 19/100\n",
      "7433/7433 [==============================] - 1s 136us/sample - loss: 0.0263 - val_loss: 0.0403\n",
      "Epoch 20/100\n",
      "7433/7433 [==============================] - 1s 130us/sample - loss: 0.0242 - val_loss: 0.0338\n",
      "Epoch 21/100\n",
      "7433/7433 [==============================] - 1s 167us/sample - loss: 0.0253 - val_loss: 0.0328\n",
      "Epoch 22/100\n",
      "7433/7433 [==============================] - 2s 213us/sample - loss: 0.0230 - val_loss: 0.0649\n",
      "Epoch 23/100\n",
      "7433/7433 [==============================] - 1s 148us/sample - loss: 0.0210 - val_loss: 0.0425\n",
      "Epoch 24/100\n",
      "7433/7433 [==============================] - 1s 128us/sample - loss: 0.0223 - val_loss: 0.0360\n",
      "Epoch 25/100\n",
      "7433/7433 [==============================] - 1s 175us/sample - loss: 0.0176 - val_loss: 0.0385\n",
      "Epoch 26/100\n",
      "7433/7433 [==============================] - 1s 174us/sample - loss: 0.0202 - val_loss: 0.0405\n",
      "Epoch 27/100\n",
      "7433/7433 [==============================] - 1s 179us/sample - loss: 0.0173 - val_loss: 0.0444\n",
      "Epoch 28/100\n",
      "7433/7433 [==============================] - 1s 164us/sample - loss: 0.0170 - val_loss: 0.0323\n",
      "Epoch 29/100\n",
      "7433/7433 [==============================] - 1s 161us/sample - loss: 0.0174 - val_loss: 0.0408\n",
      "Epoch 30/100\n",
      "7433/7433 [==============================] - 2s 242us/sample - loss: 0.0188 - val_loss: 0.0545\n",
      "Epoch 31/100\n",
      "7433/7433 [==============================] - 2s 221us/sample - loss: 0.0170 - val_loss: 0.0306\n",
      "Epoch 32/100\n",
      "7433/7433 [==============================] - 1s 150us/sample - loss: 0.0189 - val_loss: 0.0423\n",
      "Epoch 33/100\n",
      "7433/7433 [==============================] - 1s 186us/sample - loss: 0.0163 - val_loss: 0.0290\n",
      "Epoch 34/100\n",
      "7433/7433 [==============================] - 2s 269us/sample - loss: 0.0150 - val_loss: 0.0390\n",
      "Epoch 35/100\n",
      "7433/7433 [==============================] - 2s 221us/sample - loss: 0.0155 - val_loss: 0.0311\n",
      "Epoch 36/100\n",
      "7433/7433 [==============================] - 1s 181us/sample - loss: 0.0165 - val_loss: 0.0441\n",
      "Epoch 37/100\n",
      "7433/7433 [==============================] - 1s 147us/sample - loss: 0.0155 - val_loss: 0.0280\n",
      "Epoch 38/100\n",
      "7433/7433 [==============================] - 1s 166us/sample - loss: 0.0157 - val_loss: 0.0344\n",
      "Epoch 39/100\n",
      "7433/7433 [==============================] - 1s 143us/sample - loss: 0.0150 - val_loss: 0.0326\n",
      "Epoch 40/100\n",
      "7433/7433 [==============================] - 1s 155us/sample - loss: 0.0151 - val_loss: 0.0421\n",
      "Epoch 41/100\n",
      "7433/7433 [==============================] - 1s 167us/sample - loss: 0.0160 - val_loss: 0.0436\n",
      "Epoch 42/100\n",
      "7433/7433 [==============================] - 1s 177us/sample - loss: 0.0142 - val_loss: 0.0298\n",
      "Epoch 43/100\n",
      "7433/7433 [==============================] - 1s 192us/sample - loss: 0.0146 - val_loss: 0.0397\n",
      "Epoch 44/100\n",
      "7433/7433 [==============================] - 2s 216us/sample - loss: 0.0132 - val_loss: 0.0269\n",
      "Epoch 45/100\n",
      "7433/7433 [==============================] - 2s 203us/sample - loss: 0.0122 - val_loss: 0.0294\n",
      "Epoch 46/100\n",
      "7433/7433 [==============================] - 2s 255us/sample - loss: 0.0142 - val_loss: 0.0307\n",
      "Epoch 47/100\n",
      "7433/7433 [==============================] - 2s 254us/sample - loss: 0.0115 - val_loss: 0.0325\n",
      "Epoch 48/100\n",
      "7433/7433 [==============================] - 2s 208us/sample - loss: 0.0122 - val_loss: 0.0389\n",
      "Epoch 49/100\n",
      "7433/7433 [==============================] - 2s 235us/sample - loss: 0.0102 - val_loss: 0.0345\n",
      "Epoch 50/100\n",
      "7433/7433 [==============================] - 2s 279us/sample - loss: 0.0138 - val_loss: 0.0430\n",
      "Epoch 51/100\n",
      "7433/7433 [==============================] - 2s 264us/sample - loss: 0.0130 - val_loss: 0.0339\n",
      "Epoch 52/100\n",
      "7433/7433 [==============================] - 2s 260us/sample - loss: 0.0094 - val_loss: 0.0267\n",
      "Epoch 53/100\n",
      "7433/7433 [==============================] - 2s 275us/sample - loss: 0.0122 - val_loss: 0.0379\n",
      "Epoch 54/100\n",
      "7433/7433 [==============================] - 2s 258us/sample - loss: 0.0095 - val_loss: 0.0314\n",
      "Epoch 55/100\n",
      "7433/7433 [==============================] - 2s 267us/sample - loss: 0.0215 - val_loss: 0.0344\n",
      "Epoch 56/100\n",
      "7433/7433 [==============================] - 2s 321us/sample - loss: 0.0118 - val_loss: 0.0306\n",
      "Epoch 57/100\n",
      "7433/7433 [==============================] - 1s 158us/sample - loss: 0.0080 - val_loss: 0.0393\n",
      "Epoch 58/100\n",
      "7433/7433 [==============================] - 1s 166us/sample - loss: 0.0105 - val_loss: 0.0289\n",
      "Epoch 59/100\n",
      "7433/7433 [==============================] - 1s 184us/sample - loss: 0.0098 - val_loss: 0.0330\n",
      "Epoch 60/100\n",
      "7433/7433 [==============================] - 1s 197us/sample - loss: 0.0121 - val_loss: 0.0323\n",
      "Epoch 61/100\n",
      "7433/7433 [==============================] - 1s 161us/sample - loss: 0.0092 - val_loss: 0.0332\n",
      "Epoch 62/100\n",
      "7433/7433 [==============================] - 1s 162us/sample - loss: 0.0106 - val_loss: 0.0478\n"
     ]
    }
   ],
   "source": [
    "tf.keras.backend.clear_session()\n",
    "tf.random.set_seed(192)\n",
    "early_stopping_cb = tf.keras.callbacks.EarlyStopping(patience=10, restore_best_weights=True) # set patience to 10 to accelerate the training\n",
    "log = best_model.fit(X_over_synth_10_train, y_over_synth_10_train, epochs=100, validation_data =(X_over_synth_10_val,y_over_synth_10_val),callbacks=[early_stopping_cb])"
   ]
  },
  {
   "cell_type": "code",
   "execution_count": 303,
   "metadata": {},
   "outputs": [
    {
     "data": {
      "image/png": "[encoded data removed]",
      "text/plain": [
       "<Figure size 432x288 with 1 Axes>"
      ]
     },
     "metadata": {
      "needs_background": "light"
     },
     "output_type": "display_data"
    }
   ],
   "source": [
    "def create_plot(log):\n",
    "    # plt.plot(log.history['accuracy'],label = \"training accuracy\",color='green')\n",
    "    plt.plot(log.history['loss'],label = \"training loss\",color='darkgreen')\n",
    "    # plt.plot(log.history['val_accuracy'], label = \"validation accuracy\",color='grey')\n",
    "    plt.plot(log.history['val_loss'], label = \"validation loss\",color='darkblue')\n",
    "    plt.legend()\n",
    "    plt.show()\n",
    "create_plot(log)"
   ]
  },
  {
   "cell_type": "code",
   "execution_count": 305,
   "metadata": {},
   "outputs": [
    {
     "ename": "AttributeError",
     "evalue": "'str' object has no attribute 'decode'",
     "output_type": "error",
     "traceback": [
      "\u001b[0;31m---------------------------------------------------------------------------\u001b[0m",
      "\u001b[0;31mAttributeError\u001b[0m                            Traceback (most recent call last)",
      "\u001b[0;32m<ipython-input-305-235f277c4959>\u001b[0m in \u001b[0;36m<module>\u001b[0;34m\u001b[0m\n\u001b[1;32m      4\u001b[0m \u001b[0;31m# load the best model in question 5\u001b[0m\u001b[0;34m\u001b[0m\u001b[0;34m\u001b[0m\u001b[0;34m\u001b[0m\u001b[0m\n\u001b[1;32m      5\u001b[0m \u001b[0;31m# best_model=None\u001b[0m\u001b[0;34m\u001b[0m\u001b[0;34m\u001b[0m\u001b[0;34m\u001b[0m\u001b[0m\n\u001b[0;32m----> 6\u001b[0;31m \u001b[0mbest_model\u001b[0m \u001b[0;34m=\u001b[0m \u001b[0mtf\u001b[0m\u001b[0;34m.\u001b[0m\u001b[0mkeras\u001b[0m\u001b[0;34m.\u001b[0m\u001b[0mmodels\u001b[0m\u001b[0;34m.\u001b[0m\u001b[0mload_model\u001b[0m\u001b[0;34m(\u001b[0m\u001b[0;34m'./models/best_model_question_5.h5'\u001b[0m\u001b[0;34m)\u001b[0m\u001b[0;34m\u001b[0m\u001b[0;34m\u001b[0m\u001b[0m\n\u001b[0m",
      "\u001b[0;32m/opt/anaconda3/envs/smm768/lib/python3.7/site-packages/tensorflow_core/python/keras/saving/save.py\u001b[0m in \u001b[0;36mload_model\u001b[0;34m(filepath, custom_objects, compile)\u001b[0m\n\u001b[1;32m    144\u001b[0m   if (h5py is not None and (\n\u001b[1;32m    145\u001b[0m       isinstance(filepath, h5py.File) or h5py.is_hdf5(filepath))):\n\u001b[0;32m--> 146\u001b[0;31m     \u001b[0;32mreturn\u001b[0m \u001b[0mhdf5_format\u001b[0m\u001b[0;34m.\u001b[0m\u001b[0mload_model_from_hdf5\u001b[0m\u001b[0;34m(\u001b[0m\u001b[0mfilepath\u001b[0m\u001b[0;34m,\u001b[0m \u001b[0mcustom_objects\u001b[0m\u001b[0;34m,\u001b[0m \u001b[0mcompile\u001b[0m\u001b[0;34m)\u001b[0m\u001b[0;34m\u001b[0m\u001b[0;34m\u001b[0m\u001b[0m\n\u001b[0m\u001b[1;32m    147\u001b[0m \u001b[0;34m\u001b[0m\u001b[0m\n\u001b[1;32m    148\u001b[0m   \u001b[0;32mif\u001b[0m \u001b[0misinstance\u001b[0m\u001b[0;34m(\u001b[0m\u001b[0mfilepath\u001b[0m\u001b[0;34m,\u001b[0m \u001b[0msix\u001b[0m\u001b[0;34m.\u001b[0m\u001b[0mstring_types\u001b[0m\u001b[0;34m)\u001b[0m\u001b[0;34m:\u001b[0m\u001b[0;34m\u001b[0m\u001b[0;34m\u001b[0m\u001b[0m\n",
      "\u001b[0;32m/opt/anaconda3/envs/smm768/lib/python3.7/site-packages/tensorflow_core/python/keras/saving/hdf5_format.py\u001b[0m in \u001b[0;36mload_model_from_hdf5\u001b[0;34m(filepath, custom_objects, compile)\u001b[0m\n\u001b[1;32m    164\u001b[0m     \u001b[0;32mif\u001b[0m \u001b[0mmodel_config\u001b[0m \u001b[0;32mis\u001b[0m \u001b[0;32mNone\u001b[0m\u001b[0;34m:\u001b[0m\u001b[0;34m\u001b[0m\u001b[0;34m\u001b[0m\u001b[0m\n\u001b[1;32m    165\u001b[0m       \u001b[0;32mraise\u001b[0m \u001b[0mValueError\u001b[0m\u001b[0;34m(\u001b[0m\u001b[0;34m'No model found in config file.'\u001b[0m\u001b[0;34m)\u001b[0m\u001b[0;34m\u001b[0m\u001b[0;34m\u001b[0m\u001b[0m\n\u001b[0;32m--> 166\u001b[0;31m     \u001b[0mmodel_config\u001b[0m \u001b[0;34m=\u001b[0m \u001b[0mjson\u001b[0m\u001b[0;34m.\u001b[0m\u001b[0mloads\u001b[0m\u001b[0;34m(\u001b[0m\u001b[0mmodel_config\u001b[0m\u001b[0;34m.\u001b[0m\u001b[0mdecode\u001b[0m\u001b[0;34m(\u001b[0m\u001b[0;34m'utf-8'\u001b[0m\u001b[0;34m)\u001b[0m\u001b[0;34m)\u001b[0m\u001b[0;34m\u001b[0m\u001b[0;34m\u001b[0m\u001b[0m\n\u001b[0m\u001b[1;32m    167\u001b[0m     model = model_config_lib.model_from_config(model_config,\n\u001b[1;32m    168\u001b[0m                                                custom_objects=custom_objects)\n",
      "\u001b[0;31mAttributeError\u001b[0m: 'str' object has no attribute 'decode'"
     ]
    }
   ],
   "source": [
    "# save the best model in question 5\n",
    "# best_model.save('./best_model_question_5.h5')\n",
    "\n",
    "# load the best model in question 5\n",
    "best_model = tf.keras.models.load_model('./models/best_model_question_5.h5')"
   ]
  },
  {
   "cell_type": "markdown",
   "metadata": {},
   "source": [
    "Evaluate the model on the test dataset, and we can find that our ROC score is about 0.82 which is good. In the next part, we are going to select the threshold to predcit the fraud."
   ]
  },
  {
   "cell_type": "code",
   "execution_count": 308,
   "metadata": {},
   "outputs": [
    {
     "name": "stdout",
     "output_type": "stream",
     "text": [
      "2275/1 [==========================================================================================================================================================================================================================================================================================================================================================================================================================================================================================================================================================================================================================================================================================================================================================================================================================================================================================================================================================================================================================================================================================================================================================================================================================================================================================================================================================================================================================================================================================================================================================================================================================================================================================================================================================================================================================================================================================================================================================================================================================================================================================================================================================================================================================================================================================================================================================================================================================================================================================================================================================================================================================================================================================================================================================================================================================================================================================================================================================================================================================================================================================================================================================================================================================================================================================================================================================================================================================================================================================================================================================================================================================================================================================================================================================================================================================================================================================================================================================================================================================================================================================================================================================================================================================================================================================================================================================================================================================================================================================================================================================================================================================================================================================================================================================================================================================================================================================================================================================================================================================================================================================================================================================================================================================================================================================================================================================================================================================================================================================================================================================================================================================================================================================================================================================================================================================================================================================================================================================================================================================================================================================================================================================================================================================================================================================================================================================================================================================================================================================================================================================================================================================================================================================================================================================================================================================================================================================================================================================================================================================================================================================================================================================================================================================================================================================================================================================================================================================================================================================================================================================================================================================================================================================================================================================================================================================================================================================================================================================================================================================================================================================================================================================================================================================================================================================================================================================================================================================================================================================================================================================================================================================================================================================================================================================================================================================================================================================================================================================================================================================================================================================================================================================================================================================================================================================================================================================================================================================================================================================================================================================================================================================================================================================================================================================================================================================================================================================================================================================================================================================================================================================================================================================================================================================================================================================================================================================================================================================================================================================================================================================================================================================================================================================================================================================================================================================================================================================================================================================================================================================================================================================================================================================================================================================================================================================================================================================================================================================================================================================================================================================================================================================================================================================================================================================================================================================================================================================================================================================================================================================================================================================================================================================================================================================================================================================================================================================================================================================================================================================================================================================================================================================================================================================================================================================================================================================================================================================================================================================================================================================================================================================================================================================================================================================================================================================================================================================================================================================================================================================================================================================================================================================================================================================================================================================================================================================================================================================================================================================================================================================================================================================================================================================================================================================================================================================================================================================================================================================================================================================================================================================================================================================================================================================================================================================================================================================================================================================================================================================================================================================================================================================================================================================================================================================================================================================================================================================================================================================================================================================================================================================================================================================================================================================================================================================================================================================================================================================================================================================================================================================================================================================================================================================================================================================================================================================================================================================================================================================================================================================================================================================================================================================================================================================================================================================================================================================================================================================================================================================================================================================================================================================================================================================================================================================================================================================================================================================================================================================================================================================================================================================================================================================================================================================================================================================================================================================================================================================================================================================================================================================================================================================================================================================================================================================================================================================================================================================================================================================================================================================================================================================================================================================================================================================================================================================================================================================================================================================================================================================================================================================================================================================================================================================================================================================================================================================================================================================================================================================================================================================================================================================================================================================================================================================================================================================================================================================================================================================================================================================================================================================================================================================================================================================================================================================================================================================================================================================================================================================================================================================================================================================================================================================================================================================================================================================================================================================================================================================================================================================================================================================================================================================================================================================================================================================================================================================================================================================================================================================================================================================================================================================================================================================================================================================================================================================================================================================================================================================================================================================================================================================================================================================================================================================================================================================================================================================================================================================================================================================================================================================================================================================================================================================================================================================================================================================================================================================================================================================================================================================================================================================================================================================================================================================================================================================================================================================================================================================================================================================================================================================================================================================================================================================================================================================================================================================================================================================================================================================================================================================================================================================================================================================================================================================================================================================================================================================================================================================================================================================================================================================================================================================================================================================================================================================================================================================================================================================================================================================================================================================================================================================================================================================================================================================================================================================================================================================================================================================================================================================================================================================================================================================================================================================================================================================================================================================================================================================================================================================================================================================================================================================================================================================================================================================================================================================================================================================================================================================================================================================================================================================================================================================================================================================================================================================================================================================================================================================================================================================================================================================================================================================================================================================================================================================================================================================================================================================================================================================================================================================================================================================================================================================================================================================================================================================================================================================================================================================================================================================================================================================================================================================================================================================================================================================================================================================================================================================================================================================================================================================================================================================================================================================================================================================================================================================================================================================================================================================================================================================================================================================================================================================================================================================================================================================================================================================================================================================================================================================================================================================================================================================================================================================================================================================================================================================================================================================================================================================================================================================================================================================================================================================================================================================================================================================================================================================================================================================================================================================================================================================================================================================================================================================================================================================================================================================================================================================================================================================================================================================================================================================================================================================================================================================================================================================================================================================================================================================================================================================================================================================================================================================================================================================================================================================================================================================================================================================================================================================================================================================================================================================================================================================================================================================================================================================================================================================================================================================================================================================================================================================================================================================================================================================================================================================================================================================================================================================================================================================================================================================================================================================================================================================================================================================================================================================================================================================================================================================================================================================================================================================================================================================================================================================================================================================================================================================================================================================================================================================================================================================================================================================================================================================================================================================================================================================================================================================================================================================================================================================================================================================================================================================================================================================================================================================================================================================================================================================================================================================================================================================================================================================================================================================================================================================================================================================================================================================================================================================================================================================================================================================================================================================================================================================================================================================================================================================================================================================================================================================================================================================================================================================================================================================================================================================================================================================================================================================================================================================================================================================================================================================================================================================================================================================================================================================================================================================================================================================================================================================================================================================================================================================================================================================================================================================================================================================================================================================================================================================================================================================================================================================================================================================================================================================================================================================================================================================================================================================================================================================================================================================================================================================================================================================================================================================================================================================================================================================================================================================================================================================================================================================================================================================================================================================================================================================================================================================================================================================================================================================================================================================================================================================================================================================================================================================================================================================================================================================================================================================================================================================================================================================================================================================================================================================================================================================================================================================================================================================================================================================================================================================================================================================================================================================================================================================================================================================================================================================================================================================================================================================================================================================================================================================================================================================================================================================================================================================================================================================================================================================================================================================================================================================================================================================================================================================================================================================================================================================================================================================================================================================================================================================================================================================================================================================================================================================================================================================================================================================================================================================================================================================================================================================================================================================================================================================================================================================================================================================================================================================================================================================================================================================================================================================================================================================================================================================================================================================================================================================================================================================================================================================================================================================================================================================================================================================================================================================================================================================================================================================================================================================================================================================================================================================================================================================================================================================================================================================================================================================================================================================================================================================================================================================================================================================================================================================================================================================================================================================================================================================================================================================================================================================================================================================================================================================================================================================================================================================================================================================================================================================================================================================================================================================================================================================================================================================================================================================================================================================================================================================================================================================================================================================================================================================================================================================================================================================================================================================================================================================================================================================================================================================================================================================================================================================================================================================================================================================================================================================================================================================================================================================================================================================================================================================================================================================================================================================================================================================================================================================================================================================================================================================================================================================================================================================================================================================================================================================================================================================================================================================================================================================================================================================================================================================================================================================================================================================================================================================================================================================================================================================================================================================================================================================================================================================================================================================================================================================================================================================================================================================================================================================================================================================================================================================================================================================================================================================================================================================================================================================================================================================================================================================================================================================================================================================================================================================================================================================================================================================================================================================================================================================================================================================================================================================================================================================================================================================================================================================================================================================================================================================================================================================================================================================================================================================================================================================================================================================================================================================================================================================================================================================================================================================================================================================================================================================================================================================================================================================================================================================================================================================================================================================================================================================================================================================================================================================================================================================================================================================================================================================================================================================================================================================================================================================================================================================================================================================================================================================================================================================================================================================================================================================================================================================================================================================================================================================================================================================================================================================================================================================================================================================================================================================================================================================================================================================================================================================================================================================================================================================================================================================================================================================================================================================================================================================================================================================================================================================================================================================================================================================================================================================================================================================================================================================================================================================================================================================================================================================================================================================================================================================================================================================================================================================================================================================================================================================================================================================================================================================================================================================================================================================================================================================================================================================================================================================================================================================================================================================================================================================================================================================================================================================================================================================================================================================================================================================================================================================================================================================================================================================================================================================================================================================================================================================================================================================================================================================================================================================================================================================================================================================================================================================================================================================================================================================================================================================================================================================================================================================================================================================================================================================================================================================================================================================================================================================================================================================================================================================================================================================================================================================================================================================================================================================================================================================================================================================================================================================================================================================================================================================================================================================================================================================================================================================================================================================================================================================================================================================================================================================================================================================================================================================================================================================================================================================================================================================================================================================================================================================================================================================================================================================================================================================================================================================================================================================================================================================================================================================================================================================================================================================================================================================================================================================================================================================================================================================================================================================================================================================================================================================================================================================================================================================================================================================================================================================================================================================================================================================================================================================================================================================================================================================================================================================================================================================================================================================================================================================================================================================================================================================================================================================================================================================================================================================================================================================================================================================================================================================================================================================================================================================================================================================================================================================================================================================================================================================================================================================================================================================================================================================================================================================================================================================================================================================================================================================================================================================================================================================================================================================================================================================================================================================================================================================================================================================================================================================================================================================================================================================================================================================================================================================================================================================================================================================================================================================================================================================================================================================================================================================================================================================================================================================================================================================================================================================================================================================================================================================================================================================================================================================================================================================================================================================================================================================================================================================================================================================================================================================================================================================================================================================================================================================================================================================================================================================================================================================================================================================================================================================================================================================================================================================================================================================================================================================================================================================================================================================================================================================================================================================================================================================================================================================================================================================================================================================================================================================================================================================================================================================================================================================================================================================================================================================================================================================================================================================================================================================================================================================================================================================================================================================================================================================================================================================================================================================================================================================================================================================================================================================================================================================================================================================================================================================================================================================================================================================================================================================================================================================================================================================================================================================================================================================================================================================================================================================================================================================================================================================================================================================================================================================================================================================================================================================================================================================================================================================================================================================================================================================================================================================================================================================================================================================================================================================================================================================================================================================================================================================================================================================================================================================================================================================================================================================================================================================================================================================================================================================================================================================================================================================================================================================================================================================================================================================================================================================================================================================================================================================================================================================================================================================================================================================================================================================================================================================================================================================================================================================================================================================================================================================================================================================================================================================================================================================================================================================================================================================================================================================================================================================================================================================================================================================================================================================================================================================================================================================================================================================================================================================================================================================================================================================================================================================================================================================================================================================================================================================] - 0s 88us/sample - loss: 0.4669\n",
      "test_loss: 0.4687073297422011\n",
      "roc: 0.5388548756712386\n"
     ]
    }
   ],
   "source": [
    "loss = best_model.evaluate(X_test, y_test)\n",
    "y_test_predict = best_model.predict(X_test).flatten()\n",
    "# calculate the roc\n",
    "roc_score = roc_auc_score(y_test, y_test_predict)\n",
    "print(f\"test_loss: {loss}\")\n",
    "print(f\"roc: {roc_score}\")"
   ]
  },
  {
   "cell_type": "markdown",
   "metadata": {},
   "source": [
    "Since it is more costly to miss the fraud cases, and less costly to make a false alarm, we are going to suppose that the cost missed fraud is 10 times more than the cost of false alarm (This ratio can be adjusted to the real case).\n",
    "Thus, our cost function is:\n",
    "\n",
    "```Cost = 10*FN + FP```\n"
   ]
  },
  {
   "cell_type": "code",
   "execution_count": 311,
   "metadata": {},
   "outputs": [],
   "source": [
    "def calculate_cost(fn,fp):\n",
    "    return 10*fn+fp\n",
    "\n",
    "cost_lost = {}\n",
    "for i in np.linspace(0,0.1,501):\n",
    "    pred_y = np.where(y_test_predict.flatten()> i, 1, 0)\n",
    "    cm = confusion_matrix(y_test,pred_y)\n",
    "    fn,fp = cm[1][0],cm[0][1]\n",
    "    # cost_lost[\"Threshold: \"+str(i)] = calculate_cost(fn,fp)\n",
    "    cost_lost[i] = calculate_cost(fn,fp)\n",
    "\n",
    "optimal_threshold = min(cost_lost, key=cost_lost.get)"
   ]
  },
  {
   "cell_type": "code",
   "execution_count": null,
   "metadata": {},
   "outputs": [],
   "source": [
    "optimal_threshold"
   ]
  },
  {
   "cell_type": "code",
   "execution_count": 312,
   "metadata": {},
   "outputs": [
    {
     "name": "stdout",
     "output_type": "stream",
     "text": [
      "Confusion matrix is :\n",
      "[[   0 2249]\n",
      " [   0   26]]\n",
      "Accuracy rate is 0.011428571428571429\n",
      "Sensitivity is 1.0\n"
     ]
    },
    {
     "data": {
      "image/png": "[encoded data removed]",
      "text/plain": [
       "<Figure size 720x360 with 2 Axes>"
      ]
     },
     "metadata": {
      "needs_background": "light"
     },
     "output_type": "display_data"
    }
   ],
   "source": [
    "pred_y = np.where(y_test_predict > optimal_threshold, 1, 0)\n",
    "cm = confusion_matrix(y_test, pred_y)\n",
    "print(f\"Confusion matrix is :\" )\n",
    "print(cm)\n",
    "accuracy_rate = (cm[0,0] + cm[1,1])/np.sum(cm)\n",
    "print(f\"Accuracy rate is {accuracy_rate}\")\n",
    "# calculate the sensitivity \n",
    "sensitivity = cm[1,1]/(cm[1,1] + cm[1,0])\n",
    "print(f\"Sensitivity is {sensitivity}\")\n",
    "\n",
    "fig, ax = plt.subplots(figsize=(10,5))\n",
    "sns.heatmap(cm, annot=True, fmt=\".0f\")\n",
    "plt.show()"
   ]
  },
  {
   "cell_type": "markdown",
   "metadata": {},
   "source": [
    "# Question 6\n",
    "### Question\n",
    "Our second approach will be to use an autoencoder to learn what \"normal\" (non-fraudulent) data \"looks like.\"\n",
    "\n",
    "1. Prepare dataset for autoencoder\n",
    "\n",
    "   - Using the original data, create a training set that contains only non fraudulent claims\n",
    "   - As well as validation and test sets that contain non fraudulent and fraudulent claims. \n",
    "   - Make sure to spread fraudulent claims evenly across validation and test sets.\n",
    "\n",
    "2. Create an autoencoder using TensorFlow\n",
    "\n",
    "   - Ensure that the middle hidden layer has fewer neurons than your input features. \n",
    "   - Use training and validation sets to find a model that represents its input data well. In particular, you will want to predict your validation set observations. \n",
    "   - For each observation, you can measure the difference between the original observations and the predicted one, using, for example, the mean squared error of all features of the observation. \n",
    "   - Plot the errors for all your validation set observations in a histogram - in a good model, this error should be much higher for fraudulent claims than non-fraudulent ones.\n",
    "\n",
    "3. Assess predictions of autoencoder created\n",
    "\n",
    "   - Use your trained autoencoder to predict the test set and define the corresponding losses(?). \n",
    "   - Create a histogram of your test set claims, clearly marking fraudulent and non- fraudulent claims. \n",
    "   - Discuss how you could use this to decide whether a transaction is fraudulent or not. \n",
    "   - Can you also derive an AUC in this approach - if yes, how does it perform compared to the previous approaches?"
   ]
  },
  {
   "cell_type": "code",
   "execution_count": 313,
   "metadata": {},
   "outputs": [
    {
     "name": "stdout",
     "output_type": "stream",
     "text": [
      "The length of normal_df: 11259\n",
      "The length of fraud_df: 112\n",
      "normal_train_size: 9097\n",
      "fraud_val_test_size: 56\n",
      "normal_val_test_size: 1081\n",
      "\n",
      "len(train_df): 9097\n",
      "len(normal_df) excluding data in train_df: 2162\n",
      "\n",
      "len(val_df): 1081\n",
      "len(test_df): 1081\n",
      "\n",
      "len(test[test.LossDate == False]) = 0\n",
      "\n",
      "len(val_df): 1137\n",
      "len(test_df): 1137\n",
      "\n",
      "Check if len(train_df) + len(val_df) + len(test_df) == len(df_autoencoder): True\n"
     ]
    }
   ],
   "source": [
    "# get a copy of raw df\n",
    "\n",
    "df_autoencoder = df.copy()\n",
    "# split dataset into non-fraud (normal) and fraud\n",
    "normal_df = df_autoencoder[df_autoencoder.Fraud == 0]\n",
    "fraud_df = df_autoencoder[df_autoencoder.Fraud == 1]\n",
    "print(f'The length of normal_df: {len(normal_df)}')\n",
    "print(f'The length of fraud_df: {len(fraud_df)}')\n",
    "\n",
    "# variables for splitting data into train, val and test sets \n",
    "train_split = 0.8\n",
    "test_split = 1 - train_split\n",
    "normal_train_size = round(len(df_autoencoder) * train_split)\n",
    "fraud_val_test_size = int(len(fraud_df) / 2)\n",
    "normal_val_test_size = int(round(len(df_autoencoder) * test_split / 2) - fraud_val_test_size)\n",
    "print(f'normal_train_size: {normal_train_size}')\n",
    "print(f'fraud_val_test_size: {fraud_val_test_size}')\n",
    "print(f'normal_val_test_size: {normal_val_test_size}\\n')\n",
    "\n",
    "# sample non-fraud data for train set\n",
    "train_df = normal_df.sample(normal_train_size, random_state=0)\n",
    "normal_df = normal_df[~normal_df.isin(train_df)].dropna()\n",
    "print(f'len(train_df): {len(train_df)}')\n",
    "print(f'len(normal_df) excluding data in train_df: {len(normal_df)}\\n')\n",
    "\n",
    "# sample non-fraud data for val and test sets\n",
    "val_df = normal_df.sample(normal_val_test_size, random_state=0)\n",
    "test_df = normal_df[~normal_df.isin(val_df)].dropna()\n",
    "print(f'len(val_df): {len(val_df)}')\n",
    "print(f'len(test_df): {len(test_df)}\\n')\n",
    "\n",
    "# check if all normal data is in the train, val and test sets\n",
    "normal_df = df_autoencoder[df_autoencoder.Fraud == 0]\n",
    "test = pd.concat([train_df, val_df, test_df]).isin(normal_df)\n",
    "print(f'len(test[test.LossDate == False]) = {len(test[test.LossDate == False])}\\n')\n",
    "\n",
    "# sample fraud data for val and test sets\n",
    "val_df = val_df.append(fraud_df.sample(fraud_val_test_size, random_state=0))\n",
    "test_df = test_df.append(fraud_df[~fraud_df.isin(val_df)].dropna())\n",
    "print(f'len(val_df): {len(val_df)}')\n",
    "print(f'len(test_df): {len(test_df)}\\n')\n",
    "\n",
    "print(f'Check if len(train_df) + len(val_df) + len(test_df) == len(df_autoencoder): {len(train_df) + len(val_df) + len(test_df) == len(df_autoencoder)}')"
   ]
  },
  {
   "cell_type": "code",
   "execution_count": 314,
   "metadata": {},
   "outputs": [],
   "source": [
    "# Turn the dataframe into numpy arrays\n",
    "y_train = train_df[['Fraud']].to_numpy()\n",
    "y_val = val_df[['Fraud']].to_numpy()\n",
    "y_test = test_df[['Fraud']].to_numpy()\n",
    "\n",
    "X_train = train_df.drop(['Fraud'], axis=1)\n",
    "X_val = val_df.drop(['Fraud'], axis=1)\n",
    "X_test = test_df.drop(['Fraud'], axis=1)\n",
    "\n",
    "train_col_names = list(X_train.columns)+['df_key']"
   ]
  },
  {
   "cell_type": "code",
   "execution_count": 315,
   "metadata": {},
   "outputs": [
    {
     "name": "stdout",
     "output_type": "stream",
     "text": [
      "check if len(X_train) + len(X_val) + len(X_test) == len(df_autoencoder): True\n",
      "X_train.shape: (9097, 65)\n",
      "X_val.shape: (1137, 65)\n",
      "X_test.shape: (1137, 65)\n"
     ]
    }
   ],
   "source": [
    "# Fit the MinMaxScaler\n",
    "scaler = MinMaxScaler()\n",
    "\n",
    "X_train.loc[:,'df_key'] = 1\n",
    "X_val.loc[:,'df_key'] = 0\n",
    "X_test.loc[:,'df_key'] = 0\n",
    "X_train_val = pd.concat([X_train, X_val])\n",
    "# X_df_key = X_train_val[['df_key']]\n",
    "# X_train_val = X_train_val.drop(['df_key'], axis=1)\n",
    "\n",
    "X_train_val = pd.DataFrame(scaler.fit_transform(X_train_val), columns=train_col_names)\n",
    "X_test = pd.DataFrame(scaler.transform(X_test), columns=train_col_names)\n",
    "X_test = X_test.drop(['df_key'], axis=1)\n",
    "X_train = X_train_val[X_train_val.df_key == 1].drop(['df_key'], axis=1)\n",
    "X_val = X_train_val[X_train_val.df_key == 0].drop(['df_key'], axis=1)\n",
    "\n",
    "print(f'check if len(X_train) + len(X_val) + len(X_test) == len(df_autoencoder): {len(X_train) + len(X_val) + len(X_test) == len(df_autoencoder)}')\n",
    "print(f\"X_train.shape: {X_train.shape}\")\n",
    "print(f\"X_val.shape: {X_val.shape}\")\n",
    "print(f\"X_test.shape: {X_test.shape}\")\n",
    "X_train = X_train.to_numpy()\n",
    "X_val = X_val.to_numpy()\n",
    "X_test = X_test.to_numpy()"
   ]
  },
  {
   "cell_type": "markdown",
   "metadata": {},
   "source": [
    "# Question 7"
   ]
  },
  {
   "cell_type": "code",
   "execution_count": 316,
   "metadata": {},
   "outputs": [],
   "source": [
    "X_train_train,X_train_val, y_train_train, y_train_val = train_test_split(X_train, y_train, test_size=0.3, random_state=0)"
   ]
  },
  {
   "cell_type": "code",
   "execution_count": 317,
   "metadata": {},
   "outputs": [],
   "source": [
    "class AutoEncodingModel:\n",
    "    def __init__(self, reg_param, number_units_layers, number_units_bottleneck, dropout_rate, number_layers, whether_dropout, whether_regularizer, X_train_train=X_train_train, X_train_val=X_train_val, X_val=X_val,epochs=100) -> None:\n",
    "        tf.keras.backend.clear_session()\n",
    "        tf.random.set_seed(192)\n",
    "        self.X_train_train = X_train_train\n",
    "        self.X_train_val = X_train_val\n",
    "        self.X_val = X_val\n",
    "        self.reg_param = reg_param\n",
    "        self.number_units_layers = number_units_layers\n",
    "        self.number_units_bottleneck = number_units_bottleneck\n",
    "        self.dropout_rate = dropout_rate\n",
    "        self.number_layers = number_layers\n",
    "        self.whether_dropout =  whether_dropout\n",
    "        self.whether_regularizer = whether_regularizer\n",
    "        self.input_dim = self.X_train_train.shape[1]\n",
    "        self.epochs  = epochs\n",
    "        self.build_model()\n",
    "        self.compile_model()\n",
    "\n",
    "    def build_model(self):\n",
    "        \"\"\"\n",
    "        Build the model according to the hyperparameters input\n",
    "        \"\"\"\n",
    "        regularizer = tf.keras.regularizers.l2(\n",
    "            self.reg_param*self.whether_regularizer)\n",
    "        if self.whether_dropout == True:\n",
    "            encoder = tf.keras.models.Sequential([\n",
    "                tf.keras.layers.Dense(self.number_units_layers, activation=\"relu\")]*self.number_layers+[\n",
    "                tf.keras.layers.Dropout(self.dropout_rate), # dropout before the bottleneck layer\n",
    "                tf.keras.layers.Dense(self.number_units_bottleneck,activation='sigmoid', kernel_regularizer=regularizer)])\n",
    "        else:\n",
    "            encoder = tf.keras.models.Sequential([\n",
    "                tf.keras.layers.Dense(self.number_units_layers, activation=\"relu\")]*self.number_layers+[\n",
    "                tf.keras.layers.Dense(self.input_dim,activation='sigmoid')])\n",
    "        decoder = tf.keras.models.Sequential([\n",
    "                tf.keras.layers.Dense(self.number_units_layers, activation=\"relu\")]*self.number_layers+[\n",
    "                tf.keras.layers.Dense(self.input_dim, activation=\"sigmoid\")])\n",
    "        self.autoencoder = tf.keras.models.Sequential([encoder, decoder])\n",
    "\n",
    "        # random_seed = 192\n",
    "    def get_hp(self):\n",
    "        # get all hyperparameters\n",
    "        return {\n",
    "            'reg_param': self.reg_param,\n",
    "            'number_units_layers': self.number_units_layers,\n",
    "            'number_units_bottleneck': self.number_units_bottleneck,\n",
    "            'dropout_rate': self.dropout_rate,\n",
    "            'number_layers': self.number_layers,\n",
    "            'whether_dropout': self.whether_dropout,\n",
    "            'whether_regularizer': self.whether_regularizer\n",
    "        }\n",
    "\n",
    "    def get_model(self):\n",
    "        \"\"\"\n",
    "        get the model from the class\n",
    "        \"\"\"\n",
    "        return self.autoencoder\n",
    "\n",
    "    def compile_model(self):\n",
    "        \"\"\"\n",
    "        compile the model\n",
    "        \"\"\"\n",
    "        optimizer = tf.keras.optimizers.Adam(learning_rate=0.001)\n",
    "        self.autoencoder.compile(\n",
    "            optimizer=optimizer, loss='mean_squared_error')\n",
    "\n",
    "    def __train_model(self):\n",
    "        \"\"\"\n",
    "        Train the data only contains non-fraud claims\n",
    "        \"\"\"\n",
    "        early_stopping_cb = tf.keras.callbacks.EarlyStopping(\n",
    "            monitor='val_loss', patience=10, restore_best_weights=True)\n",
    "        self.log_train_non_fraud = self.autoencoder.fit(x=self.X_train_train, y=self.X_train_train,\n",
    "                                                        epochs=self.epochs,\n",
    "                                                        validation_data=(X_train_val, X_train_val), callbacks=[early_stopping_cb])\n",
    "\n",
    "    def get_train_non_fraud_loss_diff(self):\n",
    "        \"\"\"\n",
    "        calculate the overfit_metric\n",
    "        \"\"\"\n",
    "        self.__train_model()\n",
    "        return self.log_train_non_fraud.history['val_loss'][-1]-self.log_train_non_fraud.history['loss'][-1] \n",
    "        \n",
    "    def get_train_val_loss(self):\n",
    "        \"\"\"\n",
    "        get the val1_loss\n",
    "        \"\"\"\n",
    "        return self.log_train_non_fraud.history['val_loss'][-1]\n",
    "\n",
    "    def __apply_model_fraud(self):\n",
    "        \"\"\"\n",
    "        apply the model on the val2, and get the overall average mse loss\n",
    "        \"\"\"\n",
    "        reconstructions = self.autoencoder.predict(self.X_val)\n",
    "        self.val_loss = np.mean(tf.keras.losses.mse(reconstructions, self.X_val))\n",
    "\n",
    "    def get_val_loss(self):\n",
    "        self.__apply_model_fraud()\n",
    "        return self.val_loss\n",
    "\n",
    "    def run(self):\n",
    "        # the difference of loss in the train_train and train_val, the metric to access the overfitting\n",
    "        overfit_metric = self.get_train_non_fraud_loss_diff()  #TODO change it to overfit_metric\n",
    "        val2_avg_recon_error = self.get_val_loss() #TODO change it to val2_avg_recon_error\n",
    "        val1_loss = self.get_train_val_loss()  #TODO change it to val1_loss\n",
    "        return {\"overfit_metric\": overfit_metric, \"val2_avg_recon_error\": val2_avg_recon_error, \"val1_loss\":val1_loss, \"model\": self.autoencoder, \"log\":self.log_train_non_fraud}\n"
   ]
  },
  {
   "cell_type": "markdown",
   "metadata": {},
   "source": [
    "Generate a list of hyperparameters and train the model. After trainnig the model, we will record the hyperparameters and the performance of the model."
   ]
  },
  {
   "cell_type": "code",
   "execution_count": 319,
   "metadata": {},
   "outputs": [
    {
     "name": "stdout",
     "output_type": "stream",
     "text": [
      "This round is 0\n",
      "Train on 6367 samples, validate on 2730 samples\n",
      "Epoch 1/100\n",
      "6367/6367 [==============================] - 3s 482us/sample - loss: 0.0726 - val_loss: 0.0364\n",
      "Epoch 2/100\n",
      "6367/6367 [==============================] - 2s 392us/sample - loss: 0.0313 - val_loss: 0.0249\n",
      "Epoch 3/100\n",
      "6367/6367 [==============================] - 2s 367us/sample - loss: 0.0212 - val_loss: 0.0181\n",
      "Epoch 4/100\n",
      "6367/6367 [==============================] - 2s 377us/sample - loss: 0.0152 - val_loss: 0.0127\n",
      "Epoch 5/100\n",
      "6367/6367 [==============================] - 2s 384us/sample - loss: 0.0116 - val_loss: 0.0104\n",
      "Epoch 6/100\n",
      "6367/6367 [==============================] - 2s 379us/sample - loss: 0.0096 - val_loss: 0.0089\n",
      "Epoch 7/100\n",
      "6367/6367 [==============================] - 3s 427us/sample - loss: 0.0081 - val_loss: 0.0075\n",
      "Epoch 8/100\n",
      "6367/6367 [==============================] - 3s 476us/sample - loss: 0.0067 - val_loss: 0.0063\n",
      "Epoch 9/100\n",
      "6367/6367 [==============================] - 3s 432us/sample - loss: 0.0057 - val_loss: 0.0054\n",
      "Epoch 10/100\n",
      "6367/6367 [==============================] - 3s 411us/sample - loss: 0.0050 - val_loss: 0.0050\n",
      "Epoch 11/100\n",
      "6367/6367 [==============================] - 3s 403us/sample - loss: 0.0045 - val_loss: 0.0044\n",
      "Epoch 12/100\n",
      "6367/6367 [==============================] - 3s 406us/sample - loss: 0.0040 - val_loss: 0.0041\n",
      "Epoch 13/100\n",
      "6367/6367 [==============================] - 3s 434us/sample - loss: 0.0037 - val_loss: 0.0038\n",
      "Epoch 14/100\n",
      "6367/6367 [==============================] - 3s 438us/sample - loss: 0.0034 - val_loss: 0.0035\n",
      "Epoch 15/100\n",
      "6367/6367 [==============================] - 3s 450us/sample - loss: 0.0031 - val_loss: 0.0033\n",
      "Epoch 16/100\n",
      "6367/6367 [==============================] - 2s 363us/sample - loss: 0.0029 - val_loss: 0.0031\n",
      "Epoch 17/100\n",
      "6367/6367 [==============================] - 2s 387us/sample - loss: 0.0027 - val_loss: 0.0029\n",
      "Epoch 18/100\n",
      "6367/6367 [==============================] - 3s 419us/sample - loss: 0.0025 - val_loss: 0.0027\n",
      "Epoch 19/100\n",
      "6367/6367 [==============================] - 2s 363us/sample - loss: 0.0023 - val_loss: 0.0027\n",
      "Epoch 20/100\n",
      "6367/6367 [==============================] - 2s 362us/sample - loss: 0.0022 - val_loss: 0.0025\n",
      "Epoch 21/100\n",
      "6367/6367 [==============================] - 2s 369us/sample - loss: 0.0021 - val_loss: 0.0024\n",
      "Epoch 22/100\n",
      "6367/6367 [==============================] - 2s 358us/sample - loss: 0.0020 - val_loss: 0.0023\n",
      "Epoch 23/100\n",
      "6367/6367 [==============================] - 2s 342us/sample - loss: 0.0019 - val_loss: 0.0022\n",
      "Epoch 24/100\n",
      "6367/6367 [==============================] - 2s 375us/sample - loss: 0.0018 - val_loss: 0.0021\n",
      "Epoch 25/100\n",
      "6367/6367 [==============================] - 2s 358us/sample - loss: 0.0017 - val_loss: 0.0020\n",
      "Epoch 26/100\n",
      "6367/6367 [==============================] - 2s 354us/sample - loss: 0.0016 - val_loss: 0.0020\n",
      "Epoch 27/100\n",
      "6367/6367 [==============================] - 2s 362us/sample - loss: 0.0015 - val_loss: 0.0019\n",
      "Epoch 28/100\n",
      "6367/6367 [==============================] - 2s 324us/sample - loss: 0.0015 - val_loss: 0.0018\n",
      "Epoch 29/100\n",
      "6367/6367 [==============================] - 2s 347us/sample - loss: 0.0014 - val_loss: 0.0018\n",
      "Epoch 30/100\n",
      "6367/6367 [==============================] - 2s 377us/sample - loss: 0.0013 - val_loss: 0.0017\n",
      "Epoch 31/100\n",
      "6367/6367 [==============================] - 2s 373us/sample - loss: 0.0013 - val_loss: 0.0017\n",
      "Epoch 32/100\n",
      "6367/6367 [==============================] - 2s 392us/sample - loss: 0.0012 - val_loss: 0.0016\n",
      "Epoch 33/100\n",
      "6367/6367 [==============================] - 3s 428us/sample - loss: 0.0012 - val_loss: 0.0015\n",
      "Epoch 34/100\n",
      "6367/6367 [==============================] - 3s 418us/sample - loss: 0.0011 - val_loss: 0.0015\n",
      "Epoch 35/100\n",
      "6367/6367 [==============================] - 3s 395us/sample - loss: 0.0011 - val_loss: 0.0014\n",
      "Epoch 36/100\n",
      "6367/6367 [==============================] - 2s 386us/sample - loss: 0.0010 - val_loss: 0.0014\n",
      "Epoch 37/100\n",
      "6367/6367 [==============================] - 2s 359us/sample - loss: 9.9151e-04 - val_loss: 0.0014\n",
      "Epoch 38/100\n",
      "6367/6367 [==============================] - 2s 343us/sample - loss: 9.6428e-04 - val_loss: 0.0014\n",
      "Epoch 39/100\n",
      "6367/6367 [==============================] - 2s 311us/sample - loss: 9.3280e-04 - val_loss: 0.0014\n",
      "Epoch 40/100\n",
      "6367/6367 [==============================] - 2s 330us/sample - loss: 9.1258e-04 - val_loss: 0.0013\n",
      "Epoch 41/100\n",
      "6367/6367 [==============================] - 2s 345us/sample - loss: 8.8361e-04 - val_loss: 0.0013\n",
      "Epoch 42/100\n",
      "6367/6367 [==============================] - 2s 318us/sample - loss: 8.6862e-04 - val_loss: 0.0013\n",
      "Epoch 43/100\n",
      "6367/6367 [==============================] - 2s 307us/sample - loss: 8.4622e-04 - val_loss: 0.0012\n",
      "Epoch 44/100\n",
      "6367/6367 [==============================] - 2s 328us/sample - loss: 8.2319e-04 - val_loss: 0.0012\n",
      "Epoch 45/100\n",
      "6367/6367 [==============================] - 2s 302us/sample - loss: 8.1235e-04 - val_loss: 0.0012\n",
      "Epoch 46/100\n",
      "6367/6367 [==============================] - 2s 311us/sample - loss: 8.0562e-04 - val_loss: 0.0012\n",
      "Epoch 47/100\n",
      "6367/6367 [==============================] - 2s 314us/sample - loss: 7.7489e-04 - val_loss: 0.0012\n",
      "Epoch 48/100\n",
      "6367/6367 [==============================] - 2s 358us/sample - loss: 7.6953e-04 - val_loss: 0.0012\n",
      "Epoch 49/100\n",
      "6367/6367 [==============================] - 2s 348us/sample - loss: 7.5626e-04 - val_loss: 0.0012\n",
      "Epoch 50/100\n",
      "6367/6367 [==============================] - 2s 371us/sample - loss: 7.3940e-04 - val_loss: 0.0012\n",
      "Epoch 51/100\n",
      "6367/6367 [==============================] - 2s 362us/sample - loss: 7.2833e-04 - val_loss: 0.0011\n",
      "Epoch 52/100\n",
      "6367/6367 [==============================] - 2s 342us/sample - loss: 7.1189e-04 - val_loss: 0.0011\n",
      "Epoch 53/100\n",
      "6367/6367 [==============================] - 2s 307us/sample - loss: 7.0808e-04 - val_loss: 0.0011\n",
      "Epoch 54/100\n",
      "6367/6367 [==============================] - 2s 324us/sample - loss: 6.8234e-04 - val_loss: 0.0011\n",
      "Epoch 55/100\n",
      "6367/6367 [==============================] - 2s 326us/sample - loss: 6.8129e-04 - val_loss: 0.0011\n",
      "Epoch 56/100\n",
      "6367/6367 [==============================] - 2s 329us/sample - loss: 6.8304e-04 - val_loss: 0.0011\n",
      "Epoch 57/100\n",
      "6367/6367 [==============================] - 2s 366us/sample - loss: 6.7164e-04 - val_loss: 0.0011\n",
      "Epoch 58/100\n",
      "6367/6367 [==============================] - 2s 367us/sample - loss: 6.6360e-04 - val_loss: 0.0011\n",
      "Epoch 59/100\n",
      "6367/6367 [==============================] - 2s 369us/sample - loss: 6.6174e-04 - val_loss: 0.0011\n",
      "Epoch 60/100\n",
      "6367/6367 [==============================] - 2s 331us/sample - loss: 6.5933e-04 - val_loss: 0.0011\n",
      "Epoch 61/100\n",
      "6367/6367 [==============================] - 2s 295us/sample - loss: 6.3796e-04 - val_loss: 0.0010\n",
      "Epoch 62/100\n",
      "6367/6367 [==============================] - 2s 306us/sample - loss: 6.3127e-04 - val_loss: 0.0010\n",
      "Epoch 63/100\n",
      "6367/6367 [==============================] - 2s 337us/sample - loss: 6.2258e-04 - val_loss: 0.0011\n",
      "Epoch 64/100\n",
      "6367/6367 [==============================] - 2s 380us/sample - loss: 6.3177e-04 - val_loss: 0.0010\n",
      "Epoch 65/100\n",
      "6367/6367 [==============================] - 2s 356us/sample - loss: 6.2302e-04 - val_loss: 0.0010\n",
      "Epoch 66/100\n",
      "6367/6367 [==============================] - 2s 355us/sample - loss: 6.0142e-04 - val_loss: 0.0010\n",
      "Epoch 67/100\n",
      "6367/6367 [==============================] - 2s 349us/sample - loss: 6.0329e-04 - val_loss: 0.0010\n",
      "Epoch 68/100\n",
      "6367/6367 [==============================] - 3s 420us/sample - loss: 5.9371e-04 - val_loss: 0.0010\n",
      "Epoch 69/100\n",
      "6367/6367 [==============================] - 2s 347us/sample - loss: 5.8866e-04 - val_loss: 9.8667e-04\n",
      "Epoch 70/100\n",
      "6367/6367 [==============================] - 2s 314us/sample - loss: 5.8687e-04 - val_loss: 9.6648e-04\n",
      "Epoch 71/100\n",
      "6367/6367 [==============================] - 2s 310us/sample - loss: 5.8042e-04 - val_loss: 9.8852e-04\n",
      "Epoch 72/100\n",
      "6367/6367 [==============================] - 2s 318us/sample - loss: 5.7685e-04 - val_loss: 9.9513e-04\n",
      "Epoch 73/100\n",
      "6367/6367 [==============================] - 2s 334us/sample - loss: 5.8625e-04 - val_loss: 9.7486e-04\n",
      "Epoch 74/100\n",
      "6367/6367 [==============================] - 2s 324us/sample - loss: 5.7082e-04 - val_loss: 9.6276e-04\n",
      "Epoch 75/100\n",
      "6367/6367 [==============================] - 2s 335us/sample - loss: 5.6922e-04 - val_loss: 9.6752e-04\n",
      "Epoch 76/100\n",
      "6367/6367 [==============================] - 2s 368us/sample - loss: 5.5815e-04 - val_loss: 9.5593e-04\n",
      "Epoch 77/100\n",
      "6367/6367 [==============================] - 2s 322us/sample - loss: 5.6277e-04 - val_loss: 0.0010\n",
      "Epoch 78/100\n",
      "6367/6367 [==============================] - 2s 345us/sample - loss: 5.5894e-04 - val_loss: 9.5381e-04\n",
      "Epoch 79/100\n",
      "6367/6367 [==============================] - 2s 324us/sample - loss: 5.4848e-04 - val_loss: 9.5058e-04\n",
      "Epoch 80/100\n",
      "6367/6367 [==============================] - 2s 326us/sample - loss: 5.5003e-04 - val_loss: 9.3680e-04\n",
      "Epoch 81/100\n",
      "6367/6367 [==============================] - 2s 334us/sample - loss: 5.3597e-04 - val_loss: 9.2131e-04\n",
      "Epoch 82/100\n",
      "6367/6367 [==============================] - 2s 322us/sample - loss: 5.3630e-04 - val_loss: 9.3244e-04\n",
      "Epoch 83/100\n",
      "6367/6367 [==============================] - 2s 350us/sample - loss: 5.3315e-04 - val_loss: 9.2737e-04\n",
      "Epoch 84/100\n",
      "6367/6367 [==============================] - 2s 371us/sample - loss: 5.3709e-04 - val_loss: 9.6099e-04\n",
      "Epoch 85/100\n",
      "6367/6367 [==============================] - 2s 336us/sample - loss: 5.6434e-04 - val_loss: 9.4585e-04\n",
      "Epoch 86/100\n",
      "6367/6367 [==============================] - 2s 317us/sample - loss: 5.2937e-04 - val_loss: 9.5473e-04\n",
      "Epoch 87/100\n",
      "6367/6367 [==============================] - 2s 316us/sample - loss: 5.2915e-04 - val_loss: 9.0722e-04\n",
      "Epoch 88/100\n",
      "6367/6367 [==============================] - 2s 348us/sample - loss: 5.1672e-04 - val_loss: 8.8814e-04\n",
      "Epoch 89/100\n",
      "6367/6367 [==============================] - 2s 338us/sample - loss: 5.1531e-04 - val_loss: 8.9708e-04\n",
      "Epoch 90/100\n",
      "6367/6367 [==============================] - 2s 321us/sample - loss: 5.0252e-04 - val_loss: 8.7484e-04\n",
      "Epoch 91/100\n",
      "6367/6367 [==============================] - 2s 285us/sample - loss: 5.0301e-04 - val_loss: 8.8716e-04\n",
      "Epoch 92/100\n",
      "6367/6367 [==============================] - 2s 290us/sample - loss: 5.1414e-04 - val_loss: 9.1885e-04\n",
      "Epoch 93/100\n",
      "6367/6367 [==============================] - 2s 277us/sample - loss: 5.1520e-04 - val_loss: 9.5006e-04\n",
      "Epoch 94/100\n",
      "6367/6367 [==============================] - 2s 329us/sample - loss: 5.2519e-04 - val_loss: 9.3524e-04\n",
      "Epoch 95/100\n",
      "6367/6367 [==============================] - 2s 317us/sample - loss: 5.0350e-04 - val_loss: 9.0141e-04\n",
      "Epoch 96/100\n",
      "6367/6367 [==============================] - 2s 343us/sample - loss: 4.9429e-04 - val_loss: 9.0086e-04\n",
      "Epoch 97/100\n",
      "6367/6367 [==============================] - 2s 300us/sample - loss: 4.9509e-04 - val_loss: 8.6493e-04\n",
      "Epoch 98/100\n",
      "6367/6367 [==============================] - 2s 292us/sample - loss: 4.8892e-04 - val_loss: 8.7575e-04\n",
      "Epoch 99/100\n",
      "6367/6367 [==============================] - 2s 291us/sample - loss: 4.9267e-04 - val_loss: 8.6357e-04\n",
      "Epoch 100/100\n",
      "6367/6367 [==============================] - 2s 297us/sample - loss: 4.7864e-04 - val_loss: 8.6404e-04\n",
      "This round is 1\n",
      "Train on 6367 samples, validate on 2730 samples\n",
      "Epoch 1/100\n",
      "6367/6367 [==============================] - 1s 123us/sample - loss: 0.0897 - val_loss: 0.0493\n",
      "Epoch 2/100\n",
      "6367/6367 [==============================] - 0s 57us/sample - loss: 0.0394 - val_loss: 0.0342\n",
      "Epoch 3/100\n",
      "6367/6367 [==============================] - 0s 57us/sample - loss: 0.0291 - val_loss: 0.0252\n",
      "Epoch 4/100\n",
      "6367/6367 [==============================] - 0s 56us/sample - loss: 0.0232 - val_loss: 0.0212\n",
      "Epoch 5/100\n",
      "6367/6367 [==============================] - 0s 58us/sample - loss: 0.0195 - val_loss: 0.0178\n",
      "Epoch 6/100\n",
      "6367/6367 [==============================] - 0s 61us/sample - loss: 0.0163 - val_loss: 0.0149\n",
      "Epoch 7/100\n",
      "6367/6367 [==============================] - 0s 57us/sample - loss: 0.0140 - val_loss: 0.0131\n",
      "Epoch 8/100\n",
      "6367/6367 [==============================] - 0s 57us/sample - loss: 0.0121 - val_loss: 0.0114\n",
      "Epoch 9/100\n",
      "6367/6367 [==============================] - 0s 57us/sample - loss: 0.0107 - val_loss: 0.0103\n",
      "Epoch 10/100\n",
      "6367/6367 [==============================] - 0s 56us/sample - loss: 0.0098 - val_loss: 0.0096\n",
      "Epoch 11/100\n",
      "6367/6367 [==============================] - 0s 57us/sample - loss: 0.0091 - val_loss: 0.0089\n",
      "Epoch 12/100\n",
      "6367/6367 [==============================] - 0s 59us/sample - loss: 0.0085 - val_loss: 0.0084\n",
      "Epoch 13/100\n",
      "6367/6367 [==============================] - 0s 58us/sample - loss: 0.0080 - val_loss: 0.0079\n",
      "Epoch 14/100\n",
      "6367/6367 [==============================] - 0s 58us/sample - loss: 0.0075 - val_loss: 0.0075\n",
      "Epoch 15/100\n",
      "6367/6367 [==============================] - 0s 71us/sample - loss: 0.0071 - val_loss: 0.0070\n",
      "Epoch 16/100\n",
      "6367/6367 [==============================] - 0s 59us/sample - loss: 0.0066 - val_loss: 0.0066\n",
      "Epoch 17/100\n",
      "6367/6367 [==============================] - 0s 65us/sample - loss: 0.0062 - val_loss: 0.0062\n",
      "Epoch 18/100\n",
      "6367/6367 [==============================] - 0s 59us/sample - loss: 0.0059 - val_loss: 0.0059\n",
      "Epoch 19/100\n",
      "6367/6367 [==============================] - 0s 60us/sample - loss: 0.0056 - val_loss: 0.0057\n",
      "Epoch 20/100\n",
      "6367/6367 [==============================] - 0s 58us/sample - loss: 0.0053 - val_loss: 0.0054\n",
      "Epoch 21/100\n",
      "6367/6367 [==============================] - 0s 64us/sample - loss: 0.0052 - val_loss: 0.0053\n",
      "Epoch 22/100\n",
      "6367/6367 [==============================] - 0s 57us/sample - loss: 0.0050 - val_loss: 0.0051\n",
      "Epoch 23/100\n",
      "6367/6367 [==============================] - 0s 57us/sample - loss: 0.0049 - val_loss: 0.0050\n",
      "Epoch 24/100\n",
      "6367/6367 [==============================] - 0s 56us/sample - loss: 0.0047 - val_loss: 0.0049\n",
      "Epoch 25/100\n",
      "6367/6367 [==============================] - 0s 57us/sample - loss: 0.0046 - val_loss: 0.0048\n",
      "Epoch 26/100\n",
      "6367/6367 [==============================] - 0s 58us/sample - loss: 0.0045 - val_loss: 0.0047\n",
      "Epoch 27/100\n",
      "6367/6367 [==============================] - 0s 64us/sample - loss: 0.0043 - val_loss: 0.0046\n",
      "Epoch 28/100\n",
      "6367/6367 [==============================] - 0s 71us/sample - loss: 0.0042 - val_loss: 0.0045\n",
      "Epoch 29/100\n",
      "6367/6367 [==============================] - 0s 72us/sample - loss: 0.0041 - val_loss: 0.0044\n",
      "Epoch 30/100\n",
      "6367/6367 [==============================] - 0s 76us/sample - loss: 0.0040 - val_loss: 0.0043\n",
      "Epoch 31/100\n",
      "6367/6367 [==============================] - 0s 68us/sample - loss: 0.0040 - val_loss: 0.0042\n",
      "Epoch 32/100\n",
      "6367/6367 [==============================] - 0s 77us/sample - loss: 0.0039 - val_loss: 0.0041\n",
      "Epoch 33/100\n",
      "6367/6367 [==============================] - 0s 61us/sample - loss: 0.0038 - val_loss: 0.0041\n",
      "Epoch 34/100\n",
      "6367/6367 [==============================] - 0s 61us/sample - loss: 0.0037 - val_loss: 0.0040\n",
      "Epoch 35/100\n",
      "6367/6367 [==============================] - 0s 69us/sample - loss: 0.0036 - val_loss: 0.0039\n",
      "Epoch 36/100\n",
      "6367/6367 [==============================] - 0s 62us/sample - loss: 0.0035 - val_loss: 0.0038\n",
      "Epoch 37/100\n",
      "6367/6367 [==============================] - 0s 60us/sample - loss: 0.0034 - val_loss: 0.0037\n",
      "Epoch 38/100\n",
      "6367/6367 [==============================] - 0s 61us/sample - loss: 0.0033 - val_loss: 0.0035\n",
      "Epoch 39/100\n",
      "6367/6367 [==============================] - 0s 61us/sample - loss: 0.0032 - val_loss: 0.0035\n",
      "Epoch 40/100\n",
      "6367/6367 [==============================] - 0s 61us/sample - loss: 0.0031 - val_loss: 0.0035\n",
      "Epoch 41/100\n",
      "6367/6367 [==============================] - 0s 61us/sample - loss: 0.0030 - val_loss: 0.0034\n",
      "Epoch 42/100\n",
      "6367/6367 [==============================] - 0s 61us/sample - loss: 0.0029 - val_loss: 0.0033\n",
      "Epoch 43/100\n",
      "6367/6367 [==============================] - 0s 62us/sample - loss: 0.0028 - val_loss: 0.0032\n",
      "Epoch 44/100\n",
      "6367/6367 [==============================] - 0s 61us/sample - loss: 0.0027 - val_loss: 0.0031\n",
      "Epoch 45/100\n",
      "6367/6367 [==============================] - 0s 65us/sample - loss: 0.0026 - val_loss: 0.0030\n",
      "Epoch 46/100\n",
      "6367/6367 [==============================] - 0s 61us/sample - loss: 0.0026 - val_loss: 0.0029\n",
      "Epoch 47/100\n",
      "6367/6367 [==============================] - 0s 62us/sample - loss: 0.0025 - val_loss: 0.0029\n",
      "Epoch 48/100\n",
      "6367/6367 [==============================] - 0s 61us/sample - loss: 0.0024 - val_loss: 0.0028\n",
      "Epoch 49/100\n",
      "6367/6367 [==============================] - 0s 61us/sample - loss: 0.0023 - val_loss: 0.0028\n",
      "Epoch 50/100\n",
      "6367/6367 [==============================] - 0s 62us/sample - loss: 0.0023 - val_loss: 0.0027\n",
      "Epoch 51/100\n",
      "6367/6367 [==============================] - 0s 71us/sample - loss: 0.0022 - val_loss: 0.0027\n",
      "Epoch 52/100\n",
      "6367/6367 [==============================] - 0s 61us/sample - loss: 0.0021 - val_loss: 0.0026\n",
      "Epoch 53/100\n",
      "6367/6367 [==============================] - 0s 61us/sample - loss: 0.0021 - val_loss: 0.0026\n",
      "Epoch 54/100\n",
      "6367/6367 [==============================] - 0s 61us/sample - loss: 0.0021 - val_loss: 0.0025\n",
      "Epoch 55/100\n",
      "6367/6367 [==============================] - 0s 63us/sample - loss: 0.0020 - val_loss: 0.0025\n",
      "Epoch 56/100\n",
      "6367/6367 [==============================] - 0s 62us/sample - loss: 0.0020 - val_loss: 0.0025\n",
      "Epoch 57/100\n",
      "6367/6367 [==============================] - 0s 61us/sample - loss: 0.0019 - val_loss: 0.0024\n",
      "Epoch 58/100\n",
      "6367/6367 [==============================] - 0s 66us/sample - loss: 0.0019 - val_loss: 0.0023\n",
      "Epoch 59/100\n",
      "6367/6367 [==============================] - 0s 61us/sample - loss: 0.0019 - val_loss: 0.0024\n",
      "Epoch 60/100\n",
      "6367/6367 [==============================] - 0s 61us/sample - loss: 0.0018 - val_loss: 0.0023\n",
      "Epoch 61/100\n",
      "6367/6367 [==============================] - 0s 61us/sample - loss: 0.0018 - val_loss: 0.0023\n",
      "Epoch 62/100\n",
      "6367/6367 [==============================] - 0s 61us/sample - loss: 0.0018 - val_loss: 0.0023\n",
      "Epoch 63/100\n",
      "6367/6367 [==============================] - 0s 62us/sample - loss: 0.0017 - val_loss: 0.0022\n",
      "Epoch 64/100\n",
      "6367/6367 [==============================] - 0s 63us/sample - loss: 0.0017 - val_loss: 0.0022\n",
      "Epoch 65/100\n",
      "6367/6367 [==============================] - 0s 61us/sample - loss: 0.0017 - val_loss: 0.0022\n",
      "Epoch 66/100\n",
      "6367/6367 [==============================] - 0s 61us/sample - loss: 0.0017 - val_loss: 0.0022\n",
      "Epoch 67/100\n",
      "6367/6367 [==============================] - 0s 70us/sample - loss: 0.0016 - val_loss: 0.0022\n",
      "Epoch 68/100\n",
      "6367/6367 [==============================] - 0s 62us/sample - loss: 0.0016 - val_loss: 0.0021\n",
      "Epoch 69/100\n",
      "6367/6367 [==============================] - 0s 59us/sample - loss: 0.0016 - val_loss: 0.0021\n",
      "Epoch 70/100\n",
      "6367/6367 [==============================] - 0s 59us/sample - loss: 0.0016 - val_loss: 0.0022\n",
      "Epoch 71/100\n",
      "6367/6367 [==============================] - 0s 65us/sample - loss: 0.0015 - val_loss: 0.0021\n",
      "Epoch 72/100\n",
      "6367/6367 [==============================] - 0s 62us/sample - loss: 0.0015 - val_loss: 0.0021\n",
      "Epoch 73/100\n",
      "6367/6367 [==============================] - 0s 61us/sample - loss: 0.0015 - val_loss: 0.0020\n",
      "Epoch 74/100\n",
      "6367/6367 [==============================] - 0s 61us/sample - loss: 0.0015 - val_loss: 0.0020\n",
      "Epoch 75/100\n",
      "6367/6367 [==============================] - 0s 61us/sample - loss: 0.0015 - val_loss: 0.0020\n",
      "Epoch 76/100\n",
      "6367/6367 [==============================] - 0s 61us/sample - loss: 0.0014 - val_loss: 0.0020\n",
      "Epoch 77/100\n",
      "6367/6367 [==============================] - 0s 61us/sample - loss: 0.0014 - val_loss: 0.0020\n",
      "Epoch 78/100\n",
      "6367/6367 [==============================] - 0s 63us/sample - loss: 0.0014 - val_loss: 0.0020\n",
      "Epoch 79/100\n",
      "6367/6367 [==============================] - 0s 61us/sample - loss: 0.0014 - val_loss: 0.0019\n",
      "Epoch 80/100\n",
      "6367/6367 [==============================] - 0s 60us/sample - loss: 0.0014 - val_loss: 0.0020\n",
      "Epoch 81/100\n",
      "6367/6367 [==============================] - 0s 61us/sample - loss: 0.0014 - val_loss: 0.0020\n",
      "Epoch 82/100\n",
      "6367/6367 [==============================] - 0s 73us/sample - loss: 0.0014 - val_loss: 0.0020\n",
      "Epoch 83/100\n",
      "6367/6367 [==============================] - 0s 64us/sample - loss: 0.0013 - val_loss: 0.0019\n",
      "Epoch 84/100\n",
      "6367/6367 [==============================] - 0s 61us/sample - loss: 0.0013 - val_loss: 0.0019\n",
      "Epoch 85/100\n",
      "6367/6367 [==============================] - 0s 60us/sample - loss: 0.0013 - val_loss: 0.0019\n",
      "Epoch 86/100\n",
      "6367/6367 [==============================] - 0s 60us/sample - loss: 0.0013 - val_loss: 0.0018\n",
      "Epoch 87/100\n",
      "6367/6367 [==============================] - 0s 59us/sample - loss: 0.0012 - val_loss: 0.0019\n",
      "Epoch 88/100\n",
      "6367/6367 [==============================] - 0s 59us/sample - loss: 0.0012 - val_loss: 0.0018\n",
      "Epoch 89/100\n",
      "6367/6367 [==============================] - 0s 60us/sample - loss: 0.0012 - val_loss: 0.0018\n",
      "Epoch 90/100\n",
      "6367/6367 [==============================] - 0s 60us/sample - loss: 0.0012 - val_loss: 0.0018\n",
      "Epoch 91/100\n",
      "6367/6367 [==============================] - 0s 59us/sample - loss: 0.0012 - val_loss: 0.0018\n",
      "Epoch 92/100\n",
      "6367/6367 [==============================] - 0s 60us/sample - loss: 0.0012 - val_loss: 0.0018\n",
      "Epoch 93/100\n",
      "6367/6367 [==============================] - 0s 61us/sample - loss: 0.0012 - val_loss: 0.0018\n",
      "Epoch 94/100\n",
      "6367/6367 [==============================] - 0s 61us/sample - loss: 0.0012 - val_loss: 0.0018\n",
      "Epoch 95/100\n",
      "6367/6367 [==============================] - 0s 62us/sample - loss: 0.0012 - val_loss: 0.0017\n",
      "Epoch 96/100\n",
      "6367/6367 [==============================] - 0s 60us/sample - loss: 0.0012 - val_loss: 0.0017\n",
      "Epoch 97/100\n",
      "6367/6367 [==============================] - 0s 64us/sample - loss: 0.0011 - val_loss: 0.0018\n",
      "Epoch 98/100\n",
      "6367/6367 [==============================] - 0s 70us/sample - loss: 0.0011 - val_loss: 0.0018\n",
      "Epoch 99/100\n",
      "6367/6367 [==============================] - 0s 60us/sample - loss: 0.0011 - val_loss: 0.0017\n",
      "Epoch 100/100\n",
      "6367/6367 [==============================] - 0s 60us/sample - loss: 0.0011 - val_loss: 0.0018\n"
     ]
    }
   ],
   "source": [
    "tf.keras.backend.clear_session()\n",
    "tf.random.set_seed(192)\n",
    "round = 30\n",
    "model_list = [] # list of to save model\n",
    "class_list = []\n",
    "log_list = []\n",
    "para_dfm = pd.DataFrame(columns=['reg_param', 'number_units_layers', 'number_units_bottleneck', 'dropout_rate', 'number_layers', 'whether_dropout', 'whether_regularizer','overfit_metric', 'val1_loss','val2_avg_recon_error'])\n",
    "for i in range(round):\n",
    "    print(f\"This round is {i}\")\n",
    "    # generate a list of hyperparameters\n",
    "    reg_param = np.random.uniform(low=0.1, high=0.3)\n",
    "    numbers_units_layers = np.random.choice(np.arange(30, 61, 15))\n",
    "    numbers_units_bottleneck = np.random.choice(np.arange(5, 16, 5))\n",
    "    dropout_rate = np.random.uniform(low=0.01, high=0.05)\n",
    "    numbers_layers = np.random.choice(np.arange(1, 4, 1))\n",
    "    whether_dropout = np.random.choice([True, False])\n",
    "    whether_regularizer = np.random.choice([True, False])\n",
    "    autoencoder = AutoEncodingModel(reg_param, numbers_units_layers, numbers_units_bottleneck, dropout_rate, numbers_layers, whether_dropout, whether_regularizer)\n",
    "    \n",
    "    # get the result of the model\n",
    "    res = autoencoder.run()\n",
    "    overfit_metric  = res['overfit_metric']\n",
    "    val2_avg_recon_error = res['val2_avg_recon_error']\n",
    "    model = res['model']\n",
    "    val1_loss = res['val1_loss']\n",
    "\n",
    "    # fill the value into the dataframe\n",
    "    para_dfm = para_dfm.append({\"reg_param\": reg_param, \"number_units_layers\": numbers_units_layers, \"number_units_bottleneck\": numbers_units_bottleneck, \"dropout_rate\": dropout_rate, \"number_layers\": numbers_layers, \"whether_dropout\": whether_dropout, \"whether_regularizer\": whether_regularizer, \"overfit_metric\": overfit_metric, \"val2_avg_recon_error\": val2_avg_recon_error,'val1_loss':val1_loss}, ignore_index=True)\n",
    "    \n",
    "    # add model into model_list\n",
    "    model_list.append(model)\n",
    "\n",
    "    # add initalized class into class_list\n",
    "    class_list.append(autoencoder)\n",
    "\n",
    "    # add log into log_list\n",
    "    log_list.append(res['log'])"
   ]
  },
  {
   "cell_type": "code",
   "execution_count": null,
   "metadata": {},
   "outputs": [],
   "source": [
    "para_dfm.to_csv(\"para_dfm.csv\")\n",
    "# para_dfm = pd.read_csv(\"para_dfm.csv\", index_col=0)"
   ]
  },
  {
   "cell_type": "code",
   "execution_count": null,
   "metadata": {},
   "outputs": [],
   "source": []
  },
  {
   "cell_type": "code",
   "execution_count": 321,
   "metadata": {},
   "outputs": [
    {
     "data": {
      "text/html": [
       "<div>\n",
       "<style scoped>\n",
       "    .dataframe tbody tr th:only-of-type {\n",
       "        vertical-align: middle;\n",
       "    }\n",
       "\n",
       "    .dataframe tbody tr th {\n",
       "        vertical-align: top;\n",
       "    }\n",
       "\n",
       "    .dataframe thead th {\n",
       "        text-align: right;\n",
       "    }\n",
       "</style>\n",
       "<table border=\"1\" class=\"dataframe\">\n",
       "  <thead>\n",
       "    <tr style=\"text-align: right;\">\n",
       "      <th></th>\n",
       "      <th>reg_param</th>\n",
       "      <th>number_units_layers</th>\n",
       "      <th>number_units_bottleneck</th>\n",
       "      <th>dropout_rate</th>\n",
       "      <th>number_layers</th>\n",
       "      <th>whether_dropout</th>\n",
       "      <th>whether_regularizer</th>\n",
       "      <th>overfit_metric</th>\n",
       "      <th>val1_loss</th>\n",
       "      <th>val2_avg_recon_error</th>\n",
       "      <th>model_score</th>\n",
       "    </tr>\n",
       "  </thead>\n",
       "  <tbody>\n",
       "    <tr>\n",
       "      <th>1</th>\n",
       "      <td>0.263532</td>\n",
       "      <td>30</td>\n",
       "      <td>5</td>\n",
       "      <td>0.034796</td>\n",
       "      <td>2</td>\n",
       "      <td>False</td>\n",
       "      <td>False</td>\n",
       "      <td>0.000645</td>\n",
       "      <td>0.001759</td>\n",
       "      <td>0.001643</td>\n",
       "      <td>0.000998</td>\n",
       "    </tr>\n",
       "    <tr>\n",
       "      <th>0</th>\n",
       "      <td>0.271656</td>\n",
       "      <td>60</td>\n",
       "      <td>10</td>\n",
       "      <td>0.019042</td>\n",
       "      <td>3</td>\n",
       "      <td>False</td>\n",
       "      <td>False</td>\n",
       "      <td>0.000385</td>\n",
       "      <td>0.000864</td>\n",
       "      <td>0.000828</td>\n",
       "      <td>0.000442</td>\n",
       "    </tr>\n",
       "  </tbody>\n",
       "</table>\n",
       "</div>"
      ],
      "text/plain": [
       "   reg_param number_units_layers number_units_bottleneck  dropout_rate  \\\n",
       "1   0.263532                  30                       5      0.034796   \n",
       "0   0.271656                  60                      10      0.019042   \n",
       "\n",
       "  number_layers whether_dropout whether_regularizer  overfit_metric  \\\n",
       "1             2           False               False        0.000645   \n",
       "0             3           False               False        0.000385   \n",
       "\n",
       "   val1_loss  val2_avg_recon_error  model_score  \n",
       "1   0.001759              0.001643     0.000998  \n",
       "0   0.000864              0.000828     0.000442  "
      ]
     },
     "execution_count": 321,
     "metadata": {},
     "output_type": "execute_result"
    }
   ],
   "source": [
    "# calculate the model score according to the val2_avg_recon_error and overfit_metric\n",
    "para_dfm[\"model_score\"] = para_dfm[\"val2_avg_recon_error\"] - para_dfm[\"overfit_metric\"] \n",
    "para_dfm = para_dfm.sort_values(by=[\"model_score\"], ascending=False)\n",
    "para_dfm.head()"
   ]
  },
  {
   "cell_type": "markdown",
   "metadata": {},
   "source": [
    "Go through all the models we have trained and look into the relationship of the model_score and the performance of model.\n",
    "In the table, we are going to record the model_score, the sensitivity(select the mean of reconstruction_error as threshold), accuracy_rate and AUC."
   ]
  },
  {
   "cell_type": "code",
   "execution_count": 322,
   "metadata": {},
   "outputs": [],
   "source": [
    "# df_performance_diff_sens.to_csv(\"df_performance_diff_sens.csv\")\n",
    "df_performance_diff_sens = pd.read_csv(\"df_performance_diff_sens.csv\", index_col=0)"
   ]
  },
  {
   "cell_type": "code",
   "execution_count": 323,
   "metadata": {},
   "outputs": [],
   "source": [
    "# NOTE: read \"df_performance_diff_sens\" from local file\n",
    "\n",
    "# df_performance_diff_sens = pd.DataFrame(columns=['model_score', 'sensitivity','accuracy_rate','roc'])\n",
    "# for ind, row in para_dfm.iterrows():\n",
    "#     print(f\"The model_score is: {row['model_score']}\")\n",
    "#     model_pred = model_list[ind]\n",
    "#     X_pred = model_pred.predict(X_val)\n",
    "#     mse = np.mean(np.power(X_val.flatten() - X_pred.flatten(), 2))\n",
    "#     reconstructions = model_pred.predict(X_val)\n",
    "#     val_loss = tf.keras.losses.mae(reconstructions, X_val)\n",
    "#     # sns.histplot(x=val_loss,y=y_val.flatten(),hue=y_val.flatten())\n",
    "#     # plt.show()\n",
    "#     df_tmp = pd.DataFrame({\"val_loss\": val_loss, \"y_val\": y_val.flatten()})\n",
    "#     df_tmp_fraud = df_tmp[df_tmp[\"y_val\"] == 1]\n",
    "#     df_tmp_non_fraud = df_tmp[df_tmp[\"y_val\"] == 0]\n",
    "#     mse = np.mean(np.power(X_val.flatten() - X_pred.flatten(), 2))\n",
    "#     error_df = pd.DataFrame({'Reconstruction_error': mse, 'True_class': y_val.flatten()})\n",
    "#     df_temp = pd.DataFrame({'Reconstruction_error': val_loss, 'True_class': y_val.flatten()})\n",
    "#     roc = roc_auc_score(y_val.flatten(), val_loss)\n",
    "#     threshold = np.mean(df_temp[\"Reconstruction_error\"])\n",
    "#     pred_y = np.where(val_loss > threshold, 1, 0)\n",
    "#     cm = confusion_matrix(y_val.flatten(), pred_y)\n",
    "#     accuracy_rate = (cm[0,0] + cm[1,1])/np.sum(cm)\n",
    "#     # calculate the sensitivity \n",
    "#     sensitivity = cm[1,1]/(cm[1,1] + cm[1,0])\n",
    "#     print(f\"sensitivity is: {sensitivity}\")\n",
    "#     df_performance_diff_sens = df_performance_diff_sens.append({\"model_score\": row['model_score'], \"sensitivity\": sensitivity,'accuracy_rate':accuracy_rate,'roc':roc}, ignore_index=True)\n",
    "\n",
    "# df_performance_diff_sens"
   ]
  },
  {
   "cell_type": "markdown",
   "metadata": {},
   "source": [
    "We are going to explore the distubution of the fraud cases in the test set of each model. Usually, the higher the model score, the fraud cases are more likely to be concentrated at a large number."
   ]
  },
  {
   "cell_type": "code",
   "execution_count": 324,
   "metadata": {},
   "outputs": [
    {
     "name": "stdout",
     "output_type": "stream",
     "text": [
      "The model_score is: 0.0009980056371213946\n"
     ]
    },
    {
     "data": {
      "image/png": "[encoded data removed]",
      "text/plain": [
       "<Figure size 432x288 with 1 Axes>"
      ]
     },
     "metadata": {
      "needs_background": "light"
     },
     "output_type": "display_data"
    },
    {
     "name": "stdout",
     "output_type": "stream",
     "text": [
      "The model_score is: 0.00044240530746381205\n"
     ]
    },
    {
     "data": {
      "image/png": "[encoded data removed]",
      "text/plain": [
       "<Figure size 432x288 with 1 Axes>"
      ]
     },
     "metadata": {
      "needs_background": "light"
     },
     "output_type": "display_data"
    }
   ],
   "source": [
    "for ind, row in para_dfm.iterrows():\n",
    "    print(f\"The model_score is: {row['model_score']}\")\n",
    "    model_pred = model_list[ind]\n",
    "    X_pred = model_pred.predict(X_val)\n",
    "    mse = np.mean(np.power(X_val.flatten() - X_pred.flatten(), 2))\n",
    "    reconstructions = model_pred.predict(X_val)\n",
    "    val_loss = tf.keras.losses.mse(reconstructions, X_val)\n",
    "    df_tmp = pd.DataFrame({\"val_loss\": val_loss, \"y_val\": y_val.flatten()})\n",
    "    df_tmp_fraud = df_tmp[df_tmp[\"y_val\"] == 1]\n",
    "    df_tmp_non_fraud = df_tmp[df_tmp[\"y_val\"] == 0]\n",
    "    plt.hist(df_tmp_fraud[\"val_loss\"], bins=50, alpha=0.5, label=\"fraud\", color=\"red\",density=True)\n",
    "    plt.hist(df_tmp_non_fraud[\"val_loss\"], bins=50, alpha=0.5, label=\"non_fraud\", color=\"blue\",density=True)\n",
    "    plt.show()"
   ]
  },
  {
   "cell_type": "markdown",
   "metadata": {},
   "source": [
    "Show the relationship between model_score and other columns, we can find a very significant linear relationship between these columns."
   ]
  },
  {
   "cell_type": "code",
   "execution_count": 325,
   "metadata": {},
   "outputs": [
    {
     "data": {
      "image/png": "[encoded data removed]",
      "text/plain": [
       "<Figure size 432x288 with 1 Axes>"
      ]
     },
     "metadata": {
      "needs_background": "light"
     },
     "output_type": "display_data"
    },
    {
     "data": {
      "image/png": "[encoded data removed]",
      "text/plain": [
       "<Figure size 432x288 with 1 Axes>"
      ]
     },
     "metadata": {
      "needs_background": "light"
     },
     "output_type": "display_data"
    },
    {
     "data": {
      "image/png": "[encoded data removed]",
      "text/plain": [
       "<Figure size 432x288 with 1 Axes>"
      ]
     },
     "metadata": {
      "needs_background": "light"
     },
     "output_type": "display_data"
    }
   ],
   "source": [
    "df_performance_diff_sens.plot(x='model_score', y='sensitivity', kind='scatter',title='Sensitivity_model_score')\n",
    "plt.show()\n",
    "df_performance_diff_sens.plot(x='model_score', y='roc', kind='scatter',title='ROC_model_score')\n",
    "plt.show()\n",
    "df_performance_diff_sens.plot(x='model_score', y='accuracy_rate', kind='scatter',title='Accuracy_model_score')\n",
    "plt.show()"
   ]
  },
  {
   "cell_type": "markdown",
   "metadata": {},
   "source": [
    "We are going to use statsmodel to test whether it is significant. We can find the p-value of the model is very low, which means the model is significant."
   ]
  },
  {
   "cell_type": "code",
   "execution_count": 326,
   "metadata": {},
   "outputs": [
    {
     "name": "stdout",
     "output_type": "stream",
     "text": [
      "Statsmodels linear regression betwen model_score and sensitivity\n",
      "                            OLS Regression Results                            \n",
      "==============================================================================\n",
      "Dep. Variable:                      y   R-squared:                       0.925\n",
      "Model:                            OLS   Adj. R-squared:                  0.922\n",
      "Method:                 Least Squares   F-statistic:                     344.4\n",
      "Date:                Wed, 09 Mar 2022   Prob (F-statistic):           2.86e-17\n",
      "Time:                        14:32:47   Log-Likelihood:                 52.236\n",
      "No. Observations:                  30   AIC:                            -100.5\n",
      "Df Residuals:                      28   BIC:                            -97.67\n",
      "Df Model:                           1                                         \n",
      "Covariance Type:            nonrobust                                         \n",
      "==============================================================================\n",
      "                 coef    std err          t      P>|t|      [0.025      0.975]\n",
      "------------------------------------------------------------------------------\n",
      "const          0.4689      0.010     49.329      0.000       0.449       0.488\n",
      "x1            11.9184      0.642     18.557      0.000      10.603      13.234\n",
      "==============================================================================\n",
      "Omnibus:                        2.834   Durbin-Watson:                   0.877\n",
      "Prob(Omnibus):                  0.242   Jarque-Bera (JB):                1.651\n",
      "Skew:                           0.122   Prob(JB):                        0.438\n",
      "Kurtosis:                       4.123   Cond. No.                         80.1\n",
      "==============================================================================\n",
      "\n",
      "Notes:\n",
      "[1] Standard Errors assume that the covariance matrix of the errors is correctly specified.\n",
      "Statsmodels linear regression betwen model_score and accuracy_rate\n",
      "                            OLS Regression Results                            \n",
      "==============================================================================\n",
      "Dep. Variable:                      y   R-squared:                       0.840\n",
      "Model:                            OLS   Adj. R-squared:                  0.834\n",
      "Method:                 Least Squares   F-statistic:                     146.5\n",
      "Date:                Wed, 09 Mar 2022   Prob (F-statistic):           1.22e-12\n",
      "Time:                        14:32:47   Log-Likelihood:                 63.865\n",
      "No. Observations:                  30   AIC:                            -123.7\n",
      "Df Residuals:                      28   BIC:                            -120.9\n",
      "Df Model:                           1                                         \n",
      "Covariance Type:            nonrobust                                         \n",
      "==============================================================================\n",
      "                 coef    std err          t      P>|t|      [0.025      0.975]\n",
      "------------------------------------------------------------------------------\n",
      "const          0.7411      0.006    114.878      0.000       0.728       0.754\n",
      "x1            -5.2753      0.436    -12.103      0.000      -6.168      -4.382\n",
      "==============================================================================\n",
      "Omnibus:                        3.360   Durbin-Watson:                   0.246\n",
      "Prob(Omnibus):                  0.186   Jarque-Bera (JB):                2.827\n",
      "Skew:                          -0.652   Prob(JB):                        0.243\n",
      "Kurtosis:                       2.251   Cond. No.                         80.1\n",
      "==============================================================================\n",
      "\n",
      "Notes:\n",
      "[1] Standard Errors assume that the covariance matrix of the errors is correctly specified.\n",
      "-------------------------------------------------------\n",
      "Statsmodels linear regression betwen model_score and roc\n",
      "                            OLS Regression Results                            \n",
      "==============================================================================\n",
      "Dep. Variable:                      y   R-squared:                       0.609\n",
      "Model:                            OLS   Adj. R-squared:                  0.595\n",
      "Method:                 Least Squares   F-statistic:                     43.62\n",
      "Date:                Wed, 09 Mar 2022   Prob (F-statistic):           3.66e-07\n",
      "Time:                        14:32:47   Log-Likelihood:                 76.385\n",
      "No. Observations:                  30   AIC:                            -148.8\n",
      "Df Residuals:                      28   BIC:                            -146.0\n",
      "Df Model:                           1                                         \n",
      "Covariance Type:            nonrobust                                         \n",
      "==============================================================================\n",
      "                 coef    std err          t      P>|t|      [0.025      0.975]\n",
      "------------------------------------------------------------------------------\n",
      "const          0.6838      0.004    160.892      0.000       0.675       0.692\n",
      "x1             1.8965      0.287      6.604      0.000       1.308       2.485\n",
      "==============================================================================\n",
      "Omnibus:                        3.897   Durbin-Watson:                   0.990\n",
      "Prob(Omnibus):                  0.143   Jarque-Bera (JB):                2.356\n",
      "Skew:                          -0.572   Prob(JB):                        0.308\n",
      "Kurtosis:                       3.759   Cond. No.                         80.1\n",
      "==============================================================================\n",
      "\n",
      "Notes:\n",
      "[1] Standard Errors assume that the covariance matrix of the errors is correctly specified.\n",
      "-------------------------------------------------------\n"
     ]
    }
   ],
   "source": [
    "# linear regression #TODO more linear regression test\n",
    "\n",
    "X  = np.array(df_performance_diff_sens['model_score'], dtype=float)\n",
    "y = np.array(df_performance_diff_sens['sensitivity'], dtype=float)\n",
    "X = sm.add_constant(X)\n",
    "print(\"Statsmodels linear regression betwen model_score and sensitivity\")\n",
    "model = sm.OLS(y, X).fit()\n",
    "print(model.summary())\n",
    "\n",
    "X = np.array(df_performance_diff_sens['model_score'], dtype=float)\n",
    "y = np.array(df_performance_diff_sens['accuracy_rate'], dtype=float)\n",
    "X = sm.add_constant(X)\n",
    "print(\"Statsmodels linear regression betwen model_score and accuracy_rate\")\n",
    "model = sm.OLS(y, X).fit()\n",
    "print(model.summary())\n",
    "print('-------------------------------------------------------')\n",
    "\n",
    "X = np.array(df_performance_diff_sens['model_score'], dtype=float)\n",
    "y = np.array(df_performance_diff_sens['roc'], dtype=float)\n",
    "X = sm.add_constant(X)\n",
    "print(\"Statsmodels linear regression betwen model_score and roc\")\n",
    "model = sm.OLS(y, X).fit()\n",
    "print(model.summary())\n",
    "print('-------------------------------------------------------')\n"
   ]
  },
  {
   "cell_type": "markdown",
   "metadata": {},
   "source": [
    "# Question 8\n",
    "Based on the results of the previous question, we can use the model_score to select the best model."
   ]
  },
  {
   "cell_type": "code",
   "execution_count": 327,
   "metadata": {},
   "outputs": [
    {
     "data": {
      "image/png": "[encoded data removed]",
      "text/plain": [
       "<Figure size 432x288 with 1 Axes>"
      ]
     },
     "metadata": {
      "needs_background": "light"
     },
     "output_type": "display_data"
    }
   ],
   "source": [
    "# get the index of largest model_score row\n",
    "para_dfm_max_index = para_dfm[para_dfm[\"model_score\"]==max(para_dfm[\"model_score\"])].index[0]\n",
    "# get the loss function of the best model\n",
    "def create_plot(log,limit=None):\n",
    "    if limit:\n",
    "    # plt.plot(log.history['accuracy'],label = \"training accuracy\",color='green')\n",
    "        plt.plot(log.history['loss'][-limit:],label = \"training loss\",color='darkgreen')\n",
    "        # plt.plot(log.history['val_accuracy'], label = \"validation accuracy\",color='grey')\n",
    "        plt.plot(log.history['val_loss'][-limit:], label = \"validation loss\",color='darkblue')\n",
    "        plt.legend()\n",
    "        plt.show()\n",
    "    else:\n",
    "        plt.plot(log.history['loss'],label = \"training loss\",color='darkgreen')\n",
    "        plt.plot(log.history['val_loss'], label = \"validation loss\",color='darkblue')\n",
    "        plt.legend()\n",
    "        plt.show()\n",
    "\n",
    "create_plot(log_list[para_dfm_max_index])"
   ]
  },
  {
   "cell_type": "code",
   "execution_count": 328,
   "metadata": {},
   "outputs": [],
   "source": [
    "# get the index of largest model_score row\n",
    "autoencoder_best = model_list[int(para_dfm_max_index)]\n",
    "# autoencoder_best.save('./models/autoencoder_best.h5') # save the best model"
   ]
  },
  {
   "cell_type": "markdown",
   "metadata": {},
   "source": [
    "We are going to reset the weight and train the model again."
   ]
  },
  {
   "cell_type": "code",
   "execution_count": 329,
   "metadata": {},
   "outputs": [],
   "source": [
    "def shuffle_weights(model, weights=None):\n",
    "    \"\"\"Randomly permute the weights in `model`, or the given `weights`.\n",
    "\n",
    "    This is a fast approximation of re-initializing the weights of a model.\n",
    "\n",
    "    Assumes weights are distributed independently of the dimensions of the weight tensors\n",
    "      (i.e., the weights have the same distribution along each dimension).\n",
    "\n",
    "    :param Model model: Modify the weights of the given model.\n",
    "    :param list(ndarray) weights: The model's weights will be replaced by a random permutation of these weights.\n",
    "      If `None`, permute the model's current weights.\n",
    "    \"\"\"\n",
    "    if weights is None:\n",
    "        weights = model.get_weights()\n",
    "    weights = [np.random.permutation(w.flat).reshape(w.shape) for w in weights]\n",
    "    # Faster, but less random: only permutes along the first dimension\n",
    "    # weights = [np.random.permutation(w) for w in weights]\n",
    "    model.set_weights(weights)\n",
    "    return model\n"
   ]
  },
  {
   "cell_type": "code",
   "execution_count": 330,
   "metadata": {},
   "outputs": [
    {
     "name": "stdout",
     "output_type": "stream",
     "text": [
      "Train on 9097 samples, validate on 1137 samples\n",
      "Epoch 1/200\n",
      "9097/9097 [==============================] - 1s 66us/sample - loss: 0.0633 - val_loss: 0.0412\n",
      "Epoch 2/200\n",
      "9097/9097 [==============================] - 1s 89us/sample - loss: 0.0372 - val_loss: 0.0361\n",
      "Epoch 3/200\n",
      "9097/9097 [==============================] - 1s 87us/sample - loss: 0.0335 - val_loss: 0.0332\n",
      "Epoch 4/200\n",
      "9097/9097 [==============================] - 1s 72us/sample - loss: 0.0321 - val_loss: 0.0325\n",
      "Epoch 5/200\n",
      "9097/9097 [==============================] - 1s 92us/sample - loss: 0.0317 - val_loss: 0.0322\n",
      "Epoch 6/200\n",
      "9097/9097 [==============================] - 1s 96us/sample - loss: 0.0315 - val_loss: 0.0321\n",
      "Epoch 7/200\n",
      "9097/9097 [==============================] - 1s 94us/sample - loss: 0.0314 - val_loss: 0.0320\n",
      "Epoch 8/200\n",
      "9097/9097 [==============================] - 1s 108us/sample - loss: 0.0303 - val_loss: 0.0294\n",
      "Epoch 9/200\n",
      "9097/9097 [==============================] - 1s 107us/sample - loss: 0.0287 - val_loss: 0.0292\n",
      "Epoch 10/200\n",
      "9097/9097 [==============================] - 1s 114us/sample - loss: 0.0286 - val_loss: 0.0291\n",
      "Epoch 11/200\n",
      "9097/9097 [==============================] - 1s 103us/sample - loss: 0.0285 - val_loss: 0.0291\n",
      "Epoch 12/200\n",
      "9097/9097 [==============================] - 1s 110us/sample - loss: 0.0285 - val_loss: 0.0290\n",
      "Epoch 13/200\n",
      "9097/9097 [==============================] - 1s 110us/sample - loss: 0.0283 - val_loss: 0.0275\n",
      "Epoch 14/200\n",
      "9097/9097 [==============================] - 1s 95us/sample - loss: 0.0266 - val_loss: 0.0269\n",
      "Epoch 15/200\n",
      "9097/9097 [==============================] - 1s 92us/sample - loss: 0.0264 - val_loss: 0.0268\n",
      "Epoch 16/200\n",
      "9097/9097 [==============================] - 1s 107us/sample - loss: 0.0263 - val_loss: 0.0267\n",
      "Epoch 17/200\n",
      "9097/9097 [==============================] - 1s 92us/sample - loss: 0.0262 - val_loss: 0.0266\n",
      "Epoch 18/200\n",
      "9097/9097 [==============================] - 1s 91us/sample - loss: 0.0262 - val_loss: 0.0265\n",
      "Epoch 19/200\n",
      "9097/9097 [==============================] - 1s 94us/sample - loss: 0.0261 - val_loss: 0.0264\n",
      "Epoch 20/200\n",
      "9097/9097 [==============================] - 1s 100us/sample - loss: 0.0254 - val_loss: 0.0253\n",
      "Epoch 21/200\n",
      "9097/9097 [==============================] - 1s 97us/sample - loss: 0.0247 - val_loss: 0.0250\n",
      "Epoch 22/200\n",
      "9097/9097 [==============================] - 1s 101us/sample - loss: 0.0246 - val_loss: 0.0249\n",
      "Epoch 23/200\n",
      "9097/9097 [==============================] - 1s 95us/sample - loss: 0.0245 - val_loss: 0.0248\n",
      "Epoch 24/200\n",
      "9097/9097 [==============================] - 1s 98us/sample - loss: 0.0244 - val_loss: 0.0247\n",
      "Epoch 25/200\n",
      "9097/9097 [==============================] - 1s 94us/sample - loss: 0.0243 - val_loss: 0.0246\n",
      "Epoch 26/200\n",
      "9097/9097 [==============================] - 1s 86us/sample - loss: 0.0242 - val_loss: 0.0246\n",
      "Epoch 27/200\n",
      "9097/9097 [==============================] - 1s 95us/sample - loss: 0.0241 - val_loss: 0.0243\n",
      "Epoch 28/200\n",
      "9097/9097 [==============================] - 1s 108us/sample - loss: 0.0238 - val_loss: 0.0243\n",
      "Epoch 29/200\n",
      "9097/9097 [==============================] - 1s 95us/sample - loss: 0.0237 - val_loss: 0.0242\n",
      "Epoch 30/200\n",
      "9097/9097 [==============================] - 1s 97us/sample - loss: 0.0236 - val_loss: 0.0242\n",
      "Epoch 31/200\n",
      "9097/9097 [==============================] - 1s 93us/sample - loss: 0.0235 - val_loss: 0.0241\n",
      "Epoch 32/200\n",
      "9097/9097 [==============================] - 1s 95us/sample - loss: 0.0235 - val_loss: 0.0241\n",
      "Epoch 33/200\n",
      "9097/9097 [==============================] - 1s 102us/sample - loss: 0.0235 - val_loss: 0.0241\n",
      "Epoch 34/200\n",
      "9097/9097 [==============================] - 1s 104us/sample - loss: 0.0235 - val_loss: 0.0241\n",
      "Epoch 35/200\n",
      "9097/9097 [==============================] - 1s 94us/sample - loss: 0.0235 - val_loss: 0.0241\n",
      "Epoch 36/200\n",
      "9097/9097 [==============================] - 1s 95us/sample - loss: 0.0235 - val_loss: 0.0241\n",
      "Epoch 37/200\n",
      "9097/9097 [==============================] - 1s 91us/sample - loss: 0.0234 - val_loss: 0.0241\n",
      "Epoch 38/200\n",
      "9097/9097 [==============================] - 1s 104us/sample - loss: 0.0234 - val_loss: 0.0240\n",
      "Epoch 39/200\n",
      "9097/9097 [==============================] - 1s 106us/sample - loss: 0.0234 - val_loss: 0.0240\n",
      "Epoch 40/200\n",
      "9097/9097 [==============================] - 1s 112us/sample - loss: 0.0234 - val_loss: 0.0240\n",
      "Epoch 41/200\n",
      "9097/9097 [==============================] - 1s 120us/sample - loss: 0.0234 - val_loss: 0.0240\n",
      "Epoch 42/200\n",
      "9097/9097 [==============================] - 1s 97us/sample - loss: 0.0232 - val_loss: 0.0238\n",
      "Epoch 43/200\n",
      "9097/9097 [==============================] - 1s 90us/sample - loss: 0.0231 - val_loss: 0.0237\n",
      "Epoch 44/200\n",
      "9097/9097 [==============================] - 1s 93us/sample - loss: 0.0229 - val_loss: 0.0236\n",
      "Epoch 45/200\n",
      "9097/9097 [==============================] - 1s 96us/sample - loss: 0.0229 - val_loss: 0.0236\n",
      "Epoch 46/200\n",
      "9097/9097 [==============================] - 1s 94us/sample - loss: 0.0229 - val_loss: 0.0235\n",
      "Epoch 47/200\n",
      "9097/9097 [==============================] - 1s 92us/sample - loss: 0.0228 - val_loss: 0.0235\n",
      "Epoch 48/200\n",
      "9097/9097 [==============================] - 1s 85us/sample - loss: 0.0228 - val_loss: 0.0234\n",
      "Epoch 49/200\n",
      "9097/9097 [==============================] - 1s 86us/sample - loss: 0.0228 - val_loss: 0.0234\n",
      "Epoch 50/200\n",
      "9097/9097 [==============================] - 1s 90us/sample - loss: 0.0227 - val_loss: 0.0234\n",
      "Epoch 51/200\n",
      "9097/9097 [==============================] - 1s 89us/sample - loss: 0.0227 - val_loss: 0.0234\n",
      "Epoch 52/200\n",
      "9097/9097 [==============================] - 1s 111us/sample - loss: 0.0226 - val_loss: 0.0232\n",
      "Epoch 53/200\n",
      "9097/9097 [==============================] - 1s 108us/sample - loss: 0.0226 - val_loss: 0.0231\n",
      "Epoch 54/200\n",
      "9097/9097 [==============================] - 1s 104us/sample - loss: 0.0225 - val_loss: 0.0230\n",
      "Epoch 55/200\n",
      "9097/9097 [==============================] - 1s 102us/sample - loss: 0.0223 - val_loss: 0.0230\n",
      "Epoch 56/200\n",
      "9097/9097 [==============================] - 1s 95us/sample - loss: 0.0222 - val_loss: 0.0229\n",
      "Epoch 57/200\n",
      "9097/9097 [==============================] - 1s 98us/sample - loss: 0.0222 - val_loss: 0.0229\n",
      "Epoch 58/200\n",
      "9097/9097 [==============================] - 1s 90us/sample - loss: 0.0222 - val_loss: 0.0227\n",
      "Epoch 59/200\n",
      "9097/9097 [==============================] - 1s 97us/sample - loss: 0.0218 - val_loss: 0.0223\n",
      "Epoch 60/200\n",
      "9097/9097 [==============================] - 1s 88us/sample - loss: 0.0215 - val_loss: 0.0220\n",
      "Epoch 61/200\n",
      "9097/9097 [==============================] - 1s 100us/sample - loss: 0.0214 - val_loss: 0.0220\n",
      "Epoch 62/200\n",
      "9097/9097 [==============================] - 1s 98us/sample - loss: 0.0211 - val_loss: 0.0217\n",
      "Epoch 63/200\n",
      "9097/9097 [==============================] - 1s 100us/sample - loss: 0.0207 - val_loss: 0.0214\n",
      "Epoch 64/200\n",
      "9097/9097 [==============================] - 1s 102us/sample - loss: 0.0206 - val_loss: 0.0213\n",
      "Epoch 65/200\n",
      "9097/9097 [==============================] - 1s 97us/sample - loss: 0.0205 - val_loss: 0.0212\n",
      "Epoch 66/200\n",
      "9097/9097 [==============================] - 1s 93us/sample - loss: 0.0205 - val_loss: 0.0211\n",
      "Epoch 67/200\n",
      "9097/9097 [==============================] - 1s 105us/sample - loss: 0.0204 - val_loss: 0.0211\n",
      "Epoch 68/200\n",
      "9097/9097 [==============================] - 1s 103us/sample - loss: 0.0204 - val_loss: 0.0211\n",
      "Epoch 69/200\n",
      "9097/9097 [==============================] - 1s 95us/sample - loss: 0.0204 - val_loss: 0.0211\n",
      "Epoch 70/200\n",
      "9097/9097 [==============================] - 1s 101us/sample - loss: 0.0204 - val_loss: 0.0211\n",
      "Epoch 71/200\n",
      "9097/9097 [==============================] - 1s 90us/sample - loss: 0.0204 - val_loss: 0.0211\n",
      "Epoch 72/200\n",
      "9097/9097 [==============================] - 1s 102us/sample - loss: 0.0204 - val_loss: 0.0211\n",
      "Epoch 73/200\n",
      "9097/9097 [==============================] - 1s 91us/sample - loss: 0.0204 - val_loss: 0.0211\n",
      "Epoch 74/200\n",
      "9097/9097 [==============================] - 1s 101us/sample - loss: 0.0204 - val_loss: 0.0211\n",
      "Epoch 75/200\n",
      "9097/9097 [==============================] - 1s 102us/sample - loss: 0.0204 - val_loss: 0.0210\n",
      "Epoch 76/200\n",
      "9097/9097 [==============================] - 1s 96us/sample - loss: 0.0204 - val_loss: 0.0211\n",
      "Epoch 77/200\n",
      "9097/9097 [==============================] - 1s 101us/sample - loss: 0.0204 - val_loss: 0.0211\n",
      "Epoch 78/200\n",
      "9097/9097 [==============================] - 1s 99us/sample - loss: 0.0204 - val_loss: 0.0210\n",
      "Epoch 79/200\n",
      "9097/9097 [==============================] - 1s 99us/sample - loss: 0.0204 - val_loss: 0.0210\n",
      "Epoch 80/200\n",
      "9097/9097 [==============================] - 1s 109us/sample - loss: 0.0204 - val_loss: 0.0210\n",
      "Epoch 81/200\n",
      "9097/9097 [==============================] - 1s 97us/sample - loss: 0.0204 - val_loss: 0.0210\n",
      "Epoch 82/200\n",
      "9097/9097 [==============================] - 1s 114us/sample - loss: 0.0204 - val_loss: 0.0211\n",
      "Epoch 83/200\n",
      "9097/9097 [==============================] - 1s 112us/sample - loss: 0.0204 - val_loss: 0.0210\n",
      "Epoch 84/200\n",
      "9097/9097 [==============================] - 1s 111us/sample - loss: 0.0203 - val_loss: 0.0210\n",
      "Epoch 85/200\n",
      "9097/9097 [==============================] - 1s 93us/sample - loss: 0.0203 - val_loss: 0.0210\n",
      "Epoch 86/200\n",
      "9097/9097 [==============================] - 1s 91us/sample - loss: 0.0203 - val_loss: 0.0210\n",
      "Epoch 87/200\n",
      "9097/9097 [==============================] - 1s 104us/sample - loss: 0.0203 - val_loss: 0.0210\n",
      "Epoch 88/200\n",
      "9097/9097 [==============================] - 1s 96us/sample - loss: 0.0203 - val_loss: 0.0210\n",
      "Epoch 89/200\n",
      "9097/9097 [==============================] - 1s 103us/sample - loss: 0.0203 - val_loss: 0.0210\n",
      "Epoch 90/200\n",
      "9097/9097 [==============================] - 1s 105us/sample - loss: 0.0203 - val_loss: 0.0210\n",
      "Epoch 91/200\n",
      "9097/9097 [==============================] - 1s 94us/sample - loss: 0.0203 - val_loss: 0.0210\n",
      "Epoch 92/200\n",
      "9097/9097 [==============================] - 1s 93us/sample - loss: 0.0203 - val_loss: 0.0210\n",
      "Epoch 93/200\n",
      "9097/9097 [==============================] - 1s 99us/sample - loss: 0.0203 - val_loss: 0.0210\n",
      "Epoch 94/200\n",
      "9097/9097 [==============================] - 1s 91us/sample - loss: 0.0203 - val_loss: 0.0210\n",
      "Epoch 95/200\n",
      "9097/9097 [==============================] - 1s 92us/sample - loss: 0.0203 - val_loss: 0.0210\n",
      "Epoch 96/200\n",
      "9097/9097 [==============================] - 1s 106us/sample - loss: 0.0203 - val_loss: 0.0210\n",
      "Epoch 97/200\n",
      "9097/9097 [==============================] - 1s 98us/sample - loss: 0.0203 - val_loss: 0.0210\n",
      "Epoch 98/200\n",
      "9097/9097 [==============================] - 1s 98us/sample - loss: 0.0203 - val_loss: 0.0210\n",
      "Epoch 99/200\n",
      "9097/9097 [==============================] - 1s 85us/sample - loss: 0.0203 - val_loss: 0.0210\n",
      "Epoch 100/200\n",
      "9097/9097 [==============================] - 1s 103us/sample - loss: 0.0203 - val_loss: 0.0210\n",
      "Epoch 101/200\n",
      "9097/9097 [==============================] - 1s 79us/sample - loss: 0.0203 - val_loss: 0.0210\n",
      "Epoch 102/200\n",
      "9097/9097 [==============================] - 1s 102us/sample - loss: 0.0203 - val_loss: 0.0210\n",
      "Epoch 103/200\n",
      "9097/9097 [==============================] - 1s 95us/sample - loss: 0.0203 - val_loss: 0.0210\n",
      "Epoch 104/200\n",
      "9097/9097 [==============================] - 1s 104us/sample - loss: 0.0203 - val_loss: 0.0210\n",
      "Epoch 105/200\n",
      "9097/9097 [==============================] - 1s 93us/sample - loss: 0.0203 - val_loss: 0.0210\n",
      "Epoch 106/200\n",
      "9097/9097 [==============================] - 1s 95us/sample - loss: 0.0203 - val_loss: 0.0210\n",
      "Epoch 107/200\n",
      "9097/9097 [==============================] - 1s 86us/sample - loss: 0.0203 - val_loss: 0.0210\n",
      "Epoch 108/200\n",
      "9097/9097 [==============================] - 1s 94us/sample - loss: 0.0203 - val_loss: 0.0210\n",
      "Epoch 109/200\n",
      "9097/9097 [==============================] - 1s 91us/sample - loss: 0.0203 - val_loss: 0.0210\n",
      "Epoch 110/200\n",
      "9097/9097 [==============================] - 1s 77us/sample - loss: 0.0203 - val_loss: 0.0210\n",
      "Epoch 111/200\n",
      "9097/9097 [==============================] - 1s 95us/sample - loss: 0.0203 - val_loss: 0.0210\n",
      "Epoch 112/200\n",
      "9097/9097 [==============================] - 1s 109us/sample - loss: 0.0203 - val_loss: 0.0210\n",
      "Epoch 113/200\n",
      "9097/9097 [==============================] - 1s 105us/sample - loss: 0.0203 - val_loss: 0.0210\n",
      "Epoch 114/200\n",
      "9097/9097 [==============================] - 1s 107us/sample - loss: 0.0203 - val_loss: 0.0210\n",
      "Epoch 115/200\n",
      "9097/9097 [==============================] - 1s 100us/sample - loss: 0.0203 - val_loss: 0.0210\n",
      "Epoch 116/200\n",
      "9097/9097 [==============================] - 1s 92us/sample - loss: 0.0203 - val_loss: 0.0210\n",
      "Epoch 117/200\n",
      "9097/9097 [==============================] - 1s 94us/sample - loss: 0.0203 - val_loss: 0.0210\n",
      "Epoch 118/200\n",
      "9097/9097 [==============================] - 1s 97us/sample - loss: 0.0203 - val_loss: 0.0210\n",
      "Epoch 119/200\n",
      "9097/9097 [==============================] - 1s 112us/sample - loss: 0.0203 - val_loss: 0.0210\n",
      "Epoch 120/200\n",
      "9097/9097 [==============================] - 1s 92us/sample - loss: 0.0203 - val_loss: 0.0210\n",
      "Epoch 121/200\n",
      "9097/9097 [==============================] - 1s 94us/sample - loss: 0.0203 - val_loss: 0.0210\n",
      "Epoch 122/200\n",
      "9097/9097 [==============================] - 1s 90us/sample - loss: 0.0203 - val_loss: 0.0210\n",
      "Epoch 123/200\n",
      "9097/9097 [==============================] - 1s 99us/sample - loss: 0.0203 - val_loss: 0.0210\n",
      "Epoch 124/200\n",
      "9097/9097 [==============================] - 1s 97us/sample - loss: 0.0203 - val_loss: 0.0210\n",
      "Epoch 125/200\n",
      "9097/9097 [==============================] - 1s 77us/sample - loss: 0.0203 - val_loss: 0.0210\n",
      "Epoch 126/200\n",
      "9097/9097 [==============================] - 1s 96us/sample - loss: 0.0203 - val_loss: 0.0210\n",
      "Epoch 127/200\n",
      "9097/9097 [==============================] - 1s 100us/sample - loss: 0.0203 - val_loss: 0.0210\n",
      "Epoch 128/200\n",
      "9097/9097 [==============================] - 1s 93us/sample - loss: 0.0203 - val_loss: 0.0210\n",
      "Epoch 129/200\n",
      "9097/9097 [==============================] - 1s 94us/sample - loss: 0.0203 - val_loss: 0.0210\n",
      "Epoch 130/200\n",
      "9097/9097 [==============================] - 1s 95us/sample - loss: 0.0203 - val_loss: 0.0210\n",
      "Epoch 131/200\n",
      "9097/9097 [==============================] - 1s 89us/sample - loss: 0.0203 - val_loss: 0.0210\n",
      "Epoch 132/200\n",
      "9097/9097 [==============================] - 1s 96us/sample - loss: 0.0203 - val_loss: 0.0210\n",
      "Epoch 133/200\n",
      "9097/9097 [==============================] - 1s 99us/sample - loss: 0.0203 - val_loss: 0.0210\n",
      "Epoch 134/200\n",
      "9097/9097 [==============================] - 1s 97us/sample - loss: 0.0203 - val_loss: 0.0210\n",
      "Epoch 135/200\n",
      "9097/9097 [==============================] - 1s 88us/sample - loss: 0.0203 - val_loss: 0.0210\n",
      "Epoch 136/200\n",
      "9097/9097 [==============================] - 1s 94us/sample - loss: 0.0203 - val_loss: 0.0210\n",
      "Epoch 137/200\n",
      "9097/9097 [==============================] - 1s 92us/sample - loss: 0.0203 - val_loss: 0.0210\n",
      "Epoch 138/200\n",
      "9097/9097 [==============================] - 1s 121us/sample - loss: 0.0203 - val_loss: 0.0210\n",
      "Epoch 139/200\n",
      "9097/9097 [==============================] - 1s 100us/sample - loss: 0.0203 - val_loss: 0.0210\n",
      "Epoch 140/200\n",
      "9097/9097 [==============================] - 1s 89us/sample - loss: 0.0203 - val_loss: 0.0209\n",
      "Epoch 141/200\n",
      "9097/9097 [==============================] - 1s 97us/sample - loss: 0.0203 - val_loss: 0.0210\n",
      "Epoch 142/200\n",
      "9097/9097 [==============================] - 1s 84us/sample - loss: 0.0203 - val_loss: 0.0210\n",
      "Epoch 143/200\n",
      "9097/9097 [==============================] - 1s 102us/sample - loss: 0.0203 - val_loss: 0.0210\n",
      "Epoch 144/200\n",
      "9097/9097 [==============================] - 1s 105us/sample - loss: 0.0203 - val_loss: 0.0210\n",
      "Epoch 145/200\n",
      "9097/9097 [==============================] - 1s 100us/sample - loss: 0.0203 - val_loss: 0.0209\n",
      "Epoch 146/200\n",
      "9097/9097 [==============================] - 1s 98us/sample - loss: 0.0201 - val_loss: 0.0208\n",
      "Epoch 147/200\n",
      "9097/9097 [==============================] - 1s 87us/sample - loss: 0.0201 - val_loss: 0.0208\n",
      "Epoch 148/200\n",
      "9097/9097 [==============================] - 1s 91us/sample - loss: 0.0201 - val_loss: 0.0208\n",
      "Epoch 149/200\n",
      "9097/9097 [==============================] - 1s 88us/sample - loss: 0.0200 - val_loss: 0.0208\n",
      "Epoch 150/200\n",
      "9097/9097 [==============================] - 1s 85us/sample - loss: 0.0200 - val_loss: 0.0208\n",
      "Epoch 151/200\n",
      "9097/9097 [==============================] - 1s 88us/sample - loss: 0.0200 - val_loss: 0.0207\n",
      "Epoch 152/200\n",
      "9097/9097 [==============================] - 1s 80us/sample - loss: 0.0200 - val_loss: 0.0207\n",
      "Epoch 153/200\n",
      "9097/9097 [==============================] - 1s 84us/sample - loss: 0.0200 - val_loss: 0.0207\n",
      "Epoch 154/200\n",
      "9097/9097 [==============================] - 1s 91us/sample - loss: 0.0200 - val_loss: 0.0208\n",
      "Epoch 155/200\n",
      "9097/9097 [==============================] - 1s 78us/sample - loss: 0.0200 - val_loss: 0.0207\n",
      "Epoch 156/200\n",
      "9097/9097 [==============================] - 1s 90us/sample - loss: 0.0200 - val_loss: 0.0207\n",
      "Epoch 157/200\n",
      "9097/9097 [==============================] - 1s 98us/sample - loss: 0.0200 - val_loss: 0.0207\n",
      "Epoch 158/200\n",
      "9097/9097 [==============================] - 1s 84us/sample - loss: 0.0200 - val_loss: 0.0208\n",
      "Epoch 159/200\n",
      "9097/9097 [==============================] - 1s 84us/sample - loss: 0.0200 - val_loss: 0.0207\n",
      "Epoch 160/200\n",
      "9097/9097 [==============================] - 1s 88us/sample - loss: 0.0200 - val_loss: 0.0207\n",
      "Epoch 161/200\n",
      "9097/9097 [==============================] - 1s 88us/sample - loss: 0.0200 - val_loss: 0.0207\n",
      "Epoch 162/200\n",
      "9097/9097 [==============================] - 1s 89us/sample - loss: 0.0199 - val_loss: 0.0207\n",
      "Epoch 163/200\n",
      "9097/9097 [==============================] - 1s 90us/sample - loss: 0.0199 - val_loss: 0.0207\n",
      "Epoch 164/200\n",
      "9097/9097 [==============================] - 1s 95us/sample - loss: 0.0199 - val_loss: 0.0205\n",
      "Epoch 165/200\n",
      "9097/9097 [==============================] - 1s 95us/sample - loss: 0.0197 - val_loss: 0.0204\n",
      "Epoch 166/200\n",
      "9097/9097 [==============================] - 1s 70us/sample - loss: 0.0197 - val_loss: 0.0204\n",
      "Epoch 167/200\n",
      "9097/9097 [==============================] - 1s 87us/sample - loss: 0.0196 - val_loss: 0.0203\n",
      "Epoch 168/200\n",
      "9097/9097 [==============================] - 1s 88us/sample - loss: 0.0196 - val_loss: 0.0204\n",
      "Epoch 169/200\n",
      "9097/9097 [==============================] - 1s 87us/sample - loss: 0.0196 - val_loss: 0.0203\n",
      "Epoch 170/200\n",
      "9097/9097 [==============================] - 1s 88us/sample - loss: 0.0196 - val_loss: 0.0203\n",
      "Epoch 171/200\n",
      "9097/9097 [==============================] - 1s 90us/sample - loss: 0.0196 - val_loss: 0.0203\n",
      "Epoch 172/200\n",
      "9097/9097 [==============================] - 1s 92us/sample - loss: 0.0196 - val_loss: 0.0203\n",
      "Epoch 173/200\n",
      "9097/9097 [==============================] - 1s 83us/sample - loss: 0.0196 - val_loss: 0.0203\n",
      "Epoch 174/200\n",
      "9097/9097 [==============================] - 1s 84us/sample - loss: 0.0196 - val_loss: 0.0203\n",
      "Epoch 175/200\n",
      "9097/9097 [==============================] - 1s 92us/sample - loss: 0.0196 - val_loss: 0.0203\n",
      "Epoch 176/200\n",
      "9097/9097 [==============================] - 1s 88us/sample - loss: 0.0196 - val_loss: 0.0203\n",
      "Epoch 177/200\n",
      "9097/9097 [==============================] - 1s 79us/sample - loss: 0.0196 - val_loss: 0.0203\n",
      "Epoch 178/200\n",
      "9097/9097 [==============================] - 1s 90us/sample - loss: 0.0196 - val_loss: 0.0203\n",
      "Epoch 179/200\n",
      "9097/9097 [==============================] - 1s 98us/sample - loss: 0.0196 - val_loss: 0.0203\n",
      "Epoch 180/200\n",
      "9097/9097 [==============================] - 1s 90us/sample - loss: 0.0196 - val_loss: 0.0203\n",
      "Epoch 181/200\n",
      "9097/9097 [==============================] - 1s 91us/sample - loss: 0.0196 - val_loss: 0.0203\n",
      "Epoch 182/200\n",
      "9097/9097 [==============================] - 1s 85us/sample - loss: 0.0196 - val_loss: 0.0203\n",
      "Epoch 183/200\n",
      "9097/9097 [==============================] - 1s 92us/sample - loss: 0.0196 - val_loss: 0.0203\n",
      "Epoch 184/200\n",
      "9097/9097 [==============================] - 1s 97us/sample - loss: 0.0196 - val_loss: 0.0203\n",
      "Epoch 185/200\n",
      "9097/9097 [==============================] - 1s 110us/sample - loss: 0.0196 - val_loss: 0.0203\n",
      "Epoch 186/200\n",
      "9097/9097 [==============================] - 1s 112us/sample - loss: 0.0196 - val_loss: 0.0203\n",
      "Epoch 187/200\n",
      "9097/9097 [==============================] - 1s 103us/sample - loss: 0.0196 - val_loss: 0.0203\n",
      "Epoch 188/200\n",
      "9097/9097 [==============================] - 1s 90us/sample - loss: 0.0197 - val_loss: 0.0203\n",
      "Epoch 189/200\n",
      "9097/9097 [==============================] - 1s 107us/sample - loss: 0.0196 - val_loss: 0.0203\n",
      "Epoch 190/200\n",
      "9097/9097 [==============================] - 1s 123us/sample - loss: 0.0196 - val_loss: 0.0203\n",
      "Epoch 191/200\n",
      "9097/9097 [==============================] - 1s 96us/sample - loss: 0.0196 - val_loss: 0.0203\n",
      "Epoch 192/200\n",
      "9097/9097 [==============================] - 1s 106us/sample - loss: 0.0196 - val_loss: 0.0203\n",
      "Epoch 193/200\n",
      "9097/9097 [==============================] - 1s 80us/sample - loss: 0.0196 - val_loss: 0.0203\n",
      "Epoch 194/200\n",
      "9097/9097 [==============================] - 1s 94us/sample - loss: 0.0196 - val_loss: 0.0203\n",
      "Epoch 195/200\n",
      "9097/9097 [==============================] - 1s 87us/sample - loss: 0.0196 - val_loss: 0.0203\n",
      "Epoch 196/200\n",
      "9097/9097 [==============================] - 1s 90us/sample - loss: 0.0196 - val_loss: 0.0203\n",
      "Epoch 197/200\n",
      "9097/9097 [==============================] - 1s 87us/sample - loss: 0.0196 - val_loss: 0.0203\n",
      "Epoch 198/200\n",
      "9097/9097 [==============================] - 1s 91us/sample - loss: 0.0196 - val_loss: 0.0203\n",
      "Epoch 199/200\n",
      "9097/9097 [==============================] - 1s 93us/sample - loss: 0.0196 - val_loss: 0.0203\n",
      "Epoch 200/200\n",
      "9097/9097 [==============================] - 1s 100us/sample - loss: 0.0196 - val_loss: 0.0203\n"
     ]
    },
    {
     "data": {
      "image/png": "[encoded data removed]",
      "text/plain": [
       "<Figure size 432x288 with 1 Axes>"
      ]
     },
     "metadata": {
      "needs_background": "light"
     },
     "output_type": "display_data"
    }
   ],
   "source": [
    "tf.keras.backend.clear_session()\n",
    "early_stopping_cb = tf.keras.callbacks.EarlyStopping(patience=10, restore_best_weights=True)\n",
    "# reset the all the weight of autoencoder model\n",
    "autoencoder_best = shuffle_weights(autoencoder_best)\n",
    "log = autoencoder_best.fit(x=X_train, y=X_train, epochs=200, validation_data=(X_val, X_val), callbacks=[early_stopping_cb])\n",
    "\n",
    "create_plot(log)"
   ]
  },
  {
   "cell_type": "code",
   "execution_count": 335,
   "metadata": {},
   "outputs": [
    {
     "ename": "AttributeError",
     "evalue": "'str' object has no attribute 'decode'",
     "output_type": "error",
     "traceback": [
      "\u001b[0;31m---------------------------------------------------------------------------\u001b[0m",
      "\u001b[0;31mAttributeError\u001b[0m                            Traceback (most recent call last)",
      "\u001b[0;32m<ipython-input-335-5d55bd1f807b>\u001b[0m in \u001b[0;36m<module>\u001b[0;34m\u001b[0m\n\u001b[1;32m      1\u001b[0m \u001b[0;31m# autoencoder_best.save('models/autoencoder_best.h5')\u001b[0m\u001b[0;34m\u001b[0m\u001b[0;34m\u001b[0m\u001b[0;34m\u001b[0m\u001b[0m\n\u001b[0;32m----> 2\u001b[0;31m \u001b[0mautoencoder_best\u001b[0m \u001b[0;34m=\u001b[0m \u001b[0mtf\u001b[0m\u001b[0;34m.\u001b[0m\u001b[0mkeras\u001b[0m\u001b[0;34m.\u001b[0m\u001b[0mmodels\u001b[0m\u001b[0;34m.\u001b[0m\u001b[0mload_model\u001b[0m\u001b[0;34m(\u001b[0m\u001b[0;34m'./models/autoencoder_best.h5'\u001b[0m\u001b[0;34m)\u001b[0m\u001b[0;34m\u001b[0m\u001b[0;34m\u001b[0m\u001b[0m\n\u001b[0m\u001b[1;32m      3\u001b[0m \u001b[0mX_pred\u001b[0m \u001b[0;34m=\u001b[0m \u001b[0mautoencoder_best\u001b[0m\u001b[0;34m.\u001b[0m\u001b[0mpredict\u001b[0m\u001b[0;34m(\u001b[0m\u001b[0mX_val\u001b[0m\u001b[0;34m)\u001b[0m\u001b[0;34m\u001b[0m\u001b[0;34m\u001b[0m\u001b[0m\n\u001b[1;32m      4\u001b[0m \u001b[0mmse\u001b[0m \u001b[0;34m=\u001b[0m \u001b[0mnp\u001b[0m\u001b[0;34m.\u001b[0m\u001b[0mmean\u001b[0m\u001b[0;34m(\u001b[0m\u001b[0mnp\u001b[0m\u001b[0;34m.\u001b[0m\u001b[0mpower\u001b[0m\u001b[0;34m(\u001b[0m\u001b[0mX_val\u001b[0m\u001b[0;34m.\u001b[0m\u001b[0mflatten\u001b[0m\u001b[0;34m(\u001b[0m\u001b[0;34m)\u001b[0m \u001b[0;34m-\u001b[0m \u001b[0mX_pred\u001b[0m\u001b[0;34m.\u001b[0m\u001b[0mflatten\u001b[0m\u001b[0;34m(\u001b[0m\u001b[0;34m)\u001b[0m\u001b[0;34m,\u001b[0m \u001b[0;36m2\u001b[0m\u001b[0;34m)\u001b[0m\u001b[0;34m)\u001b[0m\u001b[0;34m\u001b[0m\u001b[0;34m\u001b[0m\u001b[0m\n\u001b[1;32m      5\u001b[0m \u001b[0mreconstructions\u001b[0m \u001b[0;34m=\u001b[0m \u001b[0mautoencoder_best\u001b[0m\u001b[0;34m.\u001b[0m\u001b[0mpredict\u001b[0m\u001b[0;34m(\u001b[0m\u001b[0mX_val\u001b[0m\u001b[0;34m)\u001b[0m\u001b[0;34m\u001b[0m\u001b[0;34m\u001b[0m\u001b[0m\n",
      "\u001b[0;32m/opt/anaconda3/envs/smm768/lib/python3.7/site-packages/tensorflow_core/python/keras/saving/save.py\u001b[0m in \u001b[0;36mload_model\u001b[0;34m(filepath, custom_objects, compile)\u001b[0m\n\u001b[1;32m    144\u001b[0m   if (h5py is not None and (\n\u001b[1;32m    145\u001b[0m       isinstance(filepath, h5py.File) or h5py.is_hdf5(filepath))):\n\u001b[0;32m--> 146\u001b[0;31m     \u001b[0;32mreturn\u001b[0m \u001b[0mhdf5_format\u001b[0m\u001b[0;34m.\u001b[0m\u001b[0mload_model_from_hdf5\u001b[0m\u001b[0;34m(\u001b[0m\u001b[0mfilepath\u001b[0m\u001b[0;34m,\u001b[0m \u001b[0mcustom_objects\u001b[0m\u001b[0;34m,\u001b[0m \u001b[0mcompile\u001b[0m\u001b[0;34m)\u001b[0m\u001b[0;34m\u001b[0m\u001b[0;34m\u001b[0m\u001b[0m\n\u001b[0m\u001b[1;32m    147\u001b[0m \u001b[0;34m\u001b[0m\u001b[0m\n\u001b[1;32m    148\u001b[0m   \u001b[0;32mif\u001b[0m \u001b[0misinstance\u001b[0m\u001b[0;34m(\u001b[0m\u001b[0mfilepath\u001b[0m\u001b[0;34m,\u001b[0m \u001b[0msix\u001b[0m\u001b[0;34m.\u001b[0m\u001b[0mstring_types\u001b[0m\u001b[0;34m)\u001b[0m\u001b[0;34m:\u001b[0m\u001b[0;34m\u001b[0m\u001b[0;34m\u001b[0m\u001b[0m\n",
      "\u001b[0;32m/opt/anaconda3/envs/smm768/lib/python3.7/site-packages/tensorflow_core/python/keras/saving/hdf5_format.py\u001b[0m in \u001b[0;36mload_model_from_hdf5\u001b[0;34m(filepath, custom_objects, compile)\u001b[0m\n\u001b[1;32m    164\u001b[0m     \u001b[0;32mif\u001b[0m \u001b[0mmodel_config\u001b[0m \u001b[0;32mis\u001b[0m \u001b[0;32mNone\u001b[0m\u001b[0;34m:\u001b[0m\u001b[0;34m\u001b[0m\u001b[0;34m\u001b[0m\u001b[0m\n\u001b[1;32m    165\u001b[0m       \u001b[0;32mraise\u001b[0m \u001b[0mValueError\u001b[0m\u001b[0;34m(\u001b[0m\u001b[0;34m'No model found in config file.'\u001b[0m\u001b[0;34m)\u001b[0m\u001b[0;34m\u001b[0m\u001b[0;34m\u001b[0m\u001b[0m\n\u001b[0;32m--> 166\u001b[0;31m     \u001b[0mmodel_config\u001b[0m \u001b[0;34m=\u001b[0m \u001b[0mjson\u001b[0m\u001b[0;34m.\u001b[0m\u001b[0mloads\u001b[0m\u001b[0;34m(\u001b[0m\u001b[0mmodel_config\u001b[0m\u001b[0;34m.\u001b[0m\u001b[0mdecode\u001b[0m\u001b[0;34m(\u001b[0m\u001b[0;34m'utf-8'\u001b[0m\u001b[0;34m)\u001b[0m\u001b[0;34m)\u001b[0m\u001b[0;34m\u001b[0m\u001b[0;34m\u001b[0m\u001b[0m\n\u001b[0m\u001b[1;32m    167\u001b[0m     model = model_config_lib.model_from_config(model_config,\n\u001b[1;32m    168\u001b[0m                                                custom_objects=custom_objects)\n",
      "\u001b[0;31mAttributeError\u001b[0m: 'str' object has no attribute 'decode'"
     ]
    }
   ],
   "source": [
    "# autoencoder_best.save('models/autoencoder_best.h5')\n",
    "autoencoder_best = tf.keras.models.load_model('./models/autoencoder_best.h5')\n",
    "X_pred = autoencoder_best.predict(X_val)\n",
    "mse = np.mean(np.power(X_val.flatten() - X_pred.flatten(), 2))\n",
    "reconstructions = autoencoder_best.predict(X_val)\n",
    "val_loss = tf.keras.losses.mae(reconstructions, X_val)\n",
    "# sns.histplot(x=val_loss,y=y_val.flatten(),hue=y_val.flatten())\n",
    "# plt.show()\n",
    "df_tmp = pd.DataFrame({\"val_loss\": val_loss, \"y_val\": y_val.flatten()})\n",
    "df_tmp_fraud = df_tmp[df_tmp[\"y_val\"] == 1]\n",
    "df_tmp_non_fraud = df_tmp[df_tmp[\"y_val\"] == 0]\n",
    "mse = np.mean(np.power(X_val.flatten() - X_pred.flatten(), 2))\n",
    "error_df = pd.DataFrame({'Reconstruction_error': mse, 'True_class': y_val.flatten()})\n",
    "df_temp = pd.DataFrame({'Reconstruction_error': val_loss, 'True_class': y_val.flatten()})\n",
    "roc = roc_auc_score(y_val.flatten(), val_loss)\n",
    "print(\"ROC: \", roc)\n",
    "#plot the roc curve\n",
    "fpr, tpr, thresholds = roc_curve(y_val.flatten(), val_loss)\n",
    "plt.plot(fpr, tpr, label='ROC curve (area = %0.2f)' % roc)"
   ]
  },
  {
   "cell_type": "markdown",
   "metadata": {},
   "source": [
    "## Set the threshold for fraud\n",
    "We are going to use three method to set the threshold for fraud:\n",
    "1. Use the mean of the reconstruction error plus one standard deviation as the threshold\n",
    "2. Set the threshold to the minimum of the reconstruction error of fraud cases\n",
    "3. Set the threshold to the minimize the cost function we mentioned above, which is 10*FN + FP\n",
    "\n",
    "If it is real case, we would recommend to use the third method. Because it can have company to lower the cost.\n"
   ]
  },
  {
   "cell_type": "markdown",
   "metadata": {},
   "source": [
    "## Method 1\n",
    "Use the mean of the reconstruction error plus one standard deviation as the threshold"
   ]
  },
  {
   "cell_type": "code",
   "execution_count": null,
   "metadata": {},
   "outputs": [
    {
     "name": "stdout",
     "output_type": "stream",
     "text": [
      "Threshold:  0.13694909581231235\n"
     ]
    }
   ],
   "source": [
    "# select the threshold with test dataset\n",
    "threshold = np.mean(val_loss) + np.std(val_loss)\n",
    "print(\"Threshold: \", threshold)"
   ]
  },
  {
   "cell_type": "code",
   "execution_count": null,
   "metadata": {},
   "outputs": [
    {
     "ename": "ValueError",
     "evalue": "Found input variables with inconsistent numbers of samples: [2275, 2274]",
     "output_type": "error",
     "traceback": [
      "\u001b[1;31m---------------------------------------------------------------------------\u001b[0m",
      "\u001b[1;31mValueError\u001b[0m                                Traceback (most recent call last)",
      "\u001b[1;32m~\\AppData\\Local\\Temp/ipykernel_940/1880348897.py\u001b[0m in \u001b[0;36m<module>\u001b[1;34m\u001b[0m\n\u001b[0;32m      4\u001b[0m \u001b[0mtest_loss\u001b[0m \u001b[1;33m=\u001b[0m \u001b[0mtf\u001b[0m\u001b[1;33m.\u001b[0m\u001b[0mkeras\u001b[0m\u001b[1;33m.\u001b[0m\u001b[0mlosses\u001b[0m\u001b[1;33m.\u001b[0m\u001b[0mmae\u001b[0m\u001b[1;33m(\u001b[0m\u001b[0mreconstructions\u001b[0m\u001b[1;33m,\u001b[0m \u001b[0mX_val\u001b[0m\u001b[1;33m)\u001b[0m\u001b[1;33m\u001b[0m\u001b[1;33m\u001b[0m\u001b[0m\n\u001b[0;32m      5\u001b[0m \u001b[0mpred_y\u001b[0m \u001b[1;33m=\u001b[0m \u001b[0mnp\u001b[0m\u001b[1;33m.\u001b[0m\u001b[0mwhere\u001b[0m\u001b[1;33m(\u001b[0m\u001b[0mtest_loss\u001b[0m \u001b[1;33m>\u001b[0m \u001b[0mthreshold\u001b[0m\u001b[1;33m,\u001b[0m \u001b[1;36m1\u001b[0m\u001b[1;33m,\u001b[0m \u001b[1;36m0\u001b[0m\u001b[1;33m)\u001b[0m\u001b[1;33m\u001b[0m\u001b[1;33m\u001b[0m\u001b[0m\n\u001b[1;32m----> 6\u001b[1;33m \u001b[0mcm\u001b[0m \u001b[1;33m=\u001b[0m \u001b[0mconfusion_matrix\u001b[0m\u001b[1;33m(\u001b[0m\u001b[0my_test\u001b[0m\u001b[1;33m.\u001b[0m\u001b[0mflatten\u001b[0m\u001b[1;33m(\u001b[0m\u001b[1;33m)\u001b[0m\u001b[1;33m.\u001b[0m\u001b[0mastype\u001b[0m\u001b[1;33m(\u001b[0m\u001b[0mint\u001b[0m\u001b[1;33m)\u001b[0m\u001b[1;33m,\u001b[0m \u001b[0mpred_y\u001b[0m\u001b[1;33m)\u001b[0m\u001b[1;33m\u001b[0m\u001b[1;33m\u001b[0m\u001b[0m\n\u001b[0m\u001b[0;32m      7\u001b[0m \u001b[0mprint\u001b[0m\u001b[1;33m(\u001b[0m\u001b[1;34mf\"Confusion matrix is :\"\u001b[0m \u001b[1;33m)\u001b[0m\u001b[1;33m\u001b[0m\u001b[1;33m\u001b[0m\u001b[0m\n\u001b[0;32m      8\u001b[0m \u001b[0mfig\u001b[0m\u001b[1;33m,\u001b[0m \u001b[0max\u001b[0m \u001b[1;33m=\u001b[0m \u001b[0mplt\u001b[0m\u001b[1;33m.\u001b[0m\u001b[0msubplots\u001b[0m\u001b[1;33m(\u001b[0m\u001b[0mfigsize\u001b[0m\u001b[1;33m=\u001b[0m\u001b[1;33m(\u001b[0m\u001b[1;36m10\u001b[0m\u001b[1;33m,\u001b[0m\u001b[1;36m5\u001b[0m\u001b[1;33m)\u001b[0m\u001b[1;33m)\u001b[0m\u001b[1;33m\u001b[0m\u001b[1;33m\u001b[0m\u001b[0m\n",
      "\u001b[1;32m~\\anaconda3\\envs\\smm750\\lib\\site-packages\\sklearn\\metrics\\_classification.py\u001b[0m in \u001b[0;36mconfusion_matrix\u001b[1;34m(y_true, y_pred, labels, sample_weight, normalize)\u001b[0m\n\u001b[0;32m    300\u001b[0m \u001b[1;33m\u001b[0m\u001b[0m\n\u001b[0;32m    301\u001b[0m     \"\"\"\n\u001b[1;32m--> 302\u001b[1;33m     \u001b[0my_type\u001b[0m\u001b[1;33m,\u001b[0m \u001b[0my_true\u001b[0m\u001b[1;33m,\u001b[0m \u001b[0my_pred\u001b[0m \u001b[1;33m=\u001b[0m \u001b[0m_check_targets\u001b[0m\u001b[1;33m(\u001b[0m\u001b[0my_true\u001b[0m\u001b[1;33m,\u001b[0m \u001b[0my_pred\u001b[0m\u001b[1;33m)\u001b[0m\u001b[1;33m\u001b[0m\u001b[1;33m\u001b[0m\u001b[0m\n\u001b[0m\u001b[0;32m    303\u001b[0m     \u001b[1;32mif\u001b[0m \u001b[0my_type\u001b[0m \u001b[1;32mnot\u001b[0m \u001b[1;32min\u001b[0m \u001b[1;33m(\u001b[0m\u001b[1;34m\"binary\"\u001b[0m\u001b[1;33m,\u001b[0m \u001b[1;34m\"multiclass\"\u001b[0m\u001b[1;33m)\u001b[0m\u001b[1;33m:\u001b[0m\u001b[1;33m\u001b[0m\u001b[1;33m\u001b[0m\u001b[0m\n\u001b[0;32m    304\u001b[0m         \u001b[1;32mraise\u001b[0m \u001b[0mValueError\u001b[0m\u001b[1;33m(\u001b[0m\u001b[1;34m\"%s is not supported\"\u001b[0m \u001b[1;33m%\u001b[0m \u001b[0my_type\u001b[0m\u001b[1;33m)\u001b[0m\u001b[1;33m\u001b[0m\u001b[1;33m\u001b[0m\u001b[0m\n",
      "\u001b[1;32m~\\anaconda3\\envs\\smm750\\lib\\site-packages\\sklearn\\metrics\\_classification.py\u001b[0m in \u001b[0;36m_check_targets\u001b[1;34m(y_true, y_pred)\u001b[0m\n\u001b[0;32m     82\u001b[0m     \u001b[0my_pred\u001b[0m \u001b[1;33m:\u001b[0m \u001b[0marray\u001b[0m \u001b[1;32mor\u001b[0m \u001b[0mindicator\u001b[0m \u001b[0mmatrix\u001b[0m\u001b[1;33m\u001b[0m\u001b[1;33m\u001b[0m\u001b[0m\n\u001b[0;32m     83\u001b[0m     \"\"\"\n\u001b[1;32m---> 84\u001b[1;33m     \u001b[0mcheck_consistent_length\u001b[0m\u001b[1;33m(\u001b[0m\u001b[0my_true\u001b[0m\u001b[1;33m,\u001b[0m \u001b[0my_pred\u001b[0m\u001b[1;33m)\u001b[0m\u001b[1;33m\u001b[0m\u001b[1;33m\u001b[0m\u001b[0m\n\u001b[0m\u001b[0;32m     85\u001b[0m     \u001b[0mtype_true\u001b[0m \u001b[1;33m=\u001b[0m \u001b[0mtype_of_target\u001b[0m\u001b[1;33m(\u001b[0m\u001b[0my_true\u001b[0m\u001b[1;33m)\u001b[0m\u001b[1;33m\u001b[0m\u001b[1;33m\u001b[0m\u001b[0m\n\u001b[0;32m     86\u001b[0m     \u001b[0mtype_pred\u001b[0m \u001b[1;33m=\u001b[0m \u001b[0mtype_of_target\u001b[0m\u001b[1;33m(\u001b[0m\u001b[0my_pred\u001b[0m\u001b[1;33m)\u001b[0m\u001b[1;33m\u001b[0m\u001b[1;33m\u001b[0m\u001b[0m\n",
      "\u001b[1;32m~\\anaconda3\\envs\\smm750\\lib\\site-packages\\sklearn\\utils\\validation.py\u001b[0m in \u001b[0;36mcheck_consistent_length\u001b[1;34m(*arrays)\u001b[0m\n\u001b[0;32m    329\u001b[0m     \u001b[0muniques\u001b[0m \u001b[1;33m=\u001b[0m \u001b[0mnp\u001b[0m\u001b[1;33m.\u001b[0m\u001b[0munique\u001b[0m\u001b[1;33m(\u001b[0m\u001b[0mlengths\u001b[0m\u001b[1;33m)\u001b[0m\u001b[1;33m\u001b[0m\u001b[1;33m\u001b[0m\u001b[0m\n\u001b[0;32m    330\u001b[0m     \u001b[1;32mif\u001b[0m \u001b[0mlen\u001b[0m\u001b[1;33m(\u001b[0m\u001b[0muniques\u001b[0m\u001b[1;33m)\u001b[0m \u001b[1;33m>\u001b[0m \u001b[1;36m1\u001b[0m\u001b[1;33m:\u001b[0m\u001b[1;33m\u001b[0m\u001b[1;33m\u001b[0m\u001b[0m\n\u001b[1;32m--> 331\u001b[1;33m         raise ValueError(\n\u001b[0m\u001b[0;32m    332\u001b[0m             \u001b[1;34m\"Found input variables with inconsistent numbers of samples: %r\"\u001b[0m\u001b[1;33m\u001b[0m\u001b[1;33m\u001b[0m\u001b[0m\n\u001b[0;32m    333\u001b[0m             \u001b[1;33m%\u001b[0m \u001b[1;33m[\u001b[0m\u001b[0mint\u001b[0m\u001b[1;33m(\u001b[0m\u001b[0ml\u001b[0m\u001b[1;33m)\u001b[0m \u001b[1;32mfor\u001b[0m \u001b[0ml\u001b[0m \u001b[1;32min\u001b[0m \u001b[0mlengths\u001b[0m\u001b[1;33m]\u001b[0m\u001b[1;33m\u001b[0m\u001b[1;33m\u001b[0m\u001b[0m\n",
      "\u001b[1;31mValueError\u001b[0m: Found input variables with inconsistent numbers of samples: [2275, 2274]"
     ]
    }
   ],
   "source": [
    "# pred y based on the threshold\n",
    "test_loss = autoencoder_best.predict(X_test)\n",
    "reconstructions = autoencoder_best.predict(X_val)\n",
    "test_loss = tf.keras.losses.mae(reconstructions, X_val)\n",
    "pred_y = np.where(test_loss > threshold, 1, 0)\n",
    "cm = confusion_matrix(y_test.flatten().astype(int), pred_y)\n",
    "print(f\"Confusion matrix is :\" )\n",
    "fig, ax = plt.subplots(figsize=(10,5))\n",
    "sns.heatmap(cm, annot=True, fmt=\".0f\")\n",
    "plt.show()\n",
    "accuracy_rate = (cm[0,0] + cm[1,1])/np.sum(cm)\n",
    "print(f\"Accuracy rate is {accuracy_rate}\")\n",
    "# calculate the sensitivity \n",
    "sensitivity = cm[1,1]/(cm[1,1] + cm[1,0])\n",
    "print(f\"Sensitivity is {sensitivity}\")"
   ]
  },
  {
   "cell_type": "markdown",
   "metadata": {},
   "source": [
    "## Method 2\n",
    "Set the threshold to the minimum of the reconstruction error of fraud cases"
   ]
  },
  {
   "cell_type": "code",
   "execution_count": null,
   "metadata": {},
   "outputs": [
    {
     "data": {
      "text/plain": [
       "<AxesSubplot:>"
      ]
     },
     "execution_count": 119,
     "metadata": {},
     "output_type": "execute_result"
    },
    {
     "data": {
      "image/png": "[encoded data removed]",
      "text/plain": [
       "<Figure size 432x288 with 1 Axes>"
      ]
     },
     "metadata": {
      "needs_background": "light"
     },
     "output_type": "display_data"
    }
   ],
   "source": [
    "# show the distribution of the model_score\n",
    "\n",
    "sns.histplot(x=val_loss,y=y_val.flatten(),hue=y_val.flatten())"
   ]
  },
  {
   "cell_type": "code",
   "execution_count": null,
   "metadata": {},
   "outputs": [
    {
     "name": "stdout",
     "output_type": "stream",
     "text": [
      "Threshold:  0.0711917878068816\n"
     ]
    }
   ],
   "source": [
    "# select the threshold with test dataset\n",
    "df_temp = pd.DataFrame({'Reconstruction_error': val_loss, 'True_class': y_val.flatten()})\n",
    "df_temp_fraud = df_temp[df_temp['True_class']==1]\n",
    "threshold = df_temp_fraud[\"Reconstruction_error\"].min()\n",
    "print(\"Threshold: \", threshold)"
   ]
  },
  {
   "cell_type": "code",
   "execution_count": null,
   "metadata": {},
   "outputs": [
    {
     "name": "stdout",
     "output_type": "stream",
     "text": [
      "Confusion matrix is :\n",
      "Accuracy rate is 0.4098504837291117\n",
      "Sensitivity is 0.9821428571428571\n"
     ]
    },
    {
     "data": {
      "image/png": "[encoded data removed]",
      "text/plain": [
       "<Figure size 432x288 with 2 Axes>"
      ]
     },
     "metadata": {
      "needs_background": "light"
     },
     "output_type": "display_data"
    }
   ],
   "source": [
    "# pred y based on the threshold\n",
    "pred_y = np.where(test_loss > threshold, 1, 0)\n",
    "cm = confusion_matrix(y_test.flatten().astype(int), pred_y)\n",
    "print(f\"Confusion matrix is :\" )\n",
    "sns.heatmap(cm, annot=True)\n",
    "accuracy_rate = (cm[0,0] + cm[1,1])/np.sum(cm)\n",
    "print(f\"Accuracy rate is {accuracy_rate}\")\n",
    "# calculate the sensitivity \n",
    "sensitivity = cm[1,1]/(cm[1,1] + cm[1,0])\n",
    "print(f\"Sensitivity is {sensitivity}\")"
   ]
  },
  {
   "cell_type": "markdown",
   "metadata": {},
   "source": [
    "## Method 3\n",
    "Set the threshold to the minimize the cost function we mentioned above, which is 10*FN + FP"
   ]
  },
  {
   "cell_type": "code",
   "execution_count": null,
   "metadata": {},
   "outputs": [
    {
     "name": "stdout",
     "output_type": "stream",
     "text": [
      "Threshold:  0.0707070707070707\n"
     ]
    }
   ],
   "source": [
    "# select the threshold with test dataset\n",
    "#  the cost function\n",
    "def calculate_cost(fn,fp):\n",
    "    return 100*fn+fp\n",
    "\n",
    "cost_lost = {}\n",
    "for i in np.linspace(0,0.1,100):\n",
    "    pred_y = np.where(val_loss > i, 1, 0)\n",
    "    cm = confusion_matrix(y_val.flatten(), pred_y)\n",
    "    fn,fp = cm[1][0],cm[0][1]\n",
    "    # cost_lost[\"Threshold: \"+str(i)] = calculate_cost(fn,fp)\n",
    "    cost_lost[i] = calculate_cost(fn,fp)\n",
    "\n",
    "threshold = min(cost_lost, key=cost_lost.get)\n",
    "print(\"Threshold: \", threshold)"
   ]
  },
  {
   "cell_type": "code",
   "execution_count": null,
   "metadata": {},
   "outputs": [
    {
     "name": "stdout",
     "output_type": "stream",
     "text": [
      "Confusion matrix is :\n",
      "Accuracy rate is 0.405452946350044\n",
      "Sensitivity is 1.0\n"
     ]
    },
    {
     "data": {
      "image/png": "[encoded data removed]",
      "text/plain": [
       "<Figure size 432x288 with 2 Axes>"
      ]
     },
     "metadata": {
      "needs_background": "light"
     },
     "output_type": "display_data"
    }
   ],
   "source": [
    "# pred y based on the threshold\n",
    "pred_y = np.where(test_loss > threshold, 1, 0)\n",
    "cm = confusion_matrix(y_test.flatten().astype(int), pred_y)\n",
    "print(f\"Confusion matrix is :\" )\n",
    "sns.heatmap(cm, annot=True)\n",
    "accuracy_rate = (cm[0,0] + cm[1,1])/np.sum(cm)\n",
    "print(f\"Accuracy rate is {accuracy_rate}\")\n",
    "# calculate the sensitivity \n",
    "sensitivity = cm[1,1]/(cm[1,1] + cm[1,0])\n",
    "print(f\"Sensitivity is {sensitivity}\")"
   ]
  },
  {
   "cell_type": "markdown",
   "metadata": {},
   "source": [
    "# Question 9"
   ]
  },
  {
   "cell_type": "markdown",
   "metadata": {},
   "source": [
    "### Question\n",
    "As you know, it is difficult to understand precisely why a neural network makes a specific prediction. Discuss why this might be problematic when the neural network prediction leads to a fraud investigation by the insurance company. What alternatives can you envision that make use of the techniques we have applied and allow for more interpretability and transparency?\n",
    "\n",
    "### Answer\n",
    "The issue with neural network predictions in a fraud investigation is its “black box” behaviour: its internal logic in achieving the classification results is often hard to be interpreted or explained to both users and observers. If a customer is wrongly investigated for fraud by the company, they would generally demand an understanding of why they were investigated. Due to its complex intricacies, neural networks fail to explain why a claim is fraudulent despite its potentially high accuracy.\n",
    "\n",
    "Solutions to neural network anomaly detection can be recommended in two ways. Firstly the model can be improved and refined to continuously perform better after each iterative improvement. Secondly, alternative machine learning classifications can replace the neural networks to provide greater context to the decision to investigate a customer for potential fraud. Regarding the first point, several alternative neural network classification models can be suggested particularly for anomaly detection. Al’Dahoul et al., 2021 created a novel neural network strategy that “combines binary normal/attack DNN to detect the availability of any attack and multi-attacks DNN to categorize the attacks” (Al’Dahoul et al., 2021:16). This anomaly detection and classification model outperformed the baseline solution and reduced the ‘false alarm rate’ for the highly imbalanced dataset. Additionally, Long Short-Term Memory (LSTM) neural networks can be implemented to find complex relationships in multivariate time series data. This system looks at the previous timeframe and predicts the behavior for the next. If the actual value a minute later is within one standard deviation then there is no problem. Other novel classification solutions include DAICS, which is more robust to the additive noise (Abdelaty et al., 2020), GT, which eliminates the need for autoencoders and improves results (Golan & Yaniv, 2018), and E3 outlier, which uses inlier priority for unsupervised outlier detection  (Wang et al., 2019). These solutions are more accurate, and improve results such as ROC values of the models. \n",
    "\n",
    "\n",
    "There are alternative machine learning classification models that can both make use of the techniques we have applied, and also allow a much better interpretability and transparency. Decision trees, for example, can explain the features that are used to segment a claim to fraud and non-fraud, while random forests can be used to show the importance of each feature in classifying the claims. This is a better improvement for transparency, as the features can highlight the information that can potentially be linked to fraudulent behaviours. Furthermore, both random forests and decision trees can be tuned for the right hyperparameters in order to optimise the model. Decision trees can be pruned, while random forest can have hyperparameters, such as maximum number of depths, number of trees and the minimum number of samples per leaf, be fully optimised. Additionally, random forests can provide a different interpretation of a decision tree but with better performance. Considering we need to understand which combination of variables flagged a customer for investigation, a decision tree can help understand how each variable is contributing to the prediction model, despite providing a reduction in the model performance. \n",
    "\n"
   ]
  },
  {
   "cell_type": "markdown",
   "metadata": {},
   "source": [
    "# Question 10"
   ]
  },
  {
   "cell_type": "markdown",
   "metadata": {},
   "source": [
    "Trained enhanced dataset on logistic regression, decision tree and random forest\n",
    "How does your model perform compared to the previous models you have developed? \n",
    "Compare accuracy and AUC score\n",
    "Should we expect our simple models to perform better than the neural network? - to be filled later when we get the score\n",
    "Does your model allow you to answer a customer who asks, “why am I being investigated”?\n",
    "Yes - random forest can explain\n",
    "<show feature examples>\n",
    "E.g. claims that has x number of years, with this feature and this feature are classified as fraudulent. These features are heavily linked with behaviours that are associated with frauds.\n",
    "\n",
    "After training logistic regression, decision tree and random forest on our enhanced model, we found the following AUC and accuracy score for our models:\n",
    "\n",
    "Logistic Regression\n",
    "Accuracy = 97.0%\n",
    "AUC Score = 85.7%\n",
    "\n",
    "Decision Tree\n",
    "Accuracy = 97.5%\n",
    "AUC Score = 73.2%\n",
    "\n",
    "Random Forest\n",
    "Accuracy = 98.8%\n",
    "AUC Score = 85.4%\n",
    "\n",
    "We obtained favourable AUC scores when the dataset is balanced\n",
    "\n",
    "<compare score to neural networks>\n",
    "\n",
    "The tree-based classification models can help explain why claims are being marked as fraudulent. For example, a feature “ClaimWithoutIdentifiedThirdParty” is considered as one of the significant features that distinguish a claim into fraudulent, acting as one of the main features to split a sample to ‘Fraud’ and ‘Not Fraud’. This feature can be rationalised, where fraud claims are more likely to not have a third party. Furthermore, Random Forest models can also calculate the importance of each variable when determining the classification. This can highlight which features are significant in deciding the binary class.\n"
   ]
  },
  {
   "cell_type": "markdown",
   "metadata": {},
   "source": [
    "# References\n",
    "References:\n",
    "\n",
    "Abdelaty, M. F., Doriguzzi Corin, R., & Siracusa, D. (2021;2020;). DAICS: A deep learning solution for anomaly detection in industrial control systems. IEEE Transactions on Emerging Topics in Computing, , 1-1. https://doi.org/10.1109/TETC.2021.3073017\n",
    "\n",
    "AlDahoul, N., Abdul Karim, H., & Ba Wazir, A. S. (2021). Model fusion of deep neural networks for anomaly detection. Journal of Big Data, 8(1), 1-18. https://doi.org/10.1186/s40537-021-00496-w\n",
    "\n",
    "Blanque, P. (2003). Crisis and fraud. Journal of Financial Regulation and Compliance, 11(1), 60-70. https://doi.org/10.1108/13581980310810417\n",
    "\n",
    "Chakravarty, S., Demirhan, H., & Baser, F. (2020). Fuzzy regression functions with a noise cluster and the impact of outliers on mainstream machine learning methods in the regression setting. Applied Soft Computing, 96, 106535. https://doi.org/10.1016/j.asoc.2020.106535\n",
    "\n",
    "Golan, I., & El-Yaniv, R. (2018). Deep anomaly detection using geometric transformations.\n",
    "Goodfellow, I., Bengio, Y., & Courville, A. (2016). Deep Learning. MIT Press.\n",
    "\n",
    "Reed, R., & Marks, R. J. (1999). Neural smithing: Supervised learning in feedforward artificial neural networks. MIT Press. https://doi.org/10.7551/mitpress/4937.001.0001\n"
   ]
  }
 ],
 "metadata": {
  "interpreter": {
   "hash": "627f9b2e5272ed3cf653ffd46ee5493b7b24a386103372a1710032d6985d4cd7"
  },
  "kernelspec": {
   "display_name": "Python 3.8.12 ('ml')",
   "language": "python",
   "name": "python3"
  },
  "language_info": {
   "codemirror_mode": {
    "name": "ipython",
    "version": 3
   },
   "file_extension": ".py",
   "mimetype": "text/x-python",
   "name": "python",
   "nbconvert_exporter": "python",
   "pygments_lexer": "ipython3",
   "version": "3.7.7"
  },
  "orig_nbformat": 4
 },
 "nbformat": 4,
 "nbformat_minor": 2
}
